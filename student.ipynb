{
 "cells": [
  {
   "cell_type": "markdown",
   "id": "ec0a146d",
   "metadata": {},
   "source": [
    "# Hybrid Movie Recommendation System\n",
    "\n",
    "![picture](Images/image2.jpeg)\n"
   ]
  },
  {
   "cell_type": "markdown",
   "id": "d1defcf5",
   "metadata": {},
   "source": [
    "<h1>Table of Contents<span class=\"tocSkip\"></span></h1>\n",
    "<div class=\"toc\"><ul class=\"toc-item\"><li><span><a href=\"#Business-Understnding\" data-toc-modified-id=\"Business-Understnding-1\"><span class=\"toc-item-num\">1&nbsp;&nbsp;</span>Business Understnding</a></span><ul class=\"toc-item\"><li><span><a href=\"#Introduction\" data-toc-modified-id=\"Introduction-1.1\"><span class=\"toc-item-num\">1.1&nbsp;&nbsp;</span>Introduction</a></span></li><li><span><a href=\"#Problem-Statement\" data-toc-modified-id=\"Problem-Statement-1.2\"><span class=\"toc-item-num\">1.2&nbsp;&nbsp;</span>Problem Statement</a></span></li><li><span><a href=\"#Research-Questions\" data-toc-modified-id=\"Research-Questions-1.3\"><span class=\"toc-item-num\">1.3&nbsp;&nbsp;</span>Research Questions</a></span></li><li><span><a href=\"#Main-Objective\" data-toc-modified-id=\"Main-Objective-1.4\"><span class=\"toc-item-num\">1.4&nbsp;&nbsp;</span>Main Objective</a></span></li><li><span><a href=\"#Specific-Objectives\" data-toc-modified-id=\"Specific-Objectives-1.5\"><span class=\"toc-item-num\">1.5&nbsp;&nbsp;</span>Specific Objectives</a></span></li><li><span><a href=\"#Metrics-of-success\" data-toc-modified-id=\"Metrics-of-success-1.6\"><span class=\"toc-item-num\">1.6&nbsp;&nbsp;</span>Metrics of success</a></span></li></ul></li><li><span><a href=\"#Data-Understanding\" data-toc-modified-id=\"Data-Understanding-2\"><span class=\"toc-item-num\">2&nbsp;&nbsp;</span>Data Understanding</a></span></li><li><span><a href=\"#Data-Preparation\" data-toc-modified-id=\"Data-Preparation-3\"><span class=\"toc-item-num\">3&nbsp;&nbsp;</span>Data Preparation</a></span><ul class=\"toc-item\"><li><span><a href=\"#Exploratory-Data-Analysis\" data-toc-modified-id=\"Exploratory-Data-Analysis-3.1\"><span class=\"toc-item-num\">3.1&nbsp;&nbsp;</span>Exploratory Data Analysis</a></span><ul class=\"toc-item\"><li><span><a href=\"#Rating-Value-Counts\" data-toc-modified-id=\"Rating-Value-Counts-3.1.1\"><span class=\"toc-item-num\">3.1.1&nbsp;&nbsp;</span>Rating Value Counts</a></span></li><li><span><a href=\"#Top-Most-Watched-Movies\" data-toc-modified-id=\"Top-Most-Watched-Movies-3.1.2\"><span class=\"toc-item-num\">3.1.2&nbsp;&nbsp;</span>Top Most Watched Movies</a></span></li><li><span><a href=\"#Top-Most-Rated-Movies\" data-toc-modified-id=\"Top-Most-Rated-Movies-3.1.3\"><span class=\"toc-item-num\">3.1.3&nbsp;&nbsp;</span>Top Most Rated Movies</a></span></li><li><span><a href=\"#Top-Active-Users.\" data-toc-modified-id=\"Top-Active-Users.-3.1.4\"><span class=\"toc-item-num\">3.1.4&nbsp;&nbsp;</span>Top Active Users.</a></span></li></ul></li></ul></li><li><span><a href=\"#Modelling\" data-toc-modified-id=\"Modelling-4\"><span class=\"toc-item-num\">4&nbsp;&nbsp;</span>Modelling</a></span><ul class=\"toc-item\"><li><span><a href=\"#Content-Based-Recommender-Systems\" data-toc-modified-id=\"Content-Based-Recommender-Systems-4.1\"><span class=\"toc-item-num\">4.1&nbsp;&nbsp;</span>Content-Based Recommender Systems</a></span></li><li><span><a href=\"#Collaborative-Filtering\" data-toc-modified-id=\"Collaborative-Filtering-4.2\"><span class=\"toc-item-num\">4.2&nbsp;&nbsp;</span>Collaborative Filtering</a></span><ul class=\"toc-item\"><li><span><a href=\"#Neighborhood-Based-Models.\" data-toc-modified-id=\"Neighborhood-Based-Models.-4.2.1\"><span class=\"toc-item-num\">4.2.1&nbsp;&nbsp;</span>Neighborhood-Based Models.</a></span></li><li><span><a href=\"#Model-Based-Models\" data-toc-modified-id=\"Model-Based-Models-4.2.2\"><span class=\"toc-item-num\">4.2.2&nbsp;&nbsp;</span>Model Based Models</a></span></li></ul></li><li><span><a href=\"#Hybrid-Recommender-Systems\" data-toc-modified-id=\"Hybrid-Recommender-Systems-4.3\"><span class=\"toc-item-num\">4.3&nbsp;&nbsp;</span>Hybrid Recommender Systems</a></span></li></ul></li><li><span><a href=\"#Conclusions\" data-toc-modified-id=\"Conclusions-5\"><span class=\"toc-item-num\">5&nbsp;&nbsp;</span>Conclusions</a></span></li><li><span><a href=\"#Recommendations\" data-toc-modified-id=\"Recommendations-6\"><span class=\"toc-item-num\">6&nbsp;&nbsp;</span>Recommendations</a></span></li></ul></div>"
   ]
  },
  {
   "cell_type": "markdown",
   "id": "83faa5f2",
   "metadata": {},
   "source": [
    "## Business Understnding\n",
    "\n",
    "### Introduction\n",
    "Movies are a popular, widely spread and recognised form of entartainment that has evolved drastically since its emergence in the 19th Centuatry. Movies have become easily accessible with advancement in technology, as filming has evolved from thearter streaming to online streaming, which has become dormnant over the past decade.This has resulted to the emergence of online film streaming platforms, like Netflix, Hulu and Amazon Prime, which provide convenient streaming services to users online and apply regular streaming charges.\n",
    "\n",
    "StreamHd is an emerging online streaming platform, that provides access to a wide database of quality and high resolution films to its users under fair prices and at fast streaming speeds. Its has gained a troumentous pool of users and familiarity widely as a result seeking to upgrade its online platform and services. Inorder to offer a competitive advantage to its rivals i.e. Netflix, Hulu and Amazon Prime, StreamHd must venture into implementing recommendation systems and tap into the wide pool of possibilities that they offer. Also, being part of the organisation analystical team, have been tasked with analysing the platform's user and movie database and come up with actionable solutions and insights that will offer users a premium streaming experience and boost revenue collection.\n",
    "\n",
    "### Problem Statement\n",
    "StreamHd, movie streaming platform, is rapidly growing on its user pool and familiarity but still relies on its obsolete online infrastructure and service delivary mechanisms on its platform. As a result its experiencing a depreciating service delivary to its users and reduced revenue collections and as a result they are  persuing revolutionalization of its online technologies.\n",
    "\n",
    "Inorder to solve the problem of **depreciating service delivary and reducting revenue collections of the organisation's online streaming platform**,and as a member of the orginasations analystics team, will undertake analysis of the platforms movie database and **develope strategies that will improve revenue collections. Also develope a hybrid recommendation system that will offer personalized recomendations to user hence exposing them to a wide pool of films and increasing their purchasing thresholds while eventually improving customer satisfaction and services.**\n",
    "\n",
    "### Research Questions\n",
    "1. Which users have the most movies watched\n",
    "2. Which are the most watched movies and genres \n",
    "3. Which are the most rated movies and genres\n",
    "4. Which is the most frequently awarded rating \n",
    "\n",
    "\n",
    "### Main Objective\n",
    "The project is aimed at, developing a hybrid recommendation system that will, offer personalized recommendations to users while exposing users to a wide pool of movies/films, improve user satisfaction & servide delivary and increasing user purchasing thresholds as a result increasing revenue collection. Also we will explore the dataset and come up with strategies that wil be crucial in improving revenue pools while offering a premium streaming experience .\n",
    "\n",
    "### Specific Objectives\n",
    "1. Identify Top 5 most rated and watched genres\n",
    "2. Top 5 users with the most watched movies\n",
    "3. Develope a Content-based recommendation system\n",
    "4. Develop a Collaborative Filtering recommendation system\n",
    "5. Solve the cold start problem by implementing a hybrid recommendation system\n",
    "\n",
    "### Metrics of success\n",
    "* To develope a hybrid recommendation system the uses both content-based and collaborative filtering models inorder to solve the cold start problem\n",
    "* Provide actionable solutions that can lead to improves customer satisfaction and increased revenue collections. "
   ]
  },
  {
   "cell_type": "markdown",
   "id": "adab12ba",
   "metadata": {},
   "source": [
    "## Data Understanding\n",
    "The datasets used in this project, were extracted from a movie database, [MovieLens](https://grouplens.org/datasets/movielens/latest/), and they include information about 610 user ratings on 9,742 movies with each user having atleast 20 ratings. They were collected between the period March 29, 1996 and September 24, 2018 and generated on September 26, 2018 where users were selected at random for inclusion,the datasets include;\n",
    "> **movies.csv**: the dataset contains information about all the rated movies, with 9,742 rows and 3 columns , **movieId**, **movie title** and **genres**.\n",
    "\n",
    "> **ratings.csv**: the dataset represents all the movies each user has rated contains 100,836 rows and 3 columns namely, **userId**, **movieId** and **rating** with 610 unique userIds , 9724  movieIds and 100,836 ratings.\n",
    "\n",
    "\n",
    "For download of the dataset's, view the [Link](https://grouplens.org/datasets/movielens/latest/).\n",
    "\n",
    "The information contained in this dataset will be used to train out models and in development of the recommender systems."
   ]
  },
  {
   "cell_type": "code",
   "execution_count": 59,
   "id": "7a4d32c2",
   "metadata": {},
   "outputs": [],
   "source": [
    "# loading necessary libraries\n",
    "\n",
    "import numpy as np\n",
    "import pandas as pd\n",
    "import matplotlib.pyplot as plt\n",
    "import seaborn as sns\n",
    "from sklearn.feature_extraction.text import CountVectorizer\n",
    "from sklearn.metrics.pairwise import cosine_similarity\n",
    "from surprise import Reader , Dataset\n",
    "from surprise.model_selection import cross_validate, train_test_split\n",
    "from surprise.prediction_algorithms import SVD\n",
    "from surprise.prediction_algorithms import KNNWithMeans, KNNBasic, KNNBaseline\n",
    "from surprise.model_selection import GridSearchCV\n",
    "\n",
    "\n",
    "# plotting styles\n",
    "plt.style.use(\"fivethirtyeight\")\n",
    "%matplotlib inline"
   ]
  },
  {
   "cell_type": "code",
   "execution_count": 2,
   "id": "9f41653e",
   "metadata": {},
   "outputs": [
    {
     "data": {
      "text/html": [
       "<div>\n",
       "<style scoped>\n",
       "    .dataframe tbody tr th:only-of-type {\n",
       "        vertical-align: middle;\n",
       "    }\n",
       "\n",
       "    .dataframe tbody tr th {\n",
       "        vertical-align: top;\n",
       "    }\n",
       "\n",
       "    .dataframe thead th {\n",
       "        text-align: right;\n",
       "    }\n",
       "</style>\n",
       "<table border=\"1\" class=\"dataframe\">\n",
       "  <thead>\n",
       "    <tr style=\"text-align: right;\">\n",
       "      <th></th>\n",
       "      <th>movieId</th>\n",
       "      <th>title</th>\n",
       "      <th>genres</th>\n",
       "    </tr>\n",
       "  </thead>\n",
       "  <tbody>\n",
       "    <tr>\n",
       "      <th>0</th>\n",
       "      <td>1</td>\n",
       "      <td>Toy Story (1995)</td>\n",
       "      <td>Adventure|Animation|Children|Comedy|Fantasy</td>\n",
       "    </tr>\n",
       "    <tr>\n",
       "      <th>1</th>\n",
       "      <td>2</td>\n",
       "      <td>Jumanji (1995)</td>\n",
       "      <td>Adventure|Children|Fantasy</td>\n",
       "    </tr>\n",
       "    <tr>\n",
       "      <th>2</th>\n",
       "      <td>3</td>\n",
       "      <td>Grumpier Old Men (1995)</td>\n",
       "      <td>Comedy|Romance</td>\n",
       "    </tr>\n",
       "    <tr>\n",
       "      <th>3</th>\n",
       "      <td>4</td>\n",
       "      <td>Waiting to Exhale (1995)</td>\n",
       "      <td>Comedy|Drama|Romance</td>\n",
       "    </tr>\n",
       "    <tr>\n",
       "      <th>4</th>\n",
       "      <td>5</td>\n",
       "      <td>Father of the Bride Part II (1995)</td>\n",
       "      <td>Comedy</td>\n",
       "    </tr>\n",
       "  </tbody>\n",
       "</table>\n",
       "</div>"
      ],
      "text/plain": [
       "   movieId                               title   \n",
       "0        1                    Toy Story (1995)  \\\n",
       "1        2                      Jumanji (1995)   \n",
       "2        3             Grumpier Old Men (1995)   \n",
       "3        4            Waiting to Exhale (1995)   \n",
       "4        5  Father of the Bride Part II (1995)   \n",
       "\n",
       "                                        genres  \n",
       "0  Adventure|Animation|Children|Comedy|Fantasy  \n",
       "1                   Adventure|Children|Fantasy  \n",
       "2                               Comedy|Romance  \n",
       "3                         Comedy|Drama|Romance  \n",
       "4                                       Comedy  "
      ]
     },
     "execution_count": 2,
     "metadata": {},
     "output_type": "execute_result"
    }
   ],
   "source": [
    "# loading the movies.csv file \n",
    "movies_df=pd.read_csv('./data/movies.csv')\n",
    "\n",
    "#printing the first 5 rows\n",
    "movies_df.head()"
   ]
  },
  {
   "cell_type": "code",
   "execution_count": 3,
   "id": "2731138f",
   "metadata": {},
   "outputs": [
    {
     "name": "stdout",
     "output_type": "stream",
     "text": [
      "<class 'pandas.core.frame.DataFrame'>\n",
      "RangeIndex: 9742 entries, 0 to 9741\n",
      "Data columns (total 3 columns):\n",
      " #   Column   Non-Null Count  Dtype \n",
      "---  ------   --------------  ----- \n",
      " 0   movieId  9742 non-null   int64 \n",
      " 1   title    9742 non-null   object\n",
      " 2   genres   9742 non-null   object\n",
      "dtypes: int64(1), object(2)\n",
      "memory usage: 228.5+ KB\n"
     ]
    }
   ],
   "source": [
    "# viewing the datasets features/columns\n",
    "movies_df.info()"
   ]
  },
  {
   "cell_type": "code",
   "execution_count": 4,
   "id": "89470d94",
   "metadata": {},
   "outputs": [
    {
     "name": "stdout",
     "output_type": "stream",
     "text": [
      "Number of Movies:  9742\n"
     ]
    }
   ],
   "source": [
    "#number of movies in the dataset\n",
    "print(\"Number of Movies: \", movies_df.movieId.nunique())"
   ]
  },
  {
   "cell_type": "code",
   "execution_count": 5,
   "id": "594ee371",
   "metadata": {},
   "outputs": [
    {
     "data": {
      "text/html": [
       "<div>\n",
       "<style scoped>\n",
       "    .dataframe tbody tr th:only-of-type {\n",
       "        vertical-align: middle;\n",
       "    }\n",
       "\n",
       "    .dataframe tbody tr th {\n",
       "        vertical-align: top;\n",
       "    }\n",
       "\n",
       "    .dataframe thead th {\n",
       "        text-align: right;\n",
       "    }\n",
       "</style>\n",
       "<table border=\"1\" class=\"dataframe\">\n",
       "  <thead>\n",
       "    <tr style=\"text-align: right;\">\n",
       "      <th></th>\n",
       "      <th>userId</th>\n",
       "      <th>movieId</th>\n",
       "      <th>rating</th>\n",
       "      <th>timestamp</th>\n",
       "    </tr>\n",
       "  </thead>\n",
       "  <tbody>\n",
       "    <tr>\n",
       "      <th>0</th>\n",
       "      <td>1</td>\n",
       "      <td>1</td>\n",
       "      <td>4.0</td>\n",
       "      <td>964982703</td>\n",
       "    </tr>\n",
       "    <tr>\n",
       "      <th>1</th>\n",
       "      <td>1</td>\n",
       "      <td>3</td>\n",
       "      <td>4.0</td>\n",
       "      <td>964981247</td>\n",
       "    </tr>\n",
       "    <tr>\n",
       "      <th>2</th>\n",
       "      <td>1</td>\n",
       "      <td>6</td>\n",
       "      <td>4.0</td>\n",
       "      <td>964982224</td>\n",
       "    </tr>\n",
       "    <tr>\n",
       "      <th>3</th>\n",
       "      <td>1</td>\n",
       "      <td>47</td>\n",
       "      <td>5.0</td>\n",
       "      <td>964983815</td>\n",
       "    </tr>\n",
       "    <tr>\n",
       "      <th>4</th>\n",
       "      <td>1</td>\n",
       "      <td>50</td>\n",
       "      <td>5.0</td>\n",
       "      <td>964982931</td>\n",
       "    </tr>\n",
       "  </tbody>\n",
       "</table>\n",
       "</div>"
      ],
      "text/plain": [
       "   userId  movieId  rating  timestamp\n",
       "0       1        1     4.0  964982703\n",
       "1       1        3     4.0  964981247\n",
       "2       1        6     4.0  964982224\n",
       "3       1       47     5.0  964983815\n",
       "4       1       50     5.0  964982931"
      ]
     },
     "execution_count": 5,
     "metadata": {},
     "output_type": "execute_result"
    }
   ],
   "source": [
    "# Loading the second dataset, ratings.csv file\n",
    "ratings_df=pd.read_csv('./data/ratings.csv')\n",
    "\n",
    "#printinh the first 5 rows\n",
    "ratings_df.head()"
   ]
  },
  {
   "cell_type": "code",
   "execution_count": 6,
   "id": "6c7d4179",
   "metadata": {
    "scrolled": true
   },
   "outputs": [
    {
     "name": "stdout",
     "output_type": "stream",
     "text": [
      "<class 'pandas.core.frame.DataFrame'>\n",
      "RangeIndex: 100836 entries, 0 to 100835\n",
      "Data columns (total 4 columns):\n",
      " #   Column     Non-Null Count   Dtype  \n",
      "---  ------     --------------   -----  \n",
      " 0   userId     100836 non-null  int64  \n",
      " 1   movieId    100836 non-null  int64  \n",
      " 2   rating     100836 non-null  float64\n",
      " 3   timestamp  100836 non-null  int64  \n",
      "dtypes: float64(1), int64(3)\n",
      "memory usage: 3.1 MB\n"
     ]
    }
   ],
   "source": [
    "# viewing the datasets features/columns\n",
    "ratings_df.info()"
   ]
  },
  {
   "cell_type": "code",
   "execution_count": 7,
   "id": "ee18c3cd",
   "metadata": {},
   "outputs": [
    {
     "name": "stdout",
     "output_type": "stream",
     "text": [
      "Number of Users:  610\n",
      "Number of Movies:  9724\n",
      "Number of Ratings:  100836\n"
     ]
    }
   ],
   "source": [
    "# number of users and movies in the dataset\n",
    "print(\"Number of Users: \", ratings_df.userId.nunique())\n",
    "print(\"Number of Movies: \", ratings_df.movieId.nunique())\n",
    "print(\"Number of Ratings: \", ratings_df.shape[0])"
   ]
  },
  {
   "cell_type": "code",
   "execution_count": 8,
   "id": "d3d3201d",
   "metadata": {},
   "outputs": [
    {
     "data": {
      "text/html": [
       "<div>\n",
       "<style scoped>\n",
       "    .dataframe tbody tr th:only-of-type {\n",
       "        vertical-align: middle;\n",
       "    }\n",
       "\n",
       "    .dataframe tbody tr th {\n",
       "        vertical-align: top;\n",
       "    }\n",
       "\n",
       "    .dataframe thead th {\n",
       "        text-align: right;\n",
       "    }\n",
       "</style>\n",
       "<table border=\"1\" class=\"dataframe\">\n",
       "  <thead>\n",
       "    <tr style=\"text-align: right;\">\n",
       "      <th></th>\n",
       "      <th>userId</th>\n",
       "      <th>movieId</th>\n",
       "      <th>rating</th>\n",
       "      <th>timestamp</th>\n",
       "    </tr>\n",
       "  </thead>\n",
       "  <tbody>\n",
       "    <tr>\n",
       "      <th>count</th>\n",
       "      <td>100836.000000</td>\n",
       "      <td>100836.000000</td>\n",
       "      <td>100836.000000</td>\n",
       "      <td>1.008360e+05</td>\n",
       "    </tr>\n",
       "    <tr>\n",
       "      <th>mean</th>\n",
       "      <td>326.127564</td>\n",
       "      <td>19435.295718</td>\n",
       "      <td>3.501557</td>\n",
       "      <td>1.205946e+09</td>\n",
       "    </tr>\n",
       "    <tr>\n",
       "      <th>std</th>\n",
       "      <td>182.618491</td>\n",
       "      <td>35530.987199</td>\n",
       "      <td>1.042529</td>\n",
       "      <td>2.162610e+08</td>\n",
       "    </tr>\n",
       "    <tr>\n",
       "      <th>min</th>\n",
       "      <td>1.000000</td>\n",
       "      <td>1.000000</td>\n",
       "      <td>0.500000</td>\n",
       "      <td>8.281246e+08</td>\n",
       "    </tr>\n",
       "    <tr>\n",
       "      <th>25%</th>\n",
       "      <td>177.000000</td>\n",
       "      <td>1199.000000</td>\n",
       "      <td>3.000000</td>\n",
       "      <td>1.019124e+09</td>\n",
       "    </tr>\n",
       "    <tr>\n",
       "      <th>50%</th>\n",
       "      <td>325.000000</td>\n",
       "      <td>2991.000000</td>\n",
       "      <td>3.500000</td>\n",
       "      <td>1.186087e+09</td>\n",
       "    </tr>\n",
       "    <tr>\n",
       "      <th>75%</th>\n",
       "      <td>477.000000</td>\n",
       "      <td>8122.000000</td>\n",
       "      <td>4.000000</td>\n",
       "      <td>1.435994e+09</td>\n",
       "    </tr>\n",
       "    <tr>\n",
       "      <th>max</th>\n",
       "      <td>610.000000</td>\n",
       "      <td>193609.000000</td>\n",
       "      <td>5.000000</td>\n",
       "      <td>1.537799e+09</td>\n",
       "    </tr>\n",
       "  </tbody>\n",
       "</table>\n",
       "</div>"
      ],
      "text/plain": [
       "              userId        movieId         rating     timestamp\n",
       "count  100836.000000  100836.000000  100836.000000  1.008360e+05\n",
       "mean      326.127564   19435.295718       3.501557  1.205946e+09\n",
       "std       182.618491   35530.987199       1.042529  2.162610e+08\n",
       "min         1.000000       1.000000       0.500000  8.281246e+08\n",
       "25%       177.000000    1199.000000       3.000000  1.019124e+09\n",
       "50%       325.000000    2991.000000       3.500000  1.186087e+09\n",
       "75%       477.000000    8122.000000       4.000000  1.435994e+09\n",
       "max       610.000000  193609.000000       5.000000  1.537799e+09"
      ]
     },
     "execution_count": 8,
     "metadata": {},
     "output_type": "execute_result"
    }
   ],
   "source": [
    "# viewing the ratings dataframe summary statistics\n",
    "ratings_df.describe()"
   ]
  },
  {
   "cell_type": "markdown",
   "id": "5f2ffe5d",
   "metadata": {},
   "source": [
    "* We discover that the average rating in our ratings dataset is 3.5 with majority of the movies having a rating above 3."
   ]
  },
  {
   "cell_type": "markdown",
   "id": "1b3b98bd",
   "metadata": {},
   "source": [
    "## Data Preparation\n",
    "In this section, we will perform data cleaning to prepare the dataset for analysis, the various data cleaning methods that are to be used will be;\n",
    "- Droping Irrelevant columns\n",
    "- Feature Engineering\n",
    "- Checking and removing duplicates \n",
    "- Checking Dealing with missing data "
   ]
  },
  {
   "cell_type": "markdown",
   "id": "7f689899",
   "metadata": {},
   "source": [
    "* The **timestamp** column will be dropped since it will not be helpful in analysis."
   ]
  },
  {
   "cell_type": "code",
   "execution_count": 9,
   "id": "3a3d2d0b",
   "metadata": {},
   "outputs": [],
   "source": [
    "# droping the unrequired column timestamp\n",
    "ratings_df.drop('timestamp', axis=1, inplace=True)"
   ]
  },
  {
   "cell_type": "markdown",
   "id": "dcab78e0",
   "metadata": {},
   "source": [
    "* For easier analysis and visualisation, we will merge the two dataframes **movies_df** and **ratings_df** into one dataframe **movies** dataframe using the common shared column **movieId** as the primary key. "
   ]
  },
  {
   "cell_type": "code",
   "execution_count": 10,
   "id": "99b96e87",
   "metadata": {
    "scrolled": true
   },
   "outputs": [
    {
     "data": {
      "text/html": [
       "<div>\n",
       "<style scoped>\n",
       "    .dataframe tbody tr th:only-of-type {\n",
       "        vertical-align: middle;\n",
       "    }\n",
       "\n",
       "    .dataframe tbody tr th {\n",
       "        vertical-align: top;\n",
       "    }\n",
       "\n",
       "    .dataframe thead th {\n",
       "        text-align: right;\n",
       "    }\n",
       "</style>\n",
       "<table border=\"1\" class=\"dataframe\">\n",
       "  <thead>\n",
       "    <tr style=\"text-align: right;\">\n",
       "      <th></th>\n",
       "      <th>userId</th>\n",
       "      <th>movieId</th>\n",
       "      <th>rating</th>\n",
       "      <th>title</th>\n",
       "      <th>genres</th>\n",
       "    </tr>\n",
       "  </thead>\n",
       "  <tbody>\n",
       "    <tr>\n",
       "      <th>0</th>\n",
       "      <td>1</td>\n",
       "      <td>1</td>\n",
       "      <td>4.0</td>\n",
       "      <td>Toy Story (1995)</td>\n",
       "      <td>Adventure|Animation|Children|Comedy|Fantasy</td>\n",
       "    </tr>\n",
       "    <tr>\n",
       "      <th>1</th>\n",
       "      <td>1</td>\n",
       "      <td>3</td>\n",
       "      <td>4.0</td>\n",
       "      <td>Grumpier Old Men (1995)</td>\n",
       "      <td>Comedy|Romance</td>\n",
       "    </tr>\n",
       "    <tr>\n",
       "      <th>2</th>\n",
       "      <td>1</td>\n",
       "      <td>6</td>\n",
       "      <td>4.0</td>\n",
       "      <td>Heat (1995)</td>\n",
       "      <td>Action|Crime|Thriller</td>\n",
       "    </tr>\n",
       "    <tr>\n",
       "      <th>3</th>\n",
       "      <td>1</td>\n",
       "      <td>47</td>\n",
       "      <td>5.0</td>\n",
       "      <td>Seven (a.k.a. Se7en) (1995)</td>\n",
       "      <td>Mystery|Thriller</td>\n",
       "    </tr>\n",
       "    <tr>\n",
       "      <th>4</th>\n",
       "      <td>1</td>\n",
       "      <td>50</td>\n",
       "      <td>5.0</td>\n",
       "      <td>Usual Suspects, The (1995)</td>\n",
       "      <td>Crime|Mystery|Thriller</td>\n",
       "    </tr>\n",
       "  </tbody>\n",
       "</table>\n",
       "</div>"
      ],
      "text/plain": [
       "   userId  movieId  rating                        title   \n",
       "0       1        1     4.0             Toy Story (1995)  \\\n",
       "1       1        3     4.0      Grumpier Old Men (1995)   \n",
       "2       1        6     4.0                  Heat (1995)   \n",
       "3       1       47     5.0  Seven (a.k.a. Se7en) (1995)   \n",
       "4       1       50     5.0   Usual Suspects, The (1995)   \n",
       "\n",
       "                                        genres  \n",
       "0  Adventure|Animation|Children|Comedy|Fantasy  \n",
       "1                               Comedy|Romance  \n",
       "2                        Action|Crime|Thriller  \n",
       "3                             Mystery|Thriller  \n",
       "4                       Crime|Mystery|Thriller  "
      ]
     },
     "execution_count": 10,
     "metadata": {},
     "output_type": "execute_result"
    }
   ],
   "source": [
    "# combining the two datasets using the movieId primary key\n",
    "# using a left join to avoid implicit nan values\n",
    "movies=pd.merge(left=ratings_df, right=movies_df[['movieId','title','genres']],  how = 'left' , on='movieId')\n",
    "movies.head()"
   ]
  },
  {
   "cell_type": "markdown",
   "id": "7f14040e",
   "metadata": {},
   "source": [
    "* Feature engineering, by calculating a new column **avg_rating** that represents the average rating for each movie across all the users that have rated it"
   ]
  },
  {
   "cell_type": "code",
   "execution_count": 11,
   "id": "6974d873",
   "metadata": {},
   "outputs": [
    {
     "data": {
      "text/html": [
       "<div>\n",
       "<style scoped>\n",
       "    .dataframe tbody tr th:only-of-type {\n",
       "        vertical-align: middle;\n",
       "    }\n",
       "\n",
       "    .dataframe tbody tr th {\n",
       "        vertical-align: top;\n",
       "    }\n",
       "\n",
       "    .dataframe thead th {\n",
       "        text-align: right;\n",
       "    }\n",
       "</style>\n",
       "<table border=\"1\" class=\"dataframe\">\n",
       "  <thead>\n",
       "    <tr style=\"text-align: right;\">\n",
       "      <th></th>\n",
       "      <th>userId</th>\n",
       "      <th>movieId</th>\n",
       "      <th>rating</th>\n",
       "      <th>title</th>\n",
       "      <th>genres</th>\n",
       "      <th>avg_rating</th>\n",
       "    </tr>\n",
       "  </thead>\n",
       "  <tbody>\n",
       "    <tr>\n",
       "      <th>0</th>\n",
       "      <td>1</td>\n",
       "      <td>1</td>\n",
       "      <td>4.0</td>\n",
       "      <td>Toy Story (1995)</td>\n",
       "      <td>Adventure|Animation|Children|Comedy|Fantasy</td>\n",
       "      <td>3.92</td>\n",
       "    </tr>\n",
       "    <tr>\n",
       "      <th>1</th>\n",
       "      <td>1</td>\n",
       "      <td>3</td>\n",
       "      <td>4.0</td>\n",
       "      <td>Grumpier Old Men (1995)</td>\n",
       "      <td>Comedy|Romance</td>\n",
       "      <td>3.26</td>\n",
       "    </tr>\n",
       "    <tr>\n",
       "      <th>2</th>\n",
       "      <td>1</td>\n",
       "      <td>6</td>\n",
       "      <td>4.0</td>\n",
       "      <td>Heat (1995)</td>\n",
       "      <td>Action|Crime|Thriller</td>\n",
       "      <td>3.95</td>\n",
       "    </tr>\n",
       "    <tr>\n",
       "      <th>3</th>\n",
       "      <td>1</td>\n",
       "      <td>47</td>\n",
       "      <td>5.0</td>\n",
       "      <td>Seven (a.k.a. Se7en) (1995)</td>\n",
       "      <td>Mystery|Thriller</td>\n",
       "      <td>3.98</td>\n",
       "    </tr>\n",
       "    <tr>\n",
       "      <th>4</th>\n",
       "      <td>1</td>\n",
       "      <td>50</td>\n",
       "      <td>5.0</td>\n",
       "      <td>Usual Suspects, The (1995)</td>\n",
       "      <td>Crime|Mystery|Thriller</td>\n",
       "      <td>4.24</td>\n",
       "    </tr>\n",
       "  </tbody>\n",
       "</table>\n",
       "</div>"
      ],
      "text/plain": [
       "   userId  movieId  rating                        title   \n",
       "0       1        1     4.0             Toy Story (1995)  \\\n",
       "1       1        3     4.0      Grumpier Old Men (1995)   \n",
       "2       1        6     4.0                  Heat (1995)   \n",
       "3       1       47     5.0  Seven (a.k.a. Se7en) (1995)   \n",
       "4       1       50     5.0   Usual Suspects, The (1995)   \n",
       "\n",
       "                                        genres  avg_rating  \n",
       "0  Adventure|Animation|Children|Comedy|Fantasy        3.92  \n",
       "1                               Comedy|Romance        3.26  \n",
       "2                        Action|Crime|Thriller        3.95  \n",
       "3                             Mystery|Thriller        3.98  \n",
       "4                       Crime|Mystery|Thriller        4.24  "
      ]
     },
     "execution_count": 11,
     "metadata": {},
     "output_type": "execute_result"
    }
   ],
   "source": [
    "# defining a fucntion that gives each movie an average rating \n",
    "#according to  theall ratings it has received from different users\n",
    "\n",
    "def avg_rating(df):\n",
    "    \"\"\" \n",
    "    Takes a dataframe as an argument and calculates average rating for each movie \n",
    "    across all the users that have rated it\n",
    "    \"\"\"\n",
    "# using a for loop to iterate over all the unique movie ids\n",
    "    for m_id in df.movieId.unique():\n",
    "        mean=df.loc[df.movieId==m_id,'rating'].mean()        # we filter the dataframe for each movie Id and find the mean\n",
    "        mean=np.round(mean,2)                                # Round the mean value to 2 decimals\n",
    "        # creating a new column called 'avg_rating'\n",
    "        df.loc[df.movieId== m_id, ('avg_rating')]=mean       # then assign all the movies with that id with the mean value\n",
    "    \n",
    "    # returns the dataframe\n",
    "    return df\n",
    "\n",
    "# running the function on our dataframe\n",
    "movies=avg_rating(movies)\n",
    "movies.head()"
   ]
  },
  {
   "cell_type": "code",
   "execution_count": 13,
   "id": "f7b411a9",
   "metadata": {
    "scrolled": true
   },
   "outputs": [
    {
     "name": "stdout",
     "output_type": "stream",
     "text": [
      "Duplicates:  0\n",
      "Null values:\n",
      "--------------\n",
      " userId        0\n",
      "movieId       0\n",
      "rating        0\n",
      "title         0\n",
      "genres        0\n",
      "avg_rating    0\n",
      "dtype: int64\n"
     ]
    }
   ],
   "source": [
    "# checking for duplicatedsand null values in our ratings dataframe\n",
    "print(\"Duplicates: \",movies.duplicated().sum())\n",
    "print(\"Null values:\\n--------------\\n\",movies.isna().sum())"
   ]
  },
  {
   "cell_type": "markdown",
   "id": "3c2a5010",
   "metadata": {},
   "source": [
    "* since there are no duplicates and missing values, we'll then clean our genres column by replacing the **\"|\"** symbols with commas **\",\"**."
   ]
  },
  {
   "cell_type": "code",
   "execution_count": 14,
   "id": "bae589bd",
   "metadata": {},
   "outputs": [
    {
     "name": "stdout",
     "output_type": "stream",
     "text": [
      "0    Adventure|Animation|Children|Comedy|Fantasy\n",
      "1                                 Comedy|Romance\n",
      "2                          Action|Crime|Thriller\n",
      "3                               Mystery|Thriller\n",
      "4                         Crime|Mystery|Thriller\n",
      "Name: genres, dtype: object\n",
      "0    Adventure,Animation,Children,Comedy,Fantasy\n",
      "1                                 Comedy,Romance\n",
      "2                          Action,Crime,Thriller\n",
      "3                               Mystery,Thriller\n",
      "4                         Crime,Mystery,Thriller\n",
      "Name: genres, dtype: object\n"
     ]
    }
   ],
   "source": [
    "# cleaning the genres column\n",
    "print(movies.genres[:5])\n",
    "\n",
    "#replacing the \"|\" marks with commas ',' in the genre column\n",
    "movies.genres=movies.genres.apply( lambda x: x.replace('|',','))\n",
    "print()\n",
    "print(movies.genres[:5])"
   ]
  },
  {
   "cell_type": "markdown",
   "id": "3a8979f6",
   "metadata": {},
   "source": [
    "### Exploratory Data Analysis\n",
    "In this section, we will explore the dataset exhaustively to gain a better understanding andas a result exploring the various research questions in the process. \n",
    "\n",
    "#### Rating Value Counts"
   ]
  },
  {
   "cell_type": "code",
   "execution_count": 60,
   "id": "20a54715",
   "metadata": {},
   "outputs": [
    {
     "data": {
      "image/png": "[encoded data removed]",
      "text/plain": [
       "<Figure size 700x400 with 1 Axes>"
      ]
     },
     "metadata": {},
     "output_type": "display_data"
    }
   ],
   "source": [
    "# plotting the rating counts\n",
    "fig, ax=plt.subplots(figsize=(7,4))\n",
    "sns.countplot(data=movies , x='rating', ax=ax)\n",
    "ax.set_ylabel(\"Count\")\n",
    "ax.set_xlabel(\"Rating\")\n",
    "ax.set_title(\"Rating Counts\");"
   ]
  },
  {
   "cell_type": "markdown",
   "id": "9197619e",
   "metadata": {},
   "source": [
    "> From the graph above; majority of movie ratings in our dataset are 3.0 and above, with 3.0 and 4.0 being the frequently awarded movie ratings.\n",
    "\n",
    "#### Top Most Watched Movies"
   ]
  },
  {
   "cell_type": "code",
   "execution_count": 61,
   "id": "b6010c27",
   "metadata": {},
   "outputs": [
    {
     "data": {
      "image/png": "[encoded data removed]",
      "text/plain": [
       "<Figure size 1000x500 with 1 Axes>"
      ]
     },
     "metadata": {},
     "output_type": "display_data"
    }
   ],
   "source": [
    "# first we group the data according to movie titles\n",
    "# and the arrang in descending order of the counts\n",
    "data=movies.groupby('title')[['userId']].count().sort_values(by='userId',ascending=False)\n",
    "data\n",
    "\n",
    "# plotting the grouped data and plotting the top 10 movies\n",
    "fig, ax=plt.subplots(figsize=(10,5))\n",
    "sns.barplot(data=data[:10] , x='userId',y=data[:10].index , ax=ax)\n",
    "ax.set_ylabel(\"Movies\")\n",
    "ax.set_xlabel(\"Count\")\n",
    "ax.set_title(\"Top 10 Most Watched Movies\")\n",
    "ax.bar_label(ax.containers[0],padding=3);"
   ]
  },
  {
   "cell_type": "code",
   "execution_count": 24,
   "id": "b5cb0544",
   "metadata": {},
   "outputs": [
    {
     "data": {
      "text/html": [
       "<div>\n",
       "<style scoped>\n",
       "    .dataframe tbody tr th:only-of-type {\n",
       "        vertical-align: middle;\n",
       "    }\n",
       "\n",
       "    .dataframe tbody tr th {\n",
       "        vertical-align: top;\n",
       "    }\n",
       "\n",
       "    .dataframe thead th {\n",
       "        text-align: right;\n",
       "    }\n",
       "</style>\n",
       "<table border=\"1\" class=\"dataframe\">\n",
       "  <thead>\n",
       "    <tr style=\"text-align: right;\">\n",
       "      <th></th>\n",
       "      <th>userId</th>\n",
       "      <th>movieId</th>\n",
       "      <th>rating</th>\n",
       "      <th>title</th>\n",
       "      <th>genres</th>\n",
       "      <th>avg_rating</th>\n",
       "    </tr>\n",
       "  </thead>\n",
       "  <tbody>\n",
       "    <tr>\n",
       "      <th>16</th>\n",
       "      <td>1</td>\n",
       "      <td>296</td>\n",
       "      <td>3.0</td>\n",
       "      <td>Pulp Fiction (1994)</td>\n",
       "      <td>Comedy,Crime,Drama,Thriller</td>\n",
       "      <td>4.20</td>\n",
       "    </tr>\n",
       "    <tr>\n",
       "      <th>20</th>\n",
       "      <td>1</td>\n",
       "      <td>356</td>\n",
       "      <td>4.0</td>\n",
       "      <td>Forrest Gump (1994)</td>\n",
       "      <td>Comedy,Drama,Romance,War</td>\n",
       "      <td>4.16</td>\n",
       "    </tr>\n",
       "    <tr>\n",
       "      <th>34</th>\n",
       "      <td>1</td>\n",
       "      <td>593</td>\n",
       "      <td>4.0</td>\n",
       "      <td>Silence of the Lambs, The (1991)</td>\n",
       "      <td>Crime,Horror,Thriller</td>\n",
       "      <td>4.16</td>\n",
       "    </tr>\n",
       "    <tr>\n",
       "      <th>166</th>\n",
       "      <td>1</td>\n",
       "      <td>2571</td>\n",
       "      <td>5.0</td>\n",
       "      <td>Matrix, The (1999)</td>\n",
       "      <td>Action,Sci-Fi,Thriller</td>\n",
       "      <td>4.19</td>\n",
       "    </tr>\n",
       "    <tr>\n",
       "      <th>232</th>\n",
       "      <td>2</td>\n",
       "      <td>318</td>\n",
       "      <td>3.0</td>\n",
       "      <td>Shawshank Redemption, The (1994)</td>\n",
       "      <td>Crime,Drama</td>\n",
       "      <td>4.43</td>\n",
       "    </tr>\n",
       "  </tbody>\n",
       "</table>\n",
       "</div>"
      ],
      "text/plain": [
       "     userId  movieId  rating                             title   \n",
       "16        1      296     3.0               Pulp Fiction (1994)  \\\n",
       "20        1      356     4.0               Forrest Gump (1994)   \n",
       "34        1      593     4.0  Silence of the Lambs, The (1991)   \n",
       "166       1     2571     5.0                Matrix, The (1999)   \n",
       "232       2      318     3.0  Shawshank Redemption, The (1994)   \n",
       "\n",
       "                          genres  avg_rating  \n",
       "16   Comedy,Crime,Drama,Thriller        4.20  \n",
       "20      Comedy,Drama,Romance,War        4.16  \n",
       "34         Crime,Horror,Thriller        4.16  \n",
       "166       Action,Sci-Fi,Thriller        4.19  \n",
       "232                  Crime,Drama        4.43  "
      ]
     },
     "execution_count": 24,
     "metadata": {},
     "output_type": "execute_result"
    }
   ],
   "source": [
    "# previewing the genres of the top 5 movies\n",
    "titles= data[:5].index\n",
    "\n",
    "movies.loc[ movies.title.isin(titles)].drop_duplicates('movieId')"
   ]
  },
  {
   "cell_type": "markdown",
   "id": "29c19104",
   "metadata": {},
   "source": [
    "From the graph above depicts the top 10 most watched movies with  **Forrest Gump (1994)**, **Shawshank Redemption, The (1994)** and **Pulp Fiction (1994)** being the top 3 movies. Also  noting that most occuring genres in those movies are; **crime, drama and thriller**.\n",
    "\n",
    "#### Top Most Rated Movies"
   ]
  },
  {
   "cell_type": "code",
   "execution_count": 62,
   "id": "73935b3f",
   "metadata": {},
   "outputs": [
    {
     "data": {
      "image/png": "[encoded data removed]",
      "text/plain": [
       "<Figure size 1000x500 with 1 Axes>"
      ]
     },
     "metadata": {},
     "output_type": "display_data"
    }
   ],
   "source": [
    "# first grouping the dataframe by 'title'\n",
    "# then seleting only the movies that have been rated by atleast 10 user\n",
    "titles=movies.groupby('title')[['userId']].count().sort_values('userId', ascending=False)\n",
    "titles=titles.loc[titles.userId>=10].index                                     # then extracting the movie titles\n",
    "\n",
    "# filtering only the obtained movie titles\n",
    "data= movies[['title','avg_rating']].loc[ movies.title.isin(titles)].drop_duplicates('title')\n",
    "data=data.sort_values(by='avg_rating', ascending=False)[:10]                  # and sorting according to the average rating \n",
    "\n",
    "# the ploting the top 10 movies\n",
    "fig, ax=plt.subplots(figsize=(10,5))\n",
    "sns.barplot(data=data , x='avg_rating',y='title' , ax=ax)\n",
    "ax.set_ylabel(\"Movies\", fontsize=12)\n",
    "ax.set_xlabel(\"Average Rating\" ,fontsize=12)\n",
    "ax.set_xlim([4.0 , 4.65])\n",
    "ax.set_title(\"Top 10 Most Rated Movies\")\n",
    "ax.bar_label(ax.containers[0] ,padding=3);"
   ]
  },
  {
   "cell_type": "code",
   "execution_count": 30,
   "id": "2b973fc1",
   "metadata": {
    "scrolled": true
   },
   "outputs": [
    {
     "data": {
      "text/html": [
       "<div>\n",
       "<style scoped>\n",
       "    .dataframe tbody tr th:only-of-type {\n",
       "        vertical-align: middle;\n",
       "    }\n",
       "\n",
       "    .dataframe tbody tr th {\n",
       "        vertical-align: top;\n",
       "    }\n",
       "\n",
       "    .dataframe thead th {\n",
       "        text-align: right;\n",
       "    }\n",
       "</style>\n",
       "<table border=\"1\" class=\"dataframe\">\n",
       "  <thead>\n",
       "    <tr style=\"text-align: right;\">\n",
       "      <th></th>\n",
       "      <th>userId</th>\n",
       "      <th>movieId</th>\n",
       "      <th>rating</th>\n",
       "      <th>title</th>\n",
       "      <th>genres</th>\n",
       "      <th>avg_rating</th>\n",
       "    </tr>\n",
       "  </thead>\n",
       "  <tbody>\n",
       "    <tr>\n",
       "      <th>4179</th>\n",
       "      <td>27</td>\n",
       "      <td>3451</td>\n",
       "      <td>5.0</td>\n",
       "      <td>Guess Who's Coming to Dinner (1967)</td>\n",
       "      <td>Drama</td>\n",
       "      <td>4.55</td>\n",
       "    </tr>\n",
       "    <tr>\n",
       "      <th>5014</th>\n",
       "      <td>32</td>\n",
       "      <td>1104</td>\n",
       "      <td>5.0</td>\n",
       "      <td>Streetcar Named Desire, A (1951)</td>\n",
       "      <td>Drama</td>\n",
       "      <td>4.47</td>\n",
       "    </tr>\n",
       "    <tr>\n",
       "      <th>12034</th>\n",
       "      <td>74</td>\n",
       "      <td>1041</td>\n",
       "      <td>5.0</td>\n",
       "      <td>Secrets &amp; Lies (1996)</td>\n",
       "      <td>Drama</td>\n",
       "      <td>4.59</td>\n",
       "    </tr>\n",
       "    <tr>\n",
       "      <th>12065</th>\n",
       "      <td>74</td>\n",
       "      <td>2360</td>\n",
       "      <td>4.5</td>\n",
       "      <td>Celebration, The (Festen) (1998)</td>\n",
       "      <td>Drama</td>\n",
       "      <td>4.46</td>\n",
       "    </tr>\n",
       "    <tr>\n",
       "      <th>16258</th>\n",
       "      <td>105</td>\n",
       "      <td>1178</td>\n",
       "      <td>4.0</td>\n",
       "      <td>Paths of Glory (1957)</td>\n",
       "      <td>Drama,War</td>\n",
       "      <td>4.54</td>\n",
       "    </tr>\n",
       "  </tbody>\n",
       "</table>\n",
       "</div>"
      ],
      "text/plain": [
       "       userId  movieId  rating                                title   \n",
       "4179       27     3451     5.0  Guess Who's Coming to Dinner (1967)  \\\n",
       "5014       32     1104     5.0     Streetcar Named Desire, A (1951)   \n",
       "12034      74     1041     5.0                Secrets & Lies (1996)   \n",
       "12065      74     2360     4.5     Celebration, The (Festen) (1998)   \n",
       "16258     105     1178     4.0                Paths of Glory (1957)   \n",
       "\n",
       "          genres  avg_rating  \n",
       "4179       Drama        4.55  \n",
       "5014       Drama        4.47  \n",
       "12034      Drama        4.59  \n",
       "12065      Drama        4.46  \n",
       "16258  Drama,War        4.54  "
      ]
     },
     "execution_count": 30,
     "metadata": {},
     "output_type": "execute_result"
    }
   ],
   "source": [
    "# previewing the genres of the top 5 movies\n",
    "titles= data.title[:5]\n",
    "\n",
    "movies.loc[ movies.title.isin(titles)].drop_duplicates('movieId')"
   ]
  },
  {
   "cell_type": "markdown",
   "id": "7b70edbd",
   "metadata": {},
   "source": [
    "From the graph above \n",
    "**Secrets & Lies (1996)** ,\n",
    "**Guess Who's Coming to Dinner (1967)** ,\n",
    "**Paths of Glory (1957)**\n",
    "are the top 3 highely rated movies, while also noting that they all are of the **Drama** genre. \n",
    "\n",
    "#### Top Active Users."
   ]
  },
  {
   "cell_type": "code",
   "execution_count": 63,
   "id": "7ed3d20a",
   "metadata": {},
   "outputs": [
    {
     "data": {
      "image/png": "[encoded data removed]",
      "text/plain": [
       "<Figure size 1000x500 with 1 Axes>"
      ]
     },
     "metadata": {},
     "output_type": "display_data"
    }
   ],
   "source": [
    "# first grouping the dataframe by 'userId'\n",
    "users=movies.groupby('userId')[['movieId']].count().sort_values('movieId', ascending=False)\n",
    "# then seleting only the top 10 users \n",
    "users=users[:10]                                    \n",
    "\n",
    "\n",
    "# the ploting the top 10 users\n",
    "fig, ax=plt.subplots(figsize=(10,5))\n",
    "sns.barplot(data=users ,y='movieId',x=[str(x) for x in users.index] , ax=ax)\n",
    "ax.set_ylabel(\"Movies\", fontsize=12)\n",
    "ax.set_xlabel(\"Average Rating\" ,fontsize=12)\n",
    "ax.set_title(\"Top 10 Most Rated Movies\")\n",
    "ax.bar_label(ax.containers[0] ,padding=3);"
   ]
  },
  {
   "cell_type": "markdown",
   "id": "520d7b17",
   "metadata": {},
   "source": [
    "Fromthe graph above, the users with Id's **414** , **599** and **474** have rated and watched the most movies, each with above 2,000 movies rated. It would increase custormer satisfaction if these users were either rewarded or offered subsidized charges for their subscriptions."
   ]
  },
  {
   "cell_type": "markdown",
   "id": "523e9063",
   "metadata": {},
   "source": [
    "## Modelling\n",
    "In this section we will create a recommendation system using the datasets to solve our main problem.\n",
    "There are different types of recomentation models, in this project we will focus on three types of recommentation systems\n",
    "\n",
    "* 1. Content-Based Recommender systems\n",
    "* 2. Collaborative Filtering Systems\n",
    "* 3. Hybrid Recommender Systems\n",
    "\n",
    "Now, in each of these categories we will compare the different models and see which ones perform best. For valiidation and comparison we will use the RMSE (root mean squared error) metric, that is how far is the prediction from the true value"
   ]
  },
  {
   "cell_type": "markdown",
   "id": "36e749b8",
   "metadata": {},
   "source": [
    "### Content-Based Recommender Systems\n",
    "These are recommender systems that use user's items, features or previous intrests and likes to recommend other items similar to  those they liked or interacted with, i.e the algorithms will simply pick items with similar content to recommend you.\n",
    "\n",
    "Since in the movies database there is no desription column we will use the **genres** and **title** columns to create a content based recommender system.\n",
    "\n",
    "We use the cosine similarity to compare similarity between different movies with their genres, then pick the top n similar movies to recoment. \n",
    "> First create a similarity vectors that has similarity scores of each movie to the others, this will be used to recomend movies based on name input in the system. To accomplish this we will the **CountVector()** method that will vectorise our genres column"
   ]
  },
  {
   "cell_type": "code",
   "execution_count": 71,
   "id": "6904cadc",
   "metadata": {},
   "outputs": [
    {
     "data": {
      "text/plain": [
       "(9742, 9742)"
      ]
     },
     "execution_count": 71,
     "metadata": {},
     "output_type": "execute_result"
    }
   ],
   "source": [
    "# first we will instatiate the CountVector()\n",
    "cv=CountVectorizer()\n",
    "\n",
    "#fit and transform it on our genres column\n",
    "vector=cv.fit_transform(movies_df['genres'].values).toarray()\n",
    "\n",
    "# the using the vectorized vector we calculate the similarity scores\n",
    "similarity=cosine_similarity(vector)\n",
    "similarity.shape"
   ]
  },
  {
   "cell_type": "markdown",
   "id": "a2dfac3f",
   "metadata": {},
   "source": [
    "> Second, w'll create a function that will be used to convert genres into vectors indorder to calculate similarity score of an input genre list with the other rows and return the top n highest scores (most similar genres)."
   ]
  },
  {
   "cell_type": "code",
   "execution_count": 75,
   "id": "2e4b488a",
   "metadata": {},
   "outputs": [
    {
     "name": "stdout",
     "output_type": "stream",
     "text": [
      "Unique genres list: \n"
     ]
    },
    {
     "data": {
      "text/plain": [
       "array(['(no genres listed)', 'Action', 'Adventure', 'Animation',\n",
       "       'Children', 'Comedy', 'Crime', 'Documentary', 'Drama', 'Fantasy',\n",
       "       'Film-Noir', 'Horror', 'IMAX', 'Musical', 'Mystery', 'Romance',\n",
       "       'Sci-Fi', 'Thriller', 'War', 'Western'], dtype='<U18')"
      ]
     },
     "execution_count": 75,
     "metadata": {},
     "output_type": "execute_result"
    }
   ],
   "source": [
    "# first we get a dictionary of all unique genres\n",
    "# looping of the genres column and spliting the genres into individual values\n",
    "genre= [i for genre in  movies.genres for i in genre.split(',')]\n",
    "\n",
    "# taking the uniques genres only\n",
    "genre=np.unique(genre)\n",
    "\n",
    "print(\"Unique genres list: \")\n",
    "genre"
   ]
  },
  {
   "cell_type": "code",
   "execution_count": 77,
   "id": "9d596e18",
   "metadata": {},
   "outputs": [],
   "source": [
    "# then we write a function vectorise() that transforms the genres column to vector form.\n",
    "\n",
    "def vectorise( list_):\n",
    "    \"\"\"\n",
    "    Takes a list of genres and based on the unique genre list returns a vector with same length as unique genres\n",
    "    and with (0,1) values representing the input list\n",
    "    \"\"\"\n",
    "    return [ 1 if x in list_ else 0 for x in genre   ]"
   ]
  },
  {
   "cell_type": "markdown",
   "id": "01556e2d",
   "metadata": {},
   "source": [
    "> We will create the content based recommender function that recommends movies based on name or genre inputs ."
   ]
  },
  {
   "cell_type": "code",
   "execution_count": 88,
   "id": "db850bf4",
   "metadata": {},
   "outputs": [],
   "source": [
    "def content_based( name:str= None , genres: str =None, num:int=5):\n",
    "    \"\"\"\n",
    "    The function takes in the following inputs \n",
    "    name -> The input name of the movie,  will be used to recommend movies similar to it. \n",
    "        It has a default of None, which will then use the genres paramter\n",
    "        \n",
    "    genre -> genres that will be used to recomment movies with similar genres\n",
    "        It has a default of None which will then result to recommendation of\n",
    "        the 'Top most watched movies' and 'Top most rated movies'\n",
    "        \n",
    "    num -> Is the number of recommendations to produce\n",
    "        Has a default of 5.\n",
    "    \"\"\"\n",
    "\n",
    "# if the name parameter has a value the this if statement is executed\n",
    "    if name:\n",
    "        index_=movies.loc[movies.title== name].index[0]                  # find the index of the input movie\n",
    "        sim=list(enumerate(similarity[index_]))                          # extract similarity vector of that movie index\n",
    "        sim=sorted(sim, key=lambda x: x[1], reverse=True)[1:num]         # arrange the vector values in ascending order\n",
    "        indices= [i[0] for i in sim]                                     # Extract the indices of the top high scores\n",
    "        print(f\"Top {num} Movies Like [{name}]\")\n",
    "                                                                          #use those indices to print the movie\n",
    "        return movies.loc[indices,('title','rating')].reset_index(drop=True)\n",
    "\n",
    "# if the name is None then switch to genre parametr\n",
    "    else:\n",
    "        # if the genres has passed input values then this if statement runs            \n",
    "        if genres: \n",
    "            input_=[ x.capitalize() for x in genres.split(' ')]            #creates a list of the input genres\n",
    "    \n",
    "            vector= vectorise(input_)                                      # uses the vectorised function to create vectors\n",
    "            vector=np.array(vector).reshape(1,-1)                          # for the input genres and reshapes them\n",
    "            \n",
    "            # drops the duplicates in our dataframe to keep only the unique movieId\n",
    "            df=movies.drop_duplicates('movieId').reset_index(drop=True)    \n",
    "            \n",
    "            cos_scores=[]\n",
    "            for i,vec in enumerate(df.genres):                             # looping over the genre column\n",
    "                vec=np.array(vectorise(vec)).reshape(1,-1)                 # the vectorising the row entry\n",
    "                cos_scores.append((i,cosine_similarity(vector,vec)))       # then calculating scores between the row \n",
    "                                                                           # and the input genres  \n",
    "            \n",
    "            # picks only the top n highest scores\n",
    "            cos_scores = sorted(cos_scores, key=lambda x: x[1], reverse=True)[:num]\n",
    "\n",
    "            # extracts the indices of those top n score\n",
    "            indices = [i[0] for i in cos_scores]\n",
    "            print(f\"Top {num} Best [{genres}] Movies\")\n",
    "            \n",
    "            # then returns the movie titles,genres and ratings of those indices arranged by their average rating\n",
    "            rec= df.loc[indices, ('title','avg_rating')].sort_values(by='avg_rating', ascending=False)\n",
    "            return rec.reset_index(drop=True)\n",
    "         \n",
    "        # if both the name and genre are None the top most  watched and rated movies are recommended\n",
    "        else:\n",
    "            # using groupby ,pick movies that have been watched by atleast 10 user\n",
    "            titles=movies.groupby('title')[['userId']].count().sort_values('userId', ascending=False)\n",
    "            titles=titles.loc[titles.userId>=10].index\n",
    "\n",
    "            # then filter the dataframe to contain only those most watched movies\n",
    "            rec= movies[['title','avg_rating']].loc[ movies.title.isin(titles)].drop_duplicates('title')\n",
    "            # then arrange in decsending order according to the average rating column\n",
    "            # then selects the top n movies\n",
    "            rec_=rec.sort_values(by='avg_rating', ascending=False)[:num] \n",
    "            \n",
    "            print(f\"\\nTop {num} Most Rated Movies \\n ------------------------------\")\n",
    "            print(rec_.reset_index(drop=True))      #recommends those top most rated movies\n",
    "            prin\n",
    "            # using the names of the most watched movies \n",
    "            #filter the daaframes on the n top names \n",
    "            rec=movies[['title','avg_rating']].loc[ movies.title.isin(titles[:num])].drop_duplicates('title')            \n",
    "            print(f'Top {num} Most Watched Movies \\n ---------------------------- ')\n",
    "            \n",
    "            #then recommends those top most watches movies\n",
    "            return rec.reset_index(drop=True)   "
   ]
  },
  {
   "cell_type": "code",
   "execution_count": 89,
   "id": "6b63c27c",
   "metadata": {},
   "outputs": [
    {
     "name": "stdout",
     "output_type": "stream",
     "text": [
      "\n",
      "Top 5 Most Rated Movies \n",
      " ------------------------------\n",
      "                                 title  avg_rating\n",
      "0                Secrets & Lies (1996)        4.59\n",
      "1  Guess Who's Coming to Dinner (1967)        4.55\n",
      "2                Paths of Glory (1957)        4.54\n",
      "3     Streetcar Named Desire, A (1951)        4.47\n",
      "4     Celebration, The (Festen) (1998)        4.46\n",
      "Top 5 Most Watched Movies \n",
      " ---------------------------- \n"
     ]
    },
    {
     "data": {
      "text/html": [
       "<div>\n",
       "<style scoped>\n",
       "    .dataframe tbody tr th:only-of-type {\n",
       "        vertical-align: middle;\n",
       "    }\n",
       "\n",
       "    .dataframe tbody tr th {\n",
       "        vertical-align: top;\n",
       "    }\n",
       "\n",
       "    .dataframe thead th {\n",
       "        text-align: right;\n",
       "    }\n",
       "</style>\n",
       "<table border=\"1\" class=\"dataframe\">\n",
       "  <thead>\n",
       "    <tr style=\"text-align: right;\">\n",
       "      <th></th>\n",
       "      <th>title</th>\n",
       "      <th>avg_rating</th>\n",
       "    </tr>\n",
       "  </thead>\n",
       "  <tbody>\n",
       "    <tr>\n",
       "      <th>0</th>\n",
       "      <td>Pulp Fiction (1994)</td>\n",
       "      <td>4.20</td>\n",
       "    </tr>\n",
       "    <tr>\n",
       "      <th>1</th>\n",
       "      <td>Forrest Gump (1994)</td>\n",
       "      <td>4.16</td>\n",
       "    </tr>\n",
       "    <tr>\n",
       "      <th>2</th>\n",
       "      <td>Silence of the Lambs, The (1991)</td>\n",
       "      <td>4.16</td>\n",
       "    </tr>\n",
       "    <tr>\n",
       "      <th>3</th>\n",
       "      <td>Matrix, The (1999)</td>\n",
       "      <td>4.19</td>\n",
       "    </tr>\n",
       "    <tr>\n",
       "      <th>4</th>\n",
       "      <td>Shawshank Redemption, The (1994)</td>\n",
       "      <td>4.43</td>\n",
       "    </tr>\n",
       "  </tbody>\n",
       "</table>\n",
       "</div>"
      ],
      "text/plain": [
       "                              title  avg_rating\n",
       "0               Pulp Fiction (1994)        4.20\n",
       "1               Forrest Gump (1994)        4.16\n",
       "2  Silence of the Lambs, The (1991)        4.16\n",
       "3                Matrix, The (1999)        4.19\n",
       "4  Shawshank Redemption, The (1994)        4.43"
      ]
     },
     "execution_count": 89,
     "metadata": {},
     "output_type": "execute_result"
    }
   ],
   "source": [
    "# testing the function on the dafault parameters\n",
    "content_based()"
   ]
  },
  {
   "cell_type": "code",
   "execution_count": 90,
   "id": "f6a23200",
   "metadata": {},
   "outputs": [
    {
     "name": "stdout",
     "output_type": "stream",
     "text": [
      "Top 10 Movies Like [Pulp Fiction (1994)]\n"
     ]
    },
    {
     "data": {
      "text/html": [
       "<div>\n",
       "<style scoped>\n",
       "    .dataframe tbody tr th:only-of-type {\n",
       "        vertical-align: middle;\n",
       "    }\n",
       "\n",
       "    .dataframe tbody tr th {\n",
       "        vertical-align: top;\n",
       "    }\n",
       "\n",
       "    .dataframe thead th {\n",
       "        text-align: right;\n",
       "    }\n",
       "</style>\n",
       "<table border=\"1\" class=\"dataframe\">\n",
       "  <thead>\n",
       "    <tr style=\"text-align: right;\">\n",
       "      <th></th>\n",
       "      <th>title</th>\n",
       "      <th>rating</th>\n",
       "    </tr>\n",
       "  </thead>\n",
       "  <tbody>\n",
       "    <tr>\n",
       "      <th>0</th>\n",
       "      <td>Dazed and Confused (1993)</td>\n",
       "      <td>4.0</td>\n",
       "    </tr>\n",
       "    <tr>\n",
       "      <th>1</th>\n",
       "      <td>Mrs. Doubtfire (1993)</td>\n",
       "      <td>3.0</td>\n",
       "    </tr>\n",
       "    <tr>\n",
       "      <th>2</th>\n",
       "      <td>Independence Day (a.k.a. ID4) (1996)</td>\n",
       "      <td>3.0</td>\n",
       "    </tr>\n",
       "    <tr>\n",
       "      <th>3</th>\n",
       "      <td>Citizen Kane (1941)</td>\n",
       "      <td>5.0</td>\n",
       "    </tr>\n",
       "    <tr>\n",
       "      <th>4</th>\n",
       "      <td>Abyss, The (1989)</td>\n",
       "      <td>4.0</td>\n",
       "    </tr>\n",
       "    <tr>\n",
       "      <th>5</th>\n",
       "      <td>Alien (1979)</td>\n",
       "      <td>4.0</td>\n",
       "    </tr>\n",
       "    <tr>\n",
       "      <th>6</th>\n",
       "      <td>Psycho (1960)</td>\n",
       "      <td>2.0</td>\n",
       "    </tr>\n",
       "    <tr>\n",
       "      <th>7</th>\n",
       "      <td>Sneakers (1992)</td>\n",
       "      <td>3.0</td>\n",
       "    </tr>\n",
       "    <tr>\n",
       "      <th>8</th>\n",
       "      <td>Rocky (1976)</td>\n",
       "      <td>5.0</td>\n",
       "    </tr>\n",
       "  </tbody>\n",
       "</table>\n",
       "</div>"
      ],
      "text/plain": [
       "                                  title  rating\n",
       "0             Dazed and Confused (1993)     4.0\n",
       "1                 Mrs. Doubtfire (1993)     3.0\n",
       "2  Independence Day (a.k.a. ID4) (1996)     3.0\n",
       "3                   Citizen Kane (1941)     5.0\n",
       "4                     Abyss, The (1989)     4.0\n",
       "5                          Alien (1979)     4.0\n",
       "6                         Psycho (1960)     2.0\n",
       "7                       Sneakers (1992)     3.0\n",
       "8                          Rocky (1976)     5.0"
      ]
     },
     "execution_count": 90,
     "metadata": {},
     "output_type": "execute_result"
    }
   ],
   "source": [
    "# assigning 'Pulp Fiction (1994)' movie to the name parameter \n",
    "# to get 10 recommendations\n",
    "content_based(name='Pulp Fiction (1994)', num=10)"
   ]
  },
  {
   "cell_type": "code",
   "execution_count": 91,
   "id": "379bea42",
   "metadata": {},
   "outputs": [
    {
     "name": "stdout",
     "output_type": "stream",
     "text": [
      "Top 10 Best [war action] Movies\n"
     ]
    },
    {
     "data": {
      "text/html": [
       "<div>\n",
       "<style scoped>\n",
       "    .dataframe tbody tr th:only-of-type {\n",
       "        vertical-align: middle;\n",
       "    }\n",
       "\n",
       "    .dataframe tbody tr th {\n",
       "        vertical-align: top;\n",
       "    }\n",
       "\n",
       "    .dataframe thead th {\n",
       "        text-align: right;\n",
       "    }\n",
       "</style>\n",
       "<table border=\"1\" class=\"dataframe\">\n",
       "  <thead>\n",
       "    <tr style=\"text-align: right;\">\n",
       "      <th></th>\n",
       "      <th>title</th>\n",
       "      <th>avg_rating</th>\n",
       "    </tr>\n",
       "  </thead>\n",
       "  <tbody>\n",
       "    <tr>\n",
       "      <th>0</th>\n",
       "      <td>Duellists, The (1977)</td>\n",
       "      <td>4.17</td>\n",
       "    </tr>\n",
       "    <tr>\n",
       "      <th>1</th>\n",
       "      <td>Bridge at Remagen, The (1969)</td>\n",
       "      <td>4.00</td>\n",
       "    </tr>\n",
       "    <tr>\n",
       "      <th>2</th>\n",
       "      <td>American Sniper (2014)</td>\n",
       "      <td>3.80</td>\n",
       "    </tr>\n",
       "    <tr>\n",
       "      <th>3</th>\n",
       "      <td>Heartbreak Ridge (1986)</td>\n",
       "      <td>3.75</td>\n",
       "    </tr>\n",
       "    <tr>\n",
       "      <th>4</th>\n",
       "      <td>Iron Eagle (1986)</td>\n",
       "      <td>2.29</td>\n",
       "    </tr>\n",
       "    <tr>\n",
       "      <th>5</th>\n",
       "      <td>Red Dawn (2012)</td>\n",
       "      <td>2.25</td>\n",
       "    </tr>\n",
       "    <tr>\n",
       "      <th>6</th>\n",
       "      <td>Missing in Action (1984)</td>\n",
       "      <td>2.08</td>\n",
       "    </tr>\n",
       "    <tr>\n",
       "      <th>7</th>\n",
       "      <td>Iron Eagle II (1988)</td>\n",
       "      <td>1.67</td>\n",
       "    </tr>\n",
       "    <tr>\n",
       "      <th>8</th>\n",
       "      <td>Braddock: Missing in Action III (1988)</td>\n",
       "      <td>1.25</td>\n",
       "    </tr>\n",
       "    <tr>\n",
       "      <th>9</th>\n",
       "      <td>Iron Eagle IV (1995)</td>\n",
       "      <td>1.00</td>\n",
       "    </tr>\n",
       "  </tbody>\n",
       "</table>\n",
       "</div>"
      ],
      "text/plain": [
       "                                    title  avg_rating\n",
       "0                   Duellists, The (1977)        4.17\n",
       "1           Bridge at Remagen, The (1969)        4.00\n",
       "2                  American Sniper (2014)        3.80\n",
       "3                 Heartbreak Ridge (1986)        3.75\n",
       "4                       Iron Eagle (1986)        2.29\n",
       "5                         Red Dawn (2012)        2.25\n",
       "6                Missing in Action (1984)        2.08\n",
       "7                    Iron Eagle II (1988)        1.67\n",
       "8  Braddock: Missing in Action III (1988)        1.25\n",
       "9                    Iron Eagle IV (1995)        1.00"
      ]
     },
     "execution_count": 91,
     "metadata": {},
     "output_type": "execute_result"
    }
   ],
   "source": [
    "# assigning 'war,action' movie to the genre parameter \n",
    "# to get 10 recommendations\n",
    "content_based(genres= 'war action', num=10)"
   ]
  },
  {
   "cell_type": "markdown",
   "id": "f99dd066",
   "metadata": {},
   "source": [
    "The content-based system works perfectly. Then we develop a collaborative filtering system"
   ]
  },
  {
   "cell_type": "markdown",
   "id": "da445012",
   "metadata": {},
   "source": [
    "### Collaborative Filtering\n",
    "Collaborative filtering is a recommendation system technique, that recommends items to a user on the basis of items that are liked/watched by similar users. It filters out a group of people with tastes similar to a particular user then finds items they like create a ranked list of suggestions.\n",
    "\n",
    "Collaborative Filtering tries to predict the rating score of the movies the user hasn't watched based on the user's rating on watched movies the picks the most predicted rating and recommends that movie to the user. There are two types of the collaborative filtering models;\n",
    "1. Neighborhood-Based Models.\n",
    "2. Model Based Models\n",
    "\n",
    "#### Neighborhood-Based Models.\n",
    "This is a form of collaborative filtering that uses the idea that similar users have similar interests and those users tend like similar items. With neighborhood-based collaborative filtering methods, we are attempting to quantify just how similar users and items are to one another and getting the top N recommendations based on that similarity metric.\n",
    "\n",
    "Now, we will compare the different neighborhood based models and see which ones perform best based on the RMSE metric.\n",
    "Since the number of users are less than number of items, then were are going to use user-based similarity system.\n",
    "\n",
    "First we have to convert the data into **surprise** dataformat dor easy deployment of recommendation systems algorithms."
   ]
  },
  {
   "cell_type": "code",
   "execution_count": 92,
   "id": "69c7de0e",
   "metadata": {},
   "outputs": [
    {
     "name": "stdout",
     "output_type": "stream",
     "text": [
      "Number of users:  610 \n",
      "\n",
      "Number of items:  9724\n"
     ]
    }
   ],
   "source": [
    "# using Reader() from surprise module to convert dataframe into surprise dataformat\n",
    "# instantiating a readerobject\n",
    "reader=Reader()\n",
    "# using the reader to read the trainset\n",
    "dataset= Dataset.load_from_df(ratings_df, reader)\n",
    "\n",
    "data = dataset.build_full_trainset()\n",
    "print('Number of users: ', data.n_users, '\\n')\n",
    "print('Number of items: ', data.n_items)"
   ]
  },
  {
   "cell_type": "code",
   "execution_count": 295,
   "id": "4eff93f9",
   "metadata": {},
   "outputs": [
    {
     "name": "stdout",
     "output_type": "stream",
     "text": [
      "('test_rmse', array([0.9730844 , 0.97352039, 0.97261089, 0.9667241 , 0.97327271]))\n",
      "('test_mae', array([0.75059422, 0.75013447, 0.75201004, 0.7454179 , 0.7536582 ]))\n",
      "('fit_time', (1.2158024311065674, 1.3503472805023193, 1.2735483646392822, 1.2715444564819336, 0.8623166084289551))\n",
      "('test_time', (2.798112630844116, 2.6739137172698975, 2.7363784313201904, 2.644544839859009, 1.8804481029510498))\n",
      "-------------------------\n",
      "Mean RMSE:  0.971842498530517\n"
     ]
    }
   ],
   "source": [
    "# create the first neighborhood model based on the 30 most similar users\n",
    "# using pearson similarity metric\n",
    "knn=KNNBasic(k=30,sim_options={'name':'pearson', 'user_based':True})\n",
    "\n",
    "# using the cross_validate() to fit the model on 5 folds\n",
    "results=cross_validate(knn, dataset , cv=5, n_jobs=-1)\n",
    "\n",
    "#printng the valuation test score\n",
    "for values in results.items():\n",
    "    print(values)\n",
    "print(\"-------------------------\")\n",
    "print(\"Mean RMSE: \",results['test_rmse'].mean())      #calculating mean RMSE od the first model"
   ]
  },
  {
   "cell_type": "code",
   "execution_count": 296,
   "id": "db2811f4",
   "metadata": {
    "scrolled": true
   },
   "outputs": [
    {
     "name": "stdout",
     "output_type": "stream",
     "text": [
      "('test_rmse', array([0.97515313, 0.98182903, 0.97459289, 0.96937667, 0.96455095]))\n",
      "('test_mae', array([0.74999288, 0.75315071, 0.74983199, 0.74748577, 0.74469813]))\n",
      "('fit_time', (0.9728226661682129, 0.8921327590942383, 0.9536595344543457, 0.8476457595825195, 0.6997721195220947))\n",
      "('test_time', (2.160322666168213, 2.2560479640960693, 2.0287301540374756, 2.1502389907836914, 1.731940507888794))\n",
      "-------------------------\n",
      "Mean RMSE:  0.973100533361311\n"
     ]
    }
   ],
   "source": [
    "# create the second neighborhood model based on the 30 most similar users\n",
    "# using cosine similarity metric\n",
    "knn=KNNBasic(k=30,sim_options={'name':\"cosine\", 'user_based':True})\n",
    "\n",
    "# using the cross_validate() to fit the model on 5 folds\n",
    "results=cross_validate(knn, dataset , cv=5, n_jobs=-1)\n",
    "\n",
    "#printng the valuation test scores\n",
    "for values in results.items():\n",
    "    print(values)\n",
    "print(\"-------------------------\")\n",
    "print(\"Mean RMSE: \",results['test_rmse'].mean())    #calculating mean RMSE od the first model"
   ]
  },
  {
   "cell_type": "markdown",
   "id": "97074735",
   "metadata": {},
   "source": [
    "> From the above two models, the **Pearson Similarity** has the lowest RMSE hence will be the used similarity parameter on the reamining models."
   ]
  },
  {
   "cell_type": "code",
   "execution_count": 298,
   "id": "29fb1289",
   "metadata": {},
   "outputs": [
    {
     "name": "stdout",
     "output_type": "stream",
     "text": [
      "('test_rmse', array([0.87678134, 0.87978624, 0.87982298, 0.87014588, 0.87564704]))\n",
      "('test_mae', array([0.66766372, 0.67076512, 0.67519963, 0.66565722, 0.66983912]))\n",
      "('fit_time', (1.171769380569458, 1.190049648284912, 1.0886094570159912, 0.9772956371307373, 0.8868763446807861))\n",
      "('test_time', (2.346174955368042, 2.4071407318115234, 2.417496681213379, 2.42814040184021, 2.4035277366638184))\n",
      "-------------------------\n",
      "Mean RMSE:  0.8764366956039027\n"
     ]
    }
   ],
   "source": [
    "# create the anothe neighborhood model based on the 30 most similar users\n",
    "knn =KNNBaseline(k=30,sim_options={'name':'pearson', 'user_based':True})\n",
    "\n",
    "# cross validating the model using 5 folds\n",
    "results=cross_validate(knn, dataset, cv=5, n_jobs=-1)\n",
    "\n",
    "# printing the validation test scores\n",
    "for values in results.items():\n",
    "    print(values)\n",
    "print(\"-------------------------\")\n",
    "print(\"Mean RMSE: \",results['test_rmse'].mean())\n"
   ]
  },
  {
   "cell_type": "code",
   "execution_count": 300,
   "id": "0c47d32b",
   "metadata": {},
   "outputs": [
    {
     "name": "stdout",
     "output_type": "stream",
     "text": [
      "('test_rmse', array([0.90028425, 0.89474521, 0.90212613, 0.89748139, 0.89112746]))\n",
      "('test_mae', array([0.68685546, 0.68281571, 0.68807506, 0.68130344, 0.67827573]))\n",
      "('fit_time', (1.063669204711914, 1.122687578201294, 1.0937390327453613, 1.0630290508270264, 0.7978856563568115))\n",
      "('test_time', (2.355440378189087, 2.3265788555145264, 2.383744716644287, 2.2493581771850586, 1.9124813079833984))\n",
      "-------------------------\n",
      "Mean RMSE:  0.8971528879682659\n"
     ]
    }
   ],
   "source": [
    "# create the anothe neighborhood model based on the 30 most similar users\n",
    "knn=KNNWithMeans(k=30,sim_options={'name':'pearson', 'user_based':True})\n",
    "\n",
    "# cross validating the model using 5 folds\n",
    "results=cross_validate(knn, dataset, cv=5, n_jobs=-1)\n",
    "\n",
    "# printing the validation test scores\n",
    "for values in results.items():\n",
    "    print(values)\n",
    "print(\"-------------------------\")\n",
    "print(\"Mean RMSE: \",results['test_rmse'].mean())"
   ]
  },
  {
   "cell_type": "markdown",
   "id": "390a57de",
   "metadata": {},
   "source": [
    "The best neighborhood based model has an RMSE of 0.8764 , which means that on the rating scale of 1 to 5 our predictions are off by 0.8764 from the true rating score.\n",
    "\n",
    "We will compare this RMSE score with the model based models"
   ]
  },
  {
   "cell_type": "markdown",
   "id": "41de0c01",
   "metadata": {},
   "source": [
    "#### Model Based Models"
   ]
  },
  {
   "cell_type": "code",
   "execution_count": 301,
   "id": "6f6994c6",
   "metadata": {},
   "outputs": [
    {
     "name": "stdout",
     "output_type": "stream",
     "text": [
      "('test_rmse', array([0.87508608, 0.87663197, 0.86477551, 0.88258004, 0.87042561]))\n",
      "('test_mae', array([0.67208635, 0.67624068, 0.66162087, 0.6784014 , 0.6678306 ]))\n",
      "('fit_time', (1.4358596801757812, 1.404325246810913, 1.4115989208221436, 1.408891201019287, 1.3831210136413574))\n",
      "('test_time', (0.28406858444213867, 0.30594348907470703, 0.2943720817565918, 0.3259150981903076, 0.2623724937438965))\n",
      "-------------------------\n",
      "Mean RMSE:  0.8738998424646829\n"
     ]
    }
   ],
   "source": [
    "svd=SVD()\n",
    "results=cross_validate(svd, dataset, cv=5, n_jobs=-1)\n",
    "\n",
    "for values in results.items():\n",
    "    print(values)\n",
    "print(\"-------------------------\")\n",
    "print(\"Mean RMSE: \",results['test_rmse'].mean())"
   ]
  },
  {
   "cell_type": "markdown",
   "id": "56198503",
   "metadata": {},
   "source": [
    "The first baseline model-based model with na RMSE of 0.874 has performed better than our best neighborhood based model which had a RMSE of 0.877.\n",
    "Using the GridSearchCv we will tune the SVD model inorder to improve the training RMSE scores."
   ]
  },
  {
   "cell_type": "code",
   "execution_count": 302,
   "id": "e6a83215",
   "metadata": {},
   "outputs": [
    {
     "name": "stdout",
     "output_type": "stream",
     "text": [
      "{'rmse': 0.8521002482651164, 'mae': 0.6526660214672052}\n",
      "{'rmse': {'n_factors': 300, 'n_epochs': 50, 'lr_all': 0.01, 'reg_all': 0.05}, 'mae': {'n_factors': 300, 'n_epochs': 50, 'lr_all': 0.01, 'reg_all': 0.05}}\n"
     ]
    }
   ],
   "source": [
    "# creating the parameter grid\n",
    "params={'n_factors': [100,200,300],    #number of latent factors\n",
    "        'n_epochs': [20,30,50],        #number of epoches\n",
    "        'lr_all': [0.01,0.005],        #learning rate\n",
    "        'reg_all': [0.01,0.05]}        #regulaeization parameter\n",
    "\n",
    "\n",
    "# instatiating the GridSearchCv() using the defined parameters\n",
    "grid=GridSearchCV( SVD , param_grid=params,  cv=5, n_jobs=-1 )\n",
    "\n",
    "#fiting the grid on the data\n",
    "grid.fit(dataset)\n",
    "\n",
    "# printing the obtained best parameters\n",
    "print(grid.best_score)\n",
    "print(grid.best_params)"
   ]
  },
  {
   "cell_type": "code",
   "execution_count": 303,
   "id": "4a966892",
   "metadata": {},
   "outputs": [
    {
     "name": "stdout",
     "output_type": "stream",
     "text": [
      "('test_rmse', array([0.84610469, 0.8536549 , 0.85126638, 0.85460134, 0.85224595]))\n",
      "('test_mae', array([0.64703282, 0.65619069, 0.65190203, 0.6521955 , 0.65424683]))\n",
      "('fit_time', (9.110791444778442, 9.04003643989563, 9.046470642089844, 8.937106132507324, 7.787918567657471))\n",
      "('test_time', (0.2636539936065674, 0.2774789333343506, 0.30565738677978516, 0.3351869583129883, 0.26868486404418945))\n",
      "-------------------------\n",
      "Mean RMSE:  0.8515746531315648\n"
     ]
    }
   ],
   "source": [
    "# using the obtained best parameters to create an SVD() model\n",
    "svd=SVD( n_factors=300 , n_epochs=50 , lr_all=0.01 , reg_all=0.05 )\n",
    "\n",
    "# cross valifating the model\n",
    "results=cross_validate(svd, dataset, cv=5, n_jobs=-1)\n",
    "\n",
    "# prining the validation test score\n",
    "for values in results.items():\n",
    "    print(values)\n",
    "print(\"-------------------------\")\n",
    "print(\"Mean RMSE: \",results['test_rmse'].mean())"
   ]
  },
  {
   "cell_type": "markdown",
   "id": "8ec174e7",
   "metadata": {},
   "source": [
    "Based on this last SVD() model and the best neighborhood model (rmse=0.88), we conclude that the tuned_svd model performed better than the other collaborative filtering models with an RMSE of 0.85. This RMSE score indicates that the model is off by an average on 0.85 on each prediction on a scale of (1-5) output values.\n",
    "\n",
    "Therefore we will use this svd model to make predictions and thereafter recomendations"
   ]
  },
  {
   "cell_type": "code",
   "execution_count": 93,
   "id": "e655d31b",
   "metadata": {},
   "outputs": [
    {
     "data": {
      "text/plain": [
       "<surprise.prediction_algorithms.matrix_factorization.SVD at 0x1f9c30be860>"
      ]
     },
     "execution_count": 93,
     "metadata": {},
     "output_type": "execute_result"
    }
   ],
   "source": [
    "# instatiating an SVD model while using the obtained paameters\n",
    "svd=SVD( n_factors=300 , n_epochs=50 , lr_all=0.01 , reg_all=0.05 )\n",
    "\n",
    "# fiting the model on the surprise dataformat\n",
    "svd.fit(data)"
   ]
  },
  {
   "cell_type": "code",
   "execution_count": 95,
   "id": "5c954935",
   "metadata": {},
   "outputs": [
    {
     "data": {
      "text/plain": [
       "Prediction(uid='10', iid='5', r_ui=None, est=3.501556983616962, details={'was_impossible': False})"
      ]
     },
     "execution_count": 95,
     "metadata": {},
     "output_type": "execute_result"
    }
   ],
   "source": [
    "# using the model them we try and make a prediction of user 10, on item 5\n",
    "svd.predict('10','5')\n",
    "\n",
    "# the predicted rating is 3.5"
   ]
  },
  {
   "cell_type": "markdown",
   "id": "2076459e",
   "metadata": {},
   "source": [
    "> First before creating a collaborative filtering function, we will fitrs create a funtion that suggest movies to users to rate them that are filtered based on user defined genre. "
   ]
  },
  {
   "cell_type": "code",
   "execution_count": 105,
   "id": "c6556b8f",
   "metadata": {},
   "outputs": [],
   "source": [
    "# firts we will define a function that rates movies\n",
    "\n",
    "def rater( df ,genre:str= None, num: int=5, ):\n",
    "    \"\"\"\n",
    "    The functions takes the following inputs:\n",
    "    df: DataFrame - a dataframe containing the movie ids, name of movie, and genres\n",
    "    num: int - number of ratings\n",
    "    genre: string - a specific genre from which to draw movies\n",
    "    \n",
    "    Then randomly draws a movie title from the dataframe for the user to rate\n",
    "    \"\"\"\n",
    "    # assigning our new user a user id\n",
    "    user_id=df.userId.max()+1                                               \n",
    "    movies_rated=pd.DataFrame()   # creating an empty dataframe to append the new users rated movies\n",
    "    \n",
    "    while num>0:  \n",
    "        if genre:                                                 # while genre parameter is not None\n",
    "            genre=genre.capitalize()                              # cpitaize the input genre for format conformity\n",
    "            movie=df.loc[ df.genres.str.contains(genre)].sample(1) #sampling one movie from containing the input genre\n",
    "            \n",
    "        else:                                                      # if no genre input is passed \n",
    "            movie=df.sample(1)                                     # then a random movie is sampleform our dataframe\n",
    "        \n",
    "        print(movie[['title','rating']])                           # printing thesampled movie title\n",
    "        print()    \n",
    "        rating= input(\"Enter rating of this movie, if you haven't watched Enter: \") #asking for user nput\n",
    "        \n",
    "#         def checker(rating):\n",
    "#             while (int(rating)>5) & (len(rating)!= 'n'):\n",
    "#                 print(\"Enter valid rating, scale of 1-5 or n\")  \n",
    "#                 rating= input()\n",
    "#             return rating\n",
    "        \n",
    "        if len(rating) == 0:                                        # if no rating is entered \n",
    "            num-=1                                                  # the jumps to select anothe movie\n",
    "            continue\n",
    "        else :                                                      # if a rating is entered \n",
    "            movie.loc[:,('userId')]= user_id                        # then the selected movie is assigned the user id\n",
    "            movies_rated=pd.concat([movies_rated, movie], axis=0)   # the movie is added to our new user rated dataframe\n",
    "            num-=1                                                  # then anothe movie is suggested till num==0\n",
    "    return movies_rated.reset_index(drop=True)                      # the rated movied are returned inform of a dataframe"
   ]
  },
  {
   "cell_type": "code",
   "execution_count": 106,
   "id": "cadff08c",
   "metadata": {
    "scrolled": false
   },
   "outputs": [
    {
     "name": "stdout",
     "output_type": "stream",
     "text": [
      "                            title  rating\n",
      "83764  You Only Live Twice (1967)     4.0\n",
      "\n",
      "Enter rating of this movie, if you haven't watched Enter: 3\n",
      "                            title  rating\n",
      "6531  Hot Shots! Part Deux (1993)     3.0\n",
      "\n",
      "Enter rating of this movie, if you haven't watched Enter: 2\n",
      "                  title  rating\n",
      "77970  Mask, The (1994)     3.0\n",
      "\n",
      "Enter rating of this movie, if you haven't watched Enter: 4\n"
     ]
    },
    {
     "data": {
      "text/html": [
       "<div>\n",
       "<style scoped>\n",
       "    .dataframe tbody tr th:only-of-type {\n",
       "        vertical-align: middle;\n",
       "    }\n",
       "\n",
       "    .dataframe tbody tr th {\n",
       "        vertical-align: top;\n",
       "    }\n",
       "\n",
       "    .dataframe thead th {\n",
       "        text-align: right;\n",
       "    }\n",
       "</style>\n",
       "<table border=\"1\" class=\"dataframe\">\n",
       "  <thead>\n",
       "    <tr style=\"text-align: right;\">\n",
       "      <th></th>\n",
       "      <th>userId</th>\n",
       "      <th>movieId</th>\n",
       "      <th>rating</th>\n",
       "      <th>title</th>\n",
       "      <th>genres</th>\n",
       "      <th>avg_rating</th>\n",
       "    </tr>\n",
       "  </thead>\n",
       "  <tbody>\n",
       "    <tr>\n",
       "      <th>0</th>\n",
       "      <td>611</td>\n",
       "      <td>7569</td>\n",
       "      <td>4.0</td>\n",
       "      <td>You Only Live Twice (1967)</td>\n",
       "      <td>Action,Adventure,Sci-Fi,Thriller</td>\n",
       "      <td>3.83</td>\n",
       "    </tr>\n",
       "    <tr>\n",
       "      <th>1</th>\n",
       "      <td>611</td>\n",
       "      <td>466</td>\n",
       "      <td>3.0</td>\n",
       "      <td>Hot Shots! Part Deux (1993)</td>\n",
       "      <td>Action,Comedy,War</td>\n",
       "      <td>2.87</td>\n",
       "    </tr>\n",
       "    <tr>\n",
       "      <th>2</th>\n",
       "      <td>611</td>\n",
       "      <td>367</td>\n",
       "      <td>3.0</td>\n",
       "      <td>Mask, The (1994)</td>\n",
       "      <td>Action,Comedy,Crime,Fantasy</td>\n",
       "      <td>3.18</td>\n",
       "    </tr>\n",
       "  </tbody>\n",
       "</table>\n",
       "</div>"
      ],
      "text/plain": [
       "   userId  movieId  rating                        title   \n",
       "0     611     7569     4.0   You Only Live Twice (1967)  \\\n",
       "1     611      466     3.0  Hot Shots! Part Deux (1993)   \n",
       "2     611      367     3.0             Mask, The (1994)   \n",
       "\n",
       "                             genres  avg_rating  \n",
       "0  Action,Adventure,Sci-Fi,Thriller        3.83  \n",
       "1                 Action,Comedy,War        2.87  \n",
       "2       Action,Comedy,Crime,Fantasy        3.18  "
      ]
     },
     "execution_count": 106,
     "metadata": {},
     "output_type": "execute_result"
    }
   ],
   "source": [
    "rater(movies,'Action', 3)"
   ]
  },
  {
   "cell_type": "markdown",
   "id": "b714c4d9",
   "metadata": {},
   "source": [
    "> With the defined rated() function, we proceed to create a collaborative filtering function  while using our SVD model"
   ]
  },
  {
   "cell_type": "code",
   "execution_count": 114,
   "id": "99291dc2",
   "metadata": {},
   "outputs": [],
   "source": [
    "def cf_recommender(df,num:int=5, genre:str=None):\n",
    "    \"\"\"\n",
    "    The function takes the following inputs;\n",
    "    \n",
    "    df: DataFrame - a dataframe containing the movie ids, name of movie, and genres\n",
    "    num:int - number of ratings to recommend\n",
    "    genre - a specific genre input from user\n",
    "    \n",
    "    The function the takes user ratings and appends then to the dataframe then fits this new dataframe to the SVD model\n",
    "    The predicts this users rating on all the movie in the dataframe then selects the top predictions and \n",
    "    recomends those movies\n",
    "    \"\"\"\n",
    "    # calling the rater function for user to enter movie ratings\n",
    "    user_ratings=rater(df=df,num=num, genre=genre)\n",
    "    \n",
    "    # then add the user ratings to our df\n",
    "    df=pd.concat([df,user_ratings],axis=0)\n",
    "\n",
    "    # convert the nwe dataset into surprise format\n",
    "    dataset = Dataset.load_from_df(df[['userId','movieId','rating']],reader)\n",
    "    \n",
    "    # then fit the surprise data to the SVD\n",
    "    svd = SVD(n_factors=300 , n_epochs=50 , lr_all=0.01 , reg_all=0.05)\n",
    "    svd.fit(dataset.build_full_trainset())\n",
    "    \n",
    "    # extract the user rating in the ratings dataframe\n",
    "    user_id=user_ratings['userId'].values[0]\n",
    "    \n",
    "    #if a genre input is passed the filter our database according to the entered genre\n",
    "    if genre:\n",
    "        df=df.loc[df.genres.str.contains(genre.capitalize())]\n",
    "        \n",
    "    #create an empty list to append the model predictions\n",
    "    user_predictions=[]\n",
    "    \n",
    "    # loopin over all the unique movie ids in the dataframe and appending the predictions to user prediction list\n",
    "    for  iid in df.movieId.unique():\n",
    "        user_predictions.append( (iid , svd.predict(user_id, iid)[3]))\n",
    "    \n",
    "    # sorting the predictions in descending order of the predictions values\n",
    "    top_pred = sorted(user_predictions , key =lambda x: x[1], reverse=True)\n",
    "    \n",
    "    # selecting the top 'num'(number of predictions) prediction indicies\n",
    "    indices=[i[0] for i in top_pred[:num]]  \n",
    "    \n",
    "    #using the extracted indices them extract the movie titles\n",
    "    rec = df[['movieId','title','rating']].loc[ df['movieId'].isin(indices)].drop_duplicates('movieId')\n",
    "    return rec[['title','rating']].reset_index(drop=True)  #then retun the movie titles and ratings"
   ]
  },
  {
   "cell_type": "code",
   "execution_count": 116,
   "id": "39f300de",
   "metadata": {},
   "outputs": [
    {
     "name": "stdout",
     "output_type": "stream",
     "text": [
      "                            title  rating\n",
      "63144  Armed and Dangerous (1986)     3.0\n",
      "\n",
      "Enter rating of this movie, if you haven't watched Enter: 3\n",
      "                  title  rating\n",
      "36347  Limitless (2011)     4.5\n",
      "\n",
      "Enter rating of this movie, if you haven't watched Enter: 4\n",
      "                title  rating\n",
      "18345  Shrek 2 (2004)     4.0\n",
      "\n",
      "Enter rating of this movie, if you haven't watched Enter: 3\n"
     ]
    },
    {
     "data": {
      "text/html": [
       "<div>\n",
       "<style scoped>\n",
       "    .dataframe tbody tr th:only-of-type {\n",
       "        vertical-align: middle;\n",
       "    }\n",
       "\n",
       "    .dataframe tbody tr th {\n",
       "        vertical-align: top;\n",
       "    }\n",
       "\n",
       "    .dataframe thead th {\n",
       "        text-align: right;\n",
       "    }\n",
       "</style>\n",
       "<table border=\"1\" class=\"dataframe\">\n",
       "  <thead>\n",
       "    <tr style=\"text-align: right;\">\n",
       "      <th></th>\n",
       "      <th>title</th>\n",
       "      <th>rating</th>\n",
       "    </tr>\n",
       "  </thead>\n",
       "  <tbody>\n",
       "    <tr>\n",
       "      <th>0</th>\n",
       "      <td>Amelie (Fabuleux destin d'Amélie Poulain, Le) ...</td>\n",
       "      <td>4.0</td>\n",
       "    </tr>\n",
       "    <tr>\n",
       "      <th>1</th>\n",
       "      <td>Adam's Rib (1949)</td>\n",
       "      <td>5.0</td>\n",
       "    </tr>\n",
       "    <tr>\n",
       "      <th>2</th>\n",
       "      <td>United 93 (2006)</td>\n",
       "      <td>4.5</td>\n",
       "    </tr>\n",
       "  </tbody>\n",
       "</table>\n",
       "</div>"
      ],
      "text/plain": [
       "                                               title  rating\n",
       "0  Amelie (Fabuleux destin d'Amélie Poulain, Le) ...     4.0\n",
       "1                                  Adam's Rib (1949)     5.0\n",
       "2                                   United 93 (2006)     4.5"
      ]
     },
     "execution_count": 116,
     "metadata": {},
     "output_type": "execute_result"
    }
   ],
   "source": [
    "# runnng our function\n",
    "cf_recommender(movies,num=3)"
   ]
  },
  {
   "cell_type": "code",
   "execution_count": 117,
   "id": "e83f4fdf",
   "metadata": {
    "scrolled": false
   },
   "outputs": [
    {
     "name": "stdout",
     "output_type": "stream",
     "text": [
      "                            title  rating\n",
      "8120  Beauty and the Beast (1991)     5.0\n",
      "\n",
      "Enter rating of this movie, if you haven't watched Enter: 4\n",
      "             title  rating\n",
      "77883  Hugo (2011)     3.5\n",
      "\n",
      "Enter rating of this movie, if you haven't watched Enter: n\n",
      "                             title  rating\n",
      "61003  Next Karate Kid, The (1994)     3.0\n",
      "\n",
      "Enter rating of this movie, if you haven't watched Enter: 5\n",
      "                                                   title  rating\n",
      "83250  101 Dalmatians (One Hundred and One Dalmatians...     3.0\n",
      "\n",
      "Enter rating of this movie, if you haven't watched Enter: n\n"
     ]
    },
    {
     "data": {
      "text/html": [
       "<div>\n",
       "<style scoped>\n",
       "    .dataframe tbody tr th:only-of-type {\n",
       "        vertical-align: middle;\n",
       "    }\n",
       "\n",
       "    .dataframe tbody tr th {\n",
       "        vertical-align: top;\n",
       "    }\n",
       "\n",
       "    .dataframe thead th {\n",
       "        text-align: right;\n",
       "    }\n",
       "</style>\n",
       "<table border=\"1\" class=\"dataframe\">\n",
       "  <thead>\n",
       "    <tr style=\"text-align: right;\">\n",
       "      <th></th>\n",
       "      <th>title</th>\n",
       "      <th>rating</th>\n",
       "    </tr>\n",
       "  </thead>\n",
       "  <tbody>\n",
       "    <tr>\n",
       "      <th>0</th>\n",
       "      <td>Beauty and the Beast (1991)</td>\n",
       "      <td>3.0</td>\n",
       "    </tr>\n",
       "    <tr>\n",
       "      <th>1</th>\n",
       "      <td>Christmas Story, A (1983)</td>\n",
       "      <td>3.0</td>\n",
       "    </tr>\n",
       "    <tr>\n",
       "      <th>2</th>\n",
       "      <td>Charlie Brown Christmas, A (1965)</td>\n",
       "      <td>4.0</td>\n",
       "    </tr>\n",
       "    <tr>\n",
       "      <th>3</th>\n",
       "      <td>Son of Rambow (2007)</td>\n",
       "      <td>5.0</td>\n",
       "    </tr>\n",
       "  </tbody>\n",
       "</table>\n",
       "</div>"
      ],
      "text/plain": [
       "                               title  rating\n",
       "0        Beauty and the Beast (1991)     3.0\n",
       "1          Christmas Story, A (1983)     3.0\n",
       "2  Charlie Brown Christmas, A (1965)     4.0\n",
       "3               Son of Rambow (2007)     5.0"
      ]
     },
     "execution_count": 117,
     "metadata": {},
     "output_type": "execute_result"
    }
   ],
   "source": [
    "cf_recommender(movies,genre='children', num=4)"
   ]
  },
  {
   "cell_type": "markdown",
   "id": "fd65733c",
   "metadata": {},
   "source": [
    "### Hybrid Recommender Systems\n",
    "In this section we are going to incoperate both of our content-based system and collaborative filtering system inorder to solve the cold start problem.\n",
    "> **Cold start problem** => It occurs when a recommendation system encounters a new user who has no data/movie refrences in the recommender's database  making it dificult to make recomendations to that user.\n",
    "\n",
    "To solve this we will combine our collaborative filteringmodel together with the content-based model. The only difference in this model is that, when the rater function is called and the user doesn't rate any movies because he/she hasn't watched then then the content-based model is called to make the recomendations."
   ]
  },
  {
   "cell_type": "code",
   "execution_count": 127,
   "id": "c75c7f0a",
   "metadata": {},
   "outputs": [],
   "source": [
    "# creating a hybrid recommendetion function\n",
    "\n",
    "def hybdrid(df,num=5, genre=None):\n",
    "    # calling the rater() function\n",
    "    user_ratings=rater(df=df,num=num, genre=genre)\n",
    "        \n",
    "    #when th user ratings come back being blank, ie no ratings given\n",
    "    # then the content-based method is called, which then makes the recommendations\n",
    "    if len(user_ratings)==0:\n",
    "        return content_based()\n",
    "        \n",
    "    df=pd.concat([df,user_ratings],axis=0)\n",
    "        \n",
    "    dataset = Dataset.load_from_df(df[['userId','movieId','rating']],reader)\n",
    "    svd = SVD(n_factors=300 , n_epochs=50 , lr_all=0.01 , reg_all=0.05)\n",
    "    svd.fit(dataset.build_full_trainset())\n",
    "        \n",
    "    user_id=user_ratings['userId'].values[0]\n",
    "    if genre:\n",
    "        df=df.loc[df.genres.str.contains(genre.capitalize())]\n",
    "            \n",
    "    user_predictions=[]\n",
    "    for  iid in df.movieId.unique():\n",
    "        user_predictions.append( (iid , svd.predict(user_id, iid)[3]))\n",
    "        \n",
    "    top_pred = sorted(user_predictions , key =lambda x: x[1], reverse=True) \n",
    "    indices=[i[0] for i in top_pred[:num]]  \n",
    "        \n",
    "    rec = df[['movieId','title','rating']].loc[ df['movieId'].isin(indices)].drop_duplicates('movieId')\n",
    "    return rec[['title','rating']].reset_index(drop=True) "
   ]
  },
  {
   "cell_type": "code",
   "execution_count": 130,
   "id": "60def2f6",
   "metadata": {},
   "outputs": [
    {
     "name": "stdout",
     "output_type": "stream",
     "text": [
      "                             title  rating\n",
      "16065  Next Best Thing, The (2000)     2.0\n",
      "\n",
      "Enter rating of this movie, if you haven't watched Enter: \n",
      "                title  rating\n",
      "16546  Old Boy (2003)     5.0\n",
      "\n",
      "Enter rating of this movie, if you haven't watched Enter: \n",
      "                        title  rating\n",
      "96654  Karate Kid, The (1984)     2.0\n",
      "\n",
      "Enter rating of this movie, if you haven't watched Enter: \n",
      "                       title  rating\n",
      "55570  Murder at 1600 (1997)     3.0\n",
      "\n",
      "Enter rating of this movie, if you haven't watched Enter: \n",
      "                                          title  rating\n",
      "27647  Ghost Dog: The Way of the Samurai (1999)     5.0\n",
      "\n",
      "Enter rating of this movie, if you haven't watched Enter: \n",
      "\n",
      "Top 5 Most Rated Movies \n",
      " ------------------------------\n",
      "                                 title  avg_rating\n",
      "0                Secrets & Lies (1996)        4.59\n",
      "1  Guess Who's Coming to Dinner (1967)        4.55\n",
      "2                Paths of Glory (1957)        4.54\n",
      "3     Streetcar Named Desire, A (1951)        4.47\n",
      "4     Celebration, The (Festen) (1998)        4.46\n",
      "Top 5 Most Watched Movies \n",
      " ---------------------------- \n"
     ]
    },
    {
     "data": {
      "text/html": [
       "<div>\n",
       "<style scoped>\n",
       "    .dataframe tbody tr th:only-of-type {\n",
       "        vertical-align: middle;\n",
       "    }\n",
       "\n",
       "    .dataframe tbody tr th {\n",
       "        vertical-align: top;\n",
       "    }\n",
       "\n",
       "    .dataframe thead th {\n",
       "        text-align: right;\n",
       "    }\n",
       "</style>\n",
       "<table border=\"1\" class=\"dataframe\">\n",
       "  <thead>\n",
       "    <tr style=\"text-align: right;\">\n",
       "      <th></th>\n",
       "      <th>title</th>\n",
       "      <th>avg_rating</th>\n",
       "    </tr>\n",
       "  </thead>\n",
       "  <tbody>\n",
       "    <tr>\n",
       "      <th>0</th>\n",
       "      <td>Pulp Fiction (1994)</td>\n",
       "      <td>4.20</td>\n",
       "    </tr>\n",
       "    <tr>\n",
       "      <th>1</th>\n",
       "      <td>Forrest Gump (1994)</td>\n",
       "      <td>4.16</td>\n",
       "    </tr>\n",
       "    <tr>\n",
       "      <th>2</th>\n",
       "      <td>Silence of the Lambs, The (1991)</td>\n",
       "      <td>4.16</td>\n",
       "    </tr>\n",
       "    <tr>\n",
       "      <th>3</th>\n",
       "      <td>Matrix, The (1999)</td>\n",
       "      <td>4.19</td>\n",
       "    </tr>\n",
       "    <tr>\n",
       "      <th>4</th>\n",
       "      <td>Shawshank Redemption, The (1994)</td>\n",
       "      <td>4.43</td>\n",
       "    </tr>\n",
       "  </tbody>\n",
       "</table>\n",
       "</div>"
      ],
      "text/plain": [
       "                              title  avg_rating\n",
       "0               Pulp Fiction (1994)        4.20\n",
       "1               Forrest Gump (1994)        4.16\n",
       "2  Silence of the Lambs, The (1991)        4.16\n",
       "3                Matrix, The (1999)        4.19\n",
       "4  Shawshank Redemption, The (1994)        4.43"
      ]
     },
     "execution_count": 130,
     "metadata": {},
     "output_type": "execute_result"
    }
   ],
   "source": [
    "# calling the hybrid function and passing no ratings\n",
    "hybdrid(movies)"
   ]
  },
  {
   "cell_type": "markdown",
   "id": "2da04304",
   "metadata": {},
   "source": [
    "* As observed above , with no ratings passed , the system has recomended the most watched movies and the most rated movied which was part of the content-based model."
   ]
  },
  {
   "cell_type": "code",
   "execution_count": null,
   "id": "1c2b6911",
   "metadata": {},
   "outputs": [],
   "source": []
  },
  {
   "cell_type": "markdown",
   "id": "e0a9ccca",
   "metadata": {},
   "source": [
    "## Conclusions"
   ]
  },
  {
   "cell_type": "code",
   "execution_count": null,
   "id": "2ce2f79f",
   "metadata": {},
   "outputs": [],
   "source": []
  },
  {
   "cell_type": "markdown",
   "id": "b5f7c1dc",
   "metadata": {},
   "source": [
    "## Recommendations"
   ]
  },
  {
   "cell_type": "code",
   "execution_count": null,
   "id": "3c323819",
   "metadata": {},
   "outputs": [],
   "source": []
  }
 ],
 "metadata": {
  "kernelspec": {
   "display_name": "Python (learn-env)",
   "language": "python",
   "name": "learn-env"
  },
  "language_info": {
   "codemirror_mode": {
    "name": "ipython",
    "version": 3
   },
   "file_extension": ".py",
   "mimetype": "text/x-python",
   "name": "python",
   "nbconvert_exporter": "python",
   "pygments_lexer": "ipython3",
   "version": "3.10.11"
  },
  "toc": {
   "base_numbering": 1,
   "nav_menu": {},
   "number_sections": true,
   "sideBar": true,
   "skip_h1_title": true,
   "title_cell": "Table of Contents",
   "title_sidebar": "Contents",
   "toc_cell": true,
   "toc_position": {
    "height": "calc(100% - 180px)",
    "left": "10px",
    "top": "150px",
    "width": "256px"
   },
   "toc_section_display": true,
   "toc_window_display": false
  }
 },
 "nbformat": 4,
 "nbformat_minor": 5
}
