{
 "cells": [
  {
   "cell_type": "markdown",
   "id": "ec0a146d",
   "metadata": {},
   "source": [
    "# Movie Recommendation System\n",
    "\n",
    "\n",
    "![picture](Images/image2.jpeg)\n"
   ]
  },
  {
   "cell_type": "markdown",
   "id": "83faa5f2",
   "metadata": {},
   "source": [
    "## Business Understnding\n",
    "\n",
    "### Introduction\n",
    "\n",
    "### Problem Statement\n",
    "\n",
    "### Research Questions\n",
    "\n",
    "### Main Objective\n",
    "\n",
    "### Specific Objectives\n",
    "\n",
    "### Metrics of success"
   ]
  },
  {
   "cell_type": "code",
   "execution_count": null,
   "id": "8e4121ff",
   "metadata": {},
   "outputs": [],
   "source": []
  },
  {
   "cell_type": "markdown",
   "id": "adab12ba",
   "metadata": {},
   "source": [
    "## Data Understanding\n",
    "The datasets used were extracted from a movie database, [MovieLens](https://grouplens.org/datasets/movielens/latest/), the datasets are;\n",
    "> Movies Dataset: the data contains 9742 movie and 3 columns , **movieId**, **movie title** and **genres**.\n",
    "\n",
    "> Ratings Dataset: the data contains 100836 rows and 3 columns namely, **userId**, **movieId** and **rating**. I has 610 userIds , 9724 rated movies and 100,836 ratings.\n",
    "\n",
    "These datasets were created by 610 users between March 29, 1996 and September 24, 2018 and generated on September 26, 2018 where users were selected at random for inclusion.\n",
    "\n",
    "For download of the dataset's, view the [Link](https://grouplens.org/datasets/movielens/latest/).\n",
    "\n",
    "The information contained in this dataset will be used to train out model.The columns (features) will provide great insight once used to train the model."
   ]
  },
  {
   "cell_type": "code",
   "execution_count": 1,
   "id": "7a4d32c2",
   "metadata": {},
   "outputs": [],
   "source": [
    "# loading necessary libraries\n",
    "import pandas as pd\n",
    "import numpy as np\n",
    "from surprise import Reader , Dataset\n",
    "from sklearn.metrics.pairwise import cosine_similarity\n",
    "from surprise.model_selection import cross_validate\n",
    "from surprise.prediction_algorithms import SVD\n",
    "from surprise.prediction_algorithms import KNNWithMeans, KNNBasic, KNNBaseline\n",
    "from surprise.model_selection import GridSearchCV"
   ]
  },
  {
   "cell_type": "code",
   "execution_count": 2,
   "id": "9f41653e",
   "metadata": {},
   "outputs": [
    {
     "data": {
      "text/html": [
       "<div>\n",
       "<style scoped>\n",
       "    .dataframe tbody tr th:only-of-type {\n",
       "        vertical-align: middle;\n",
       "    }\n",
       "\n",
       "    .dataframe tbody tr th {\n",
       "        vertical-align: top;\n",
       "    }\n",
       "\n",
       "    .dataframe thead th {\n",
       "        text-align: right;\n",
       "    }\n",
       "</style>\n",
       "<table border=\"1\" class=\"dataframe\">\n",
       "  <thead>\n",
       "    <tr style=\"text-align: right;\">\n",
       "      <th></th>\n",
       "      <th>movieId</th>\n",
       "      <th>title</th>\n",
       "      <th>genres</th>\n",
       "    </tr>\n",
       "  </thead>\n",
       "  <tbody>\n",
       "    <tr>\n",
       "      <th>0</th>\n",
       "      <td>1</td>\n",
       "      <td>Toy Story (1995)</td>\n",
       "      <td>Adventure|Animation|Children|Comedy|Fantasy</td>\n",
       "    </tr>\n",
       "    <tr>\n",
       "      <th>1</th>\n",
       "      <td>2</td>\n",
       "      <td>Jumanji (1995)</td>\n",
       "      <td>Adventure|Children|Fantasy</td>\n",
       "    </tr>\n",
       "    <tr>\n",
       "      <th>2</th>\n",
       "      <td>3</td>\n",
       "      <td>Grumpier Old Men (1995)</td>\n",
       "      <td>Comedy|Romance</td>\n",
       "    </tr>\n",
       "    <tr>\n",
       "      <th>3</th>\n",
       "      <td>4</td>\n",
       "      <td>Waiting to Exhale (1995)</td>\n",
       "      <td>Comedy|Drama|Romance</td>\n",
       "    </tr>\n",
       "    <tr>\n",
       "      <th>4</th>\n",
       "      <td>5</td>\n",
       "      <td>Father of the Bride Part II (1995)</td>\n",
       "      <td>Comedy</td>\n",
       "    </tr>\n",
       "  </tbody>\n",
       "</table>\n",
       "</div>"
      ],
      "text/plain": [
       "   movieId                               title   \n",
       "0        1                    Toy Story (1995)  \\\n",
       "1        2                      Jumanji (1995)   \n",
       "2        3             Grumpier Old Men (1995)   \n",
       "3        4            Waiting to Exhale (1995)   \n",
       "4        5  Father of the Bride Part II (1995)   \n",
       "\n",
       "                                        genres  \n",
       "0  Adventure|Animation|Children|Comedy|Fantasy  \n",
       "1                   Adventure|Children|Fantasy  \n",
       "2                               Comedy|Romance  \n",
       "3                         Comedy|Drama|Romance  \n",
       "4                                       Comedy  "
      ]
     },
     "execution_count": 2,
     "metadata": {},
     "output_type": "execute_result"
    }
   ],
   "source": [
    "# loading the movies.csv file \n",
    "movies_df=pd.read_csv('./data/movies.csv')\n",
    "\n",
    "#printing the first 5 rows\n",
    "movies_df.head()"
   ]
  },
  {
   "cell_type": "code",
   "execution_count": 3,
   "id": "2731138f",
   "metadata": {},
   "outputs": [
    {
     "name": "stdout",
     "output_type": "stream",
     "text": [
      "<class 'pandas.core.frame.DataFrame'>\n",
      "RangeIndex: 9742 entries, 0 to 9741\n",
      "Data columns (total 3 columns):\n",
      " #   Column   Non-Null Count  Dtype \n",
      "---  ------   --------------  ----- \n",
      " 0   movieId  9742 non-null   int64 \n",
      " 1   title    9742 non-null   object\n",
      " 2   genres   9742 non-null   object\n",
      "dtypes: int64(1), object(2)\n",
      "memory usage: 228.5+ KB\n"
     ]
    }
   ],
   "source": [
    "# viewing the datasets features\n",
    "movies_df.info()"
   ]
  },
  {
   "cell_type": "code",
   "execution_count": 4,
   "id": "89470d94",
   "metadata": {},
   "outputs": [
    {
     "name": "stdout",
     "output_type": "stream",
     "text": [
      "Number of Movies:  9742\n"
     ]
    }
   ],
   "source": [
    "#number of movies in the dataset\n",
    "print(\"Number of Movies: \", movies_df.movieId.nunique())"
   ]
  },
  {
   "cell_type": "code",
   "execution_count": 5,
   "id": "594ee371",
   "metadata": {},
   "outputs": [
    {
     "data": {
      "text/html": [
       "<div>\n",
       "<style scoped>\n",
       "    .dataframe tbody tr th:only-of-type {\n",
       "        vertical-align: middle;\n",
       "    }\n",
       "\n",
       "    .dataframe tbody tr th {\n",
       "        vertical-align: top;\n",
       "    }\n",
       "\n",
       "    .dataframe thead th {\n",
       "        text-align: right;\n",
       "    }\n",
       "</style>\n",
       "<table border=\"1\" class=\"dataframe\">\n",
       "  <thead>\n",
       "    <tr style=\"text-align: right;\">\n",
       "      <th></th>\n",
       "      <th>userId</th>\n",
       "      <th>movieId</th>\n",
       "      <th>rating</th>\n",
       "      <th>timestamp</th>\n",
       "    </tr>\n",
       "  </thead>\n",
       "  <tbody>\n",
       "    <tr>\n",
       "      <th>0</th>\n",
       "      <td>1</td>\n",
       "      <td>1</td>\n",
       "      <td>4.0</td>\n",
       "      <td>964982703</td>\n",
       "    </tr>\n",
       "    <tr>\n",
       "      <th>1</th>\n",
       "      <td>1</td>\n",
       "      <td>3</td>\n",
       "      <td>4.0</td>\n",
       "      <td>964981247</td>\n",
       "    </tr>\n",
       "    <tr>\n",
       "      <th>2</th>\n",
       "      <td>1</td>\n",
       "      <td>6</td>\n",
       "      <td>4.0</td>\n",
       "      <td>964982224</td>\n",
       "    </tr>\n",
       "    <tr>\n",
       "      <th>3</th>\n",
       "      <td>1</td>\n",
       "      <td>47</td>\n",
       "      <td>5.0</td>\n",
       "      <td>964983815</td>\n",
       "    </tr>\n",
       "    <tr>\n",
       "      <th>4</th>\n",
       "      <td>1</td>\n",
       "      <td>50</td>\n",
       "      <td>5.0</td>\n",
       "      <td>964982931</td>\n",
       "    </tr>\n",
       "  </tbody>\n",
       "</table>\n",
       "</div>"
      ],
      "text/plain": [
       "   userId  movieId  rating  timestamp\n",
       "0       1        1     4.0  964982703\n",
       "1       1        3     4.0  964981247\n",
       "2       1        6     4.0  964982224\n",
       "3       1       47     5.0  964983815\n",
       "4       1       50     5.0  964982931"
      ]
     },
     "execution_count": 5,
     "metadata": {},
     "output_type": "execute_result"
    }
   ],
   "source": [
    "# Loading the second dataset, ratings.csv file\n",
    "ratings_df=pd.read_csv('./data/ratings.csv')\n",
    "\n",
    "#printinh the first 5 rows\n",
    "ratings_df.head()"
   ]
  },
  {
   "cell_type": "code",
   "execution_count": 6,
   "id": "6c7d4179",
   "metadata": {
    "scrolled": true
   },
   "outputs": [
    {
     "name": "stdout",
     "output_type": "stream",
     "text": [
      "<class 'pandas.core.frame.DataFrame'>\n",
      "RangeIndex: 100836 entries, 0 to 100835\n",
      "Data columns (total 4 columns):\n",
      " #   Column     Non-Null Count   Dtype  \n",
      "---  ------     --------------   -----  \n",
      " 0   userId     100836 non-null  int64  \n",
      " 1   movieId    100836 non-null  int64  \n",
      " 2   rating     100836 non-null  float64\n",
      " 3   timestamp  100836 non-null  int64  \n",
      "dtypes: float64(1), int64(3)\n",
      "memory usage: 3.1 MB\n"
     ]
    }
   ],
   "source": [
    "# viewing the datasets features\n",
    "ratings_df.info()"
   ]
  },
  {
   "cell_type": "code",
   "execution_count": 7,
   "id": "ee18c3cd",
   "metadata": {},
   "outputs": [
    {
     "name": "stdout",
     "output_type": "stream",
     "text": [
      "Number of Users:  610\n",
      "Number of Movies:  9724\n",
      "Number of Ratings:  100836\n"
     ]
    }
   ],
   "source": [
    "# number of users and movies in the dataset\n",
    "print(\"Number of Users: \", ratings_df.userId.nunique())\n",
    "print(\"Number of Movies: \", ratings_df.movieId.nunique())\n",
    "print(\"Number of Ratings: \", ratings_df.shape[0])"
   ]
  },
  {
   "cell_type": "code",
   "execution_count": 8,
   "id": "24746838",
   "metadata": {},
   "outputs": [
    {
     "name": "stdout",
     "output_type": "stream",
     "text": [
      "<class 'pandas.core.frame.DataFrame'>\n",
      "RangeIndex: 100836 entries, 0 to 100835\n",
      "Data columns (total 4 columns):\n",
      " #   Column     Non-Null Count   Dtype  \n",
      "---  ------     --------------   -----  \n",
      " 0   userId     100836 non-null  int64  \n",
      " 1   movieId    100836 non-null  int64  \n",
      " 2   rating     100836 non-null  float64\n",
      " 3   timestamp  100836 non-null  int64  \n",
      "dtypes: float64(1), int64(3)\n",
      "memory usage: 3.1 MB\n"
     ]
    }
   ],
   "source": [
    "ratings_df.info()"
   ]
  },
  {
   "cell_type": "markdown",
   "id": "c14ccbe0",
   "metadata": {},
   "source": [
    "* The **timestamp** column will be dropped since it will not be helpful in analysis.\n"
   ]
  },
  {
   "cell_type": "code",
   "execution_count": 9,
   "id": "d3d3201d",
   "metadata": {},
   "outputs": [],
   "source": [
    "# droping the unrequired column timestamp\n",
    "ratings_df.drop('timestamp', axis=1, inplace=True)"
   ]
  },
  {
   "cell_type": "markdown",
   "id": "1b3b98bd",
   "metadata": {},
   "source": [
    "## Data Preparation"
   ]
  },
  {
   "cell_type": "code",
   "execution_count": 10,
   "id": "99b96e87",
   "metadata": {
    "scrolled": true
   },
   "outputs": [
    {
     "data": {
      "text/html": [
       "<div>\n",
       "<style scoped>\n",
       "    .dataframe tbody tr th:only-of-type {\n",
       "        vertical-align: middle;\n",
       "    }\n",
       "\n",
       "    .dataframe tbody tr th {\n",
       "        vertical-align: top;\n",
       "    }\n",
       "\n",
       "    .dataframe thead th {\n",
       "        text-align: right;\n",
       "    }\n",
       "</style>\n",
       "<table border=\"1\" class=\"dataframe\">\n",
       "  <thead>\n",
       "    <tr style=\"text-align: right;\">\n",
       "      <th></th>\n",
       "      <th>movieId</th>\n",
       "      <th>title</th>\n",
       "      <th>genres</th>\n",
       "      <th>rating</th>\n",
       "    </tr>\n",
       "  </thead>\n",
       "  <tbody>\n",
       "    <tr>\n",
       "      <th>0</th>\n",
       "      <td>1</td>\n",
       "      <td>Toy Story (1995)</td>\n",
       "      <td>Adventure|Animation|Children|Comedy|Fantasy</td>\n",
       "      <td>4.0</td>\n",
       "    </tr>\n",
       "    <tr>\n",
       "      <th>1</th>\n",
       "      <td>1</td>\n",
       "      <td>Toy Story (1995)</td>\n",
       "      <td>Adventure|Animation|Children|Comedy|Fantasy</td>\n",
       "      <td>4.0</td>\n",
       "    </tr>\n",
       "    <tr>\n",
       "      <th>2</th>\n",
       "      <td>1</td>\n",
       "      <td>Toy Story (1995)</td>\n",
       "      <td>Adventure|Animation|Children|Comedy|Fantasy</td>\n",
       "      <td>4.5</td>\n",
       "    </tr>\n",
       "    <tr>\n",
       "      <th>3</th>\n",
       "      <td>1</td>\n",
       "      <td>Toy Story (1995)</td>\n",
       "      <td>Adventure|Animation|Children|Comedy|Fantasy</td>\n",
       "      <td>2.5</td>\n",
       "    </tr>\n",
       "    <tr>\n",
       "      <th>4</th>\n",
       "      <td>1</td>\n",
       "      <td>Toy Story (1995)</td>\n",
       "      <td>Adventure|Animation|Children|Comedy|Fantasy</td>\n",
       "      <td>4.5</td>\n",
       "    </tr>\n",
       "  </tbody>\n",
       "</table>\n",
       "</div>"
      ],
      "text/plain": [
       "   movieId             title                                       genres   \n",
       "0        1  Toy Story (1995)  Adventure|Animation|Children|Comedy|Fantasy  \\\n",
       "1        1  Toy Story (1995)  Adventure|Animation|Children|Comedy|Fantasy   \n",
       "2        1  Toy Story (1995)  Adventure|Animation|Children|Comedy|Fantasy   \n",
       "3        1  Toy Story (1995)  Adventure|Animation|Children|Comedy|Fantasy   \n",
       "4        1  Toy Story (1995)  Adventure|Animation|Children|Comedy|Fantasy   \n",
       "\n",
       "   rating  \n",
       "0     4.0  \n",
       "1     4.0  \n",
       "2     4.5  \n",
       "3     2.5  \n",
       "4     4.5  "
      ]
     },
     "execution_count": 10,
     "metadata": {},
     "output_type": "execute_result"
    }
   ],
   "source": [
    "movies_df=pd.merge(left=movies_df, right=ratings_df[['movieId', 'rating']],  how = 'left' , on='movieId')\n",
    "movies_df.head()"
   ]
  },
  {
   "cell_type": "code",
   "execution_count": 11,
   "id": "6974d873",
   "metadata": {},
   "outputs": [
    {
     "data": {
      "text/plain": [
       "3.92"
      ]
     },
     "execution_count": 11,
     "metadata": {},
     "output_type": "execute_result"
    }
   ],
   "source": [
    "\n",
    "def avg_rating(movie):\n",
    "    mean=movies_df.loc[movies_df.movieId==movie,'rating'].mean()\n",
    "    mean=np.round(mean,2)\n",
    "    return mean\n",
    "\n",
    "# testing the function on the first movie id\n",
    "avg_rating(movies_df.movieId[0])"
   ]
  },
  {
   "cell_type": "code",
   "execution_count": 13,
   "id": "f7b411a9",
   "metadata": {},
   "outputs": [
    {
     "name": "stdout",
     "output_type": "stream",
     "text": [
      "Duplicates:  0\n",
      "Null values:\n",
      "--------------\n",
      " userId     0\n",
      "movieId    0\n",
      "rating     0\n",
      "dtype: int64\n"
     ]
    }
   ],
   "source": [
    "# checking for duplicatedsand null values in our ratings dataframe\n",
    "print(\"Duplicates: \",ratings_df.duplicated().sum())\n",
    "print(\"Null values:\\n--------------\\n\",ratings_df.isna().sum())"
   ]
  },
  {
   "cell_type": "code",
   "execution_count": 14,
   "id": "3203f1cf",
   "metadata": {},
   "outputs": [
    {
     "name": "stdout",
     "output_type": "stream",
     "text": [
      "Duplicates:  0\n",
      "Null values:\n",
      "--------------\n",
      " movieId        0\n",
      "title          0\n",
      "genres         0\n",
      "rating        18\n",
      "avg_rating    18\n",
      "dtype: int64\n"
     ]
    }
   ],
   "source": [
    "# checking for duplicatedsand null values in our movies dataframe\n",
    "print(\"Duplicates: \",movie_df.duplicated().sum())\n",
    "print(\"Null values:\\n--------------\\n\",movie_df.isna().sum())"
   ]
  },
  {
   "cell_type": "code",
   "execution_count": 15,
   "id": "bae589bd",
   "metadata": {},
   "outputs": [
    {
     "name": "stdout",
     "output_type": "stream",
     "text": [
      "0      Adventure|Animation|Children|Comedy|Fantasy\n",
      "215                     Adventure|Children|Fantasy\n",
      "325                                 Comedy|Romance\n",
      "377                           Comedy|Drama|Romance\n",
      "384                                         Comedy\n",
      "Name: genres, dtype: object\n",
      "0      Adventure,Animation,Children,Comedy,Fantasy\n",
      "215                     Adventure,Children,Fantasy\n",
      "325                                 Comedy,Romance\n",
      "377                           Comedy,Drama,Romance\n",
      "384                                         Comedy\n",
      "Name: genres, dtype: object\n"
     ]
    }
   ],
   "source": [
    "# cleaning the genres column\n",
    "print(movie_df.genres[:5])\n",
    "\n",
    "#replacing the \"|\" marks with commas ','\n",
    "movie_df.genres=movie_df.genres.apply( lambda x: x.replace('|',','))\n",
    "print(movie_df.genres[:5])"
   ]
  },
  {
   "cell_type": "markdown",
   "id": "3a8979f6",
   "metadata": {},
   "source": [
    "### Exploratory Data Analysis"
   ]
  },
  {
   "cell_type": "code",
   "execution_count": null,
   "id": "20a54715",
   "metadata": {},
   "outputs": [],
   "source": []
  },
  {
   "cell_type": "code",
   "execution_count": null,
   "id": "b6010c27",
   "metadata": {},
   "outputs": [],
   "source": []
  },
  {
   "cell_type": "code",
   "execution_count": null,
   "id": "0df9e8cf",
   "metadata": {},
   "outputs": [],
   "source": []
  }
 ],
 "metadata": {
  "kernelspec": {
   "display_name": "Python (learn-env)",
   "language": "python",
   "name": "learn-env"
  },
  "language_info": {
   "codemirror_mode": {
    "name": "ipython",
    "version": 3
   },
   "file_extension": ".py",
   "mimetype": "text/x-python",
   "name": "python",
   "nbconvert_exporter": "python",
   "pygments_lexer": "ipython3",
   "version": "3.10.11"
  },
  "toc": {
   "base_numbering": 1,
   "nav_menu": {},
   "number_sections": true,
   "sideBar": true,
   "skip_h1_title": false,
   "title_cell": "Table of Contents",
   "title_sidebar": "Contents",
   "toc_cell": false,
   "toc_position": {},
   "toc_section_display": true,
   "toc_window_display": false
  }
 },
 "nbformat": 4,
 "nbformat_minor": 5
}
