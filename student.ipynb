{
 "cells": [
  {
   "cell_type": "markdown",
   "id": "ec0a146d",
   "metadata": {},
   "source": [
    "# Hybrid Movie Recommendation System\n",
    "\n",
    "![picture](Images/image2.jpeg)\n"
   ]
  },
  {
   "cell_type": "markdown",
   "id": "d1defcf5",
   "metadata": {},
   "source": [
    "<h1>Table of Contents<span class=\"tocSkip\"></span></h1>\n",
    "<div class=\"toc\"><ul class=\"toc-item\"><li><span><a href=\"#Business-Understnding\" data-toc-modified-id=\"Business-Understnding-1\"><span class=\"toc-item-num\">1&nbsp;&nbsp;</span>Business Understnding</a></span><ul class=\"toc-item\"><li><span><a href=\"#Introduction\" data-toc-modified-id=\"Introduction-1.1\"><span class=\"toc-item-num\">1.1&nbsp;&nbsp;</span>Introduction</a></span></li><li><span><a href=\"#Problem-Statement\" data-toc-modified-id=\"Problem-Statement-1.2\"><span class=\"toc-item-num\">1.2&nbsp;&nbsp;</span>Problem Statement</a></span></li><li><span><a href=\"#Research-Questions\" data-toc-modified-id=\"Research-Questions-1.3\"><span class=\"toc-item-num\">1.3&nbsp;&nbsp;</span>Research Questions</a></span></li><li><span><a href=\"#Main-Objective\" data-toc-modified-id=\"Main-Objective-1.4\"><span class=\"toc-item-num\">1.4&nbsp;&nbsp;</span>Main Objective</a></span></li><li><span><a href=\"#Specific-Objectives\" data-toc-modified-id=\"Specific-Objectives-1.5\"><span class=\"toc-item-num\">1.5&nbsp;&nbsp;</span>Specific Objectives</a></span></li><li><span><a href=\"#Metrics-of-success\" data-toc-modified-id=\"Metrics-of-success-1.6\"><span class=\"toc-item-num\">1.6&nbsp;&nbsp;</span>Metrics of success</a></span></li></ul></li><li><span><a href=\"#Data-Understanding\" data-toc-modified-id=\"Data-Understanding-2\"><span class=\"toc-item-num\">2&nbsp;&nbsp;</span>Data Understanding</a></span></li><li><span><a href=\"#Data-Preparation\" data-toc-modified-id=\"Data-Preparation-3\"><span class=\"toc-item-num\">3&nbsp;&nbsp;</span>Data Preparation</a></span><ul class=\"toc-item\"><li><span><a href=\"#Exploratory-Data-Analysis\" data-toc-modified-id=\"Exploratory-Data-Analysis-3.1\"><span class=\"toc-item-num\">3.1&nbsp;&nbsp;</span>Exploratory Data Analysis</a></span><ul class=\"toc-item\"><li><span><a href=\"#Rating-Value-Counts\" data-toc-modified-id=\"Rating-Value-Counts-3.1.1\"><span class=\"toc-item-num\">3.1.1&nbsp;&nbsp;</span>Rating Value Counts</a></span></li><li><span><a href=\"#Top-Most-Watched-Movies\" data-toc-modified-id=\"Top-Most-Watched-Movies-3.1.2\"><span class=\"toc-item-num\">3.1.2&nbsp;&nbsp;</span>Top Most Watched Movies</a></span></li><li><span><a href=\"#Top-Most-Rated-Movies\" data-toc-modified-id=\"Top-Most-Rated-Movies-3.1.3\"><span class=\"toc-item-num\">3.1.3&nbsp;&nbsp;</span>Top Most Rated Movies</a></span></li><li><span><a href=\"#Top-Active-Users.\" data-toc-modified-id=\"Top-Active-Users.-3.1.4\"><span class=\"toc-item-num\">3.1.4&nbsp;&nbsp;</span>Top Active Users.</a></span></li></ul></li></ul></li><li><span><a href=\"#Modelling\" data-toc-modified-id=\"Modelling-4\"><span class=\"toc-item-num\">4&nbsp;&nbsp;</span>Modelling</a></span><ul class=\"toc-item\"><li><span><a href=\"#Content-Based-Recommender-Systems\" data-toc-modified-id=\"Content-Based-Recommender-Systems-4.1\"><span class=\"toc-item-num\">4.1&nbsp;&nbsp;</span>Content-Based Recommender Systems</a></span></li><li><span><a href=\"#Collaborative-Filtering\" data-toc-modified-id=\"Collaborative-Filtering-4.2\"><span class=\"toc-item-num\">4.2&nbsp;&nbsp;</span>Collaborative Filtering</a></span><ul class=\"toc-item\"><li><span><a href=\"#Neighborhood-Based-Models.\" data-toc-modified-id=\"Neighborhood-Based-Models.-4.2.1\"><span class=\"toc-item-num\">4.2.1&nbsp;&nbsp;</span>Neighborhood-Based Models.</a></span></li><li><span><a href=\"#Model-Based-Models\" data-toc-modified-id=\"Model-Based-Models-4.2.2\"><span class=\"toc-item-num\">4.2.2&nbsp;&nbsp;</span>Model Based Models</a></span></li></ul></li><li><span><a href=\"#Hybrid-Recommender-Systems\" data-toc-modified-id=\"Hybrid-Recommender-Systems-4.3\"><span class=\"toc-item-num\">4.3&nbsp;&nbsp;</span>Hybrid Recommender Systems</a></span></li></ul></li><li><span><a href=\"#Conclusions\" data-toc-modified-id=\"Conclusions-5\"><span class=\"toc-item-num\">5&nbsp;&nbsp;</span>Conclusions</a></span></li><li><span><a href=\"#Recommendations\" data-toc-modified-id=\"Recommendations-6\"><span class=\"toc-item-num\">6&nbsp;&nbsp;</span>Recommendations</a></span></li></ul></div>"
   ]
  },
  {
   "cell_type": "markdown",
   "id": "58e437f2",
   "metadata": {},
   "source": [
    "##  Business Understnding\n",
    "### Introduction\n",
    "Movies are a popular, widely spread, and recognized form of entertainment that has evolved drastically since its emergence in the 19th century. Movies have become easily accessible with advancements in technology, as filming has evolved from theatre streaming to online streaming, which has become dominant over the past decade. This has resulted in the emergence of online film streaming platforms, like Netflix, Hulu, and Amazon Prime, which provide convenient streaming services to users online and apply regular streaming charges.\n",
    "\n",
    "StreamHd is an emerging online streaming platform, that provides access to a wide database of quality and high-resolution films to its users under fair prices and at fast streaming speeds. It has gained a tremendous pool of users and familiarity as a result of seeking to upgrade its online platform and services. In order to offer a competitive advantage to its rivals i.e. Netflix, Hulu, and Amazon Prime, StreamHd must venture into implementing recommender systems and tap into the wide pool of possibilities that they offer. Also, being part of the organization's analytical team, have been tasked with analyzing the platform's user and movie database and coming up with actionable solutions and insights that will offer users a premium streaming experience and boost revenue collection.\n",
    "\n",
    "### Problem Statement\n",
    "StreamHd, a movie streaming platform, is rapidly growing in its user pool and familiarity but still relies on its obsolete online infrastructure and service delivery mechanisms on its platform. As a result, it is experiencing a depreciating service delivery to its users and reduced revenue collections, and as a result, they are pursuing the revolutionization of its online technologies.\n",
    "\n",
    "In order to solve the problem of depreciating service delivery and reducing revenue collections of the organization's online streaming platform, as a member of the organization's analist, will undertake an analysis of the platform's movie database and develop strategies that will improve revenue collections. Also, develop a hybrid recommendation system that will offer personalized recommendations to users hence exposing them to a wide pool of films and increasing their purchasing thresholds while eventually improving customer satisfaction and services.\n",
    "\n",
    "###  Research Questions\n",
    "1. Which are the most loyal users?\n",
    "2. Which are the most watched movies and genres?\n",
    "3. Which are the most-rated movies and genres?\n",
    "4. How can user service delivery be improved?\n",
    "5. How can user satisfaction and retention be accomplished?\n",
    "\n",
    "###  Main Objective\n",
    "The project is aimed at, developing a hybrid recommendation system that will, offer personalized recommendations to users while exposing users to a wide pool of movies/films, improve user satisfaction & service delivery, and increase user purchasing thresholds as a result of increasing revenue collection. Also, we will explore the dataset and come up with strategies that will be crucial in improving revenue pools while offering a premium streaming experience.\n",
    "\n",
    "###  Specific Objectives\n",
    "1. Identify the Top 5 most rated and watched genres\n",
    "2. Top 5 users with the most watched movies\n",
    "3. Develop a Content-based recommendation system\n",
    "4. Develop a Collaborative Filtering recommendation system\n",
    "5. Solve the cold start problem by implementing a hybrid recommendation system\n",
    "###  Metrics of success\n",
    "* To develop a hybrid recommendation system that uses both content-based and collaborative filtering models in order to solve the cold start problem\n",
    "* Provide actionable solutions that can lead to improved customer satisfaction and increased revenue collections."
   ]
  },
  {
   "cell_type": "markdown",
   "id": "adab12ba",
   "metadata": {},
   "source": [
    "## Data Understanding\n",
    "The datasets used in this project were extracted from a movie database, [MovieLens](https://grouplens.org/datasets/movielens/latest/), and they include information about 610 user ratings on 9,742 movies with each user having at least 20 ratings. They were collected between the period March 29, 1996, and September 24, 2018, and generated on September 26, 2018, where users were selected at random for inclusion, the datasets include;\n",
    "> **movies.csv**: the dataset contains information about all the rated movies, with 9,742 rows and 3 columns, **movieId**, **movie title** and **genres**.\n",
    "\n",
    "> **ratings.csv**: the dataset represents all the movies each user has rated and contains 100,836 rows and 3 columns namely, **userId**, **movieId**, and **rating** with 610 unique userIds, 9724  movieIds, and 100,836 ratings.\n",
    "\n",
    "\n",
    "This makes the datasets suitable for our analysis and making a recommendation systems.For the download of the datasets, view the [Link](https://grouplens.org/datasets/movielens/latest/).\n",
    "\n",
    "The information contained in this dataset will be used to train models and in the development of the recommender systems."
   ]
  },
  {
   "cell_type": "code",
   "execution_count": 1,
   "id": "7a4d32c2",
   "metadata": {},
   "outputs": [],
   "source": [
    "# loading necessary libraries\n",
    "\n",
    "import numpy as np\n",
    "import pandas as pd\n",
    "import matplotlib.pyplot as plt\n",
    "import seaborn as sns\n",
    "from sklearn.feature_extraction.text import CountVectorizer\n",
    "from sklearn.metrics.pairwise import cosine_similarity\n",
    "from surprise import Reader , Dataset\n",
    "from surprise.model_selection import cross_validate, train_test_split\n",
    "from surprise.prediction_algorithms import SVD\n",
    "from surprise.prediction_algorithms import KNNWithMeans, KNNBasic, KNNBaseline\n",
    "from surprise.model_selection import GridSearchCV\n",
    "\n",
    "\n",
    "# plotting styles\n",
    "plt.style.use(\"fivethirtyeight\")\n",
    "%matplotlib inline"
   ]
  },
  {
   "cell_type": "code",
   "execution_count": 2,
   "id": "9f41653e",
   "metadata": {},
   "outputs": [
    {
     "data": {
      "text/html": [
       "<div>\n",
       "<style scoped>\n",
       "    .dataframe tbody tr th:only-of-type {\n",
       "        vertical-align: middle;\n",
       "    }\n",
       "\n",
       "    .dataframe tbody tr th {\n",
       "        vertical-align: top;\n",
       "    }\n",
       "\n",
       "    .dataframe thead th {\n",
       "        text-align: right;\n",
       "    }\n",
       "</style>\n",
       "<table border=\"1\" class=\"dataframe\">\n",
       "  <thead>\n",
       "    <tr style=\"text-align: right;\">\n",
       "      <th></th>\n",
       "      <th>movieId</th>\n",
       "      <th>title</th>\n",
       "      <th>genres</th>\n",
       "    </tr>\n",
       "  </thead>\n",
       "  <tbody>\n",
       "    <tr>\n",
       "      <th>0</th>\n",
       "      <td>1</td>\n",
       "      <td>Toy Story (1995)</td>\n",
       "      <td>Adventure|Animation|Children|Comedy|Fantasy</td>\n",
       "    </tr>\n",
       "    <tr>\n",
       "      <th>1</th>\n",
       "      <td>2</td>\n",
       "      <td>Jumanji (1995)</td>\n",
       "      <td>Adventure|Children|Fantasy</td>\n",
       "    </tr>\n",
       "    <tr>\n",
       "      <th>2</th>\n",
       "      <td>3</td>\n",
       "      <td>Grumpier Old Men (1995)</td>\n",
       "      <td>Comedy|Romance</td>\n",
       "    </tr>\n",
       "    <tr>\n",
       "      <th>3</th>\n",
       "      <td>4</td>\n",
       "      <td>Waiting to Exhale (1995)</td>\n",
       "      <td>Comedy|Drama|Romance</td>\n",
       "    </tr>\n",
       "    <tr>\n",
       "      <th>4</th>\n",
       "      <td>5</td>\n",
       "      <td>Father of the Bride Part II (1995)</td>\n",
       "      <td>Comedy</td>\n",
       "    </tr>\n",
       "  </tbody>\n",
       "</table>\n",
       "</div>"
      ],
      "text/plain": [
       "   movieId                               title   \n",
       "0        1                    Toy Story (1995)  \\\n",
       "1        2                      Jumanji (1995)   \n",
       "2        3             Grumpier Old Men (1995)   \n",
       "3        4            Waiting to Exhale (1995)   \n",
       "4        5  Father of the Bride Part II (1995)   \n",
       "\n",
       "                                        genres  \n",
       "0  Adventure|Animation|Children|Comedy|Fantasy  \n",
       "1                   Adventure|Children|Fantasy  \n",
       "2                               Comedy|Romance  \n",
       "3                         Comedy|Drama|Romance  \n",
       "4                                       Comedy  "
      ]
     },
     "execution_count": 2,
     "metadata": {},
     "output_type": "execute_result"
    }
   ],
   "source": [
    "# loading the movies.csv file \n",
    "movies_df=pd.read_csv('./data/movies.csv')\n",
    "\n",
    "#printing the first 5 rows\n",
    "movies_df.head()"
   ]
  },
  {
   "cell_type": "code",
   "execution_count": 3,
   "id": "2731138f",
   "metadata": {},
   "outputs": [
    {
     "name": "stdout",
     "output_type": "stream",
     "text": [
      "<class 'pandas.core.frame.DataFrame'>\n",
      "RangeIndex: 9742 entries, 0 to 9741\n",
      "Data columns (total 3 columns):\n",
      " #   Column   Non-Null Count  Dtype \n",
      "---  ------   --------------  ----- \n",
      " 0   movieId  9742 non-null   int64 \n",
      " 1   title    9742 non-null   object\n",
      " 2   genres   9742 non-null   object\n",
      "dtypes: int64(1), object(2)\n",
      "memory usage: 228.5+ KB\n"
     ]
    }
   ],
   "source": [
    "# viewing the datasets features/columns\n",
    "movies_df.info()"
   ]
  },
  {
   "cell_type": "code",
   "execution_count": 4,
   "id": "89470d94",
   "metadata": {},
   "outputs": [
    {
     "name": "stdout",
     "output_type": "stream",
     "text": [
      "Number of Movies:  9742\n"
     ]
    }
   ],
   "source": [
    "#number of movies in the dataset\n",
    "print(\"Number of Movies: \", movies_df.movieId.nunique())"
   ]
  },
  {
   "cell_type": "code",
   "execution_count": 5,
   "id": "594ee371",
   "metadata": {},
   "outputs": [
    {
     "data": {
      "text/html": [
       "<div>\n",
       "<style scoped>\n",
       "    .dataframe tbody tr th:only-of-type {\n",
       "        vertical-align: middle;\n",
       "    }\n",
       "\n",
       "    .dataframe tbody tr th {\n",
       "        vertical-align: top;\n",
       "    }\n",
       "\n",
       "    .dataframe thead th {\n",
       "        text-align: right;\n",
       "    }\n",
       "</style>\n",
       "<table border=\"1\" class=\"dataframe\">\n",
       "  <thead>\n",
       "    <tr style=\"text-align: right;\">\n",
       "      <th></th>\n",
       "      <th>userId</th>\n",
       "      <th>movieId</th>\n",
       "      <th>rating</th>\n",
       "      <th>timestamp</th>\n",
       "    </tr>\n",
       "  </thead>\n",
       "  <tbody>\n",
       "    <tr>\n",
       "      <th>0</th>\n",
       "      <td>1</td>\n",
       "      <td>1</td>\n",
       "      <td>4.0</td>\n",
       "      <td>964982703</td>\n",
       "    </tr>\n",
       "    <tr>\n",
       "      <th>1</th>\n",
       "      <td>1</td>\n",
       "      <td>3</td>\n",
       "      <td>4.0</td>\n",
       "      <td>964981247</td>\n",
       "    </tr>\n",
       "    <tr>\n",
       "      <th>2</th>\n",
       "      <td>1</td>\n",
       "      <td>6</td>\n",
       "      <td>4.0</td>\n",
       "      <td>964982224</td>\n",
       "    </tr>\n",
       "    <tr>\n",
       "      <th>3</th>\n",
       "      <td>1</td>\n",
       "      <td>47</td>\n",
       "      <td>5.0</td>\n",
       "      <td>964983815</td>\n",
       "    </tr>\n",
       "    <tr>\n",
       "      <th>4</th>\n",
       "      <td>1</td>\n",
       "      <td>50</td>\n",
       "      <td>5.0</td>\n",
       "      <td>964982931</td>\n",
       "    </tr>\n",
       "  </tbody>\n",
       "</table>\n",
       "</div>"
      ],
      "text/plain": [
       "   userId  movieId  rating  timestamp\n",
       "0       1        1     4.0  964982703\n",
       "1       1        3     4.0  964981247\n",
       "2       1        6     4.0  964982224\n",
       "3       1       47     5.0  964983815\n",
       "4       1       50     5.0  964982931"
      ]
     },
     "execution_count": 5,
     "metadata": {},
     "output_type": "execute_result"
    }
   ],
   "source": [
    "# Loading the second dataset, ratings.csv file\n",
    "ratings_df=pd.read_csv('./data/ratings.csv')\n",
    "\n",
    "#printinh the first 5 rows\n",
    "ratings_df.head()"
   ]
  },
  {
   "cell_type": "code",
   "execution_count": 6,
   "id": "6c7d4179",
   "metadata": {
    "scrolled": true
   },
   "outputs": [
    {
     "name": "stdout",
     "output_type": "stream",
     "text": [
      "<class 'pandas.core.frame.DataFrame'>\n",
      "RangeIndex: 100836 entries, 0 to 100835\n",
      "Data columns (total 4 columns):\n",
      " #   Column     Non-Null Count   Dtype  \n",
      "---  ------     --------------   -----  \n",
      " 0   userId     100836 non-null  int64  \n",
      " 1   movieId    100836 non-null  int64  \n",
      " 2   rating     100836 non-null  float64\n",
      " 3   timestamp  100836 non-null  int64  \n",
      "dtypes: float64(1), int64(3)\n",
      "memory usage: 3.1 MB\n"
     ]
    }
   ],
   "source": [
    "# viewing the datasets features/columns\n",
    "ratings_df.info()"
   ]
  },
  {
   "cell_type": "code",
   "execution_count": 7,
   "id": "ee18c3cd",
   "metadata": {},
   "outputs": [
    {
     "name": "stdout",
     "output_type": "stream",
     "text": [
      "Number of Users:  610\n",
      "Number of Movies:  9724\n",
      "Number of Ratings:  100836\n"
     ]
    }
   ],
   "source": [
    "# number of users and movies in the dataset\n",
    "print(\"Number of Users: \", ratings_df.userId.nunique())\n",
    "print(\"Number of Movies: \", ratings_df.movieId.nunique())\n",
    "print(\"Number of Ratings: \", ratings_df.shape[0])"
   ]
  },
  {
   "cell_type": "code",
   "execution_count": 8,
   "id": "d3d3201d",
   "metadata": {},
   "outputs": [
    {
     "data": {
      "text/html": [
       "<div>\n",
       "<style scoped>\n",
       "    .dataframe tbody tr th:only-of-type {\n",
       "        vertical-align: middle;\n",
       "    }\n",
       "\n",
       "    .dataframe tbody tr th {\n",
       "        vertical-align: top;\n",
       "    }\n",
       "\n",
       "    .dataframe thead th {\n",
       "        text-align: right;\n",
       "    }\n",
       "</style>\n",
       "<table border=\"1\" class=\"dataframe\">\n",
       "  <thead>\n",
       "    <tr style=\"text-align: right;\">\n",
       "      <th></th>\n",
       "      <th>userId</th>\n",
       "      <th>movieId</th>\n",
       "      <th>rating</th>\n",
       "      <th>timestamp</th>\n",
       "    </tr>\n",
       "  </thead>\n",
       "  <tbody>\n",
       "    <tr>\n",
       "      <th>count</th>\n",
       "      <td>100836.000000</td>\n",
       "      <td>100836.000000</td>\n",
       "      <td>100836.000000</td>\n",
       "      <td>1.008360e+05</td>\n",
       "    </tr>\n",
       "    <tr>\n",
       "      <th>mean</th>\n",
       "      <td>326.127564</td>\n",
       "      <td>19435.295718</td>\n",
       "      <td>3.501557</td>\n",
       "      <td>1.205946e+09</td>\n",
       "    </tr>\n",
       "    <tr>\n",
       "      <th>std</th>\n",
       "      <td>182.618491</td>\n",
       "      <td>35530.987199</td>\n",
       "      <td>1.042529</td>\n",
       "      <td>2.162610e+08</td>\n",
       "    </tr>\n",
       "    <tr>\n",
       "      <th>min</th>\n",
       "      <td>1.000000</td>\n",
       "      <td>1.000000</td>\n",
       "      <td>0.500000</td>\n",
       "      <td>8.281246e+08</td>\n",
       "    </tr>\n",
       "    <tr>\n",
       "      <th>25%</th>\n",
       "      <td>177.000000</td>\n",
       "      <td>1199.000000</td>\n",
       "      <td>3.000000</td>\n",
       "      <td>1.019124e+09</td>\n",
       "    </tr>\n",
       "    <tr>\n",
       "      <th>50%</th>\n",
       "      <td>325.000000</td>\n",
       "      <td>2991.000000</td>\n",
       "      <td>3.500000</td>\n",
       "      <td>1.186087e+09</td>\n",
       "    </tr>\n",
       "    <tr>\n",
       "      <th>75%</th>\n",
       "      <td>477.000000</td>\n",
       "      <td>8122.000000</td>\n",
       "      <td>4.000000</td>\n",
       "      <td>1.435994e+09</td>\n",
       "    </tr>\n",
       "    <tr>\n",
       "      <th>max</th>\n",
       "      <td>610.000000</td>\n",
       "      <td>193609.000000</td>\n",
       "      <td>5.000000</td>\n",
       "      <td>1.537799e+09</td>\n",
       "    </tr>\n",
       "  </tbody>\n",
       "</table>\n",
       "</div>"
      ],
      "text/plain": [
       "              userId        movieId         rating     timestamp\n",
       "count  100836.000000  100836.000000  100836.000000  1.008360e+05\n",
       "mean      326.127564   19435.295718       3.501557  1.205946e+09\n",
       "std       182.618491   35530.987199       1.042529  2.162610e+08\n",
       "min         1.000000       1.000000       0.500000  8.281246e+08\n",
       "25%       177.000000    1199.000000       3.000000  1.019124e+09\n",
       "50%       325.000000    2991.000000       3.500000  1.186087e+09\n",
       "75%       477.000000    8122.000000       4.000000  1.435994e+09\n",
       "max       610.000000  193609.000000       5.000000  1.537799e+09"
      ]
     },
     "execution_count": 8,
     "metadata": {},
     "output_type": "execute_result"
    }
   ],
   "source": [
    "# viewing the ratings dataframe summary statistics\n",
    "ratings_df.describe()"
   ]
  },
  {
   "cell_type": "markdown",
   "id": "5f2ffe5d",
   "metadata": {},
   "source": [
    "* We discover that the average rating in our ratings dataset is 3.5 with majority of the movies having a rating above 3."
   ]
  },
  {
   "cell_type": "markdown",
   "id": "1b3b98bd",
   "metadata": {},
   "source": [
    "## Data Preparation\n",
    "In this section, we will perform data cleaning to prepare the dataset for analysis, the various data cleaning methods that are to be used will be;\n",
    "- Droping Irrelevant columns\n",
    "- Feature Engineering\n",
    "- Checking and removing duplicates \n",
    "- Checking Dealing with missing data "
   ]
  },
  {
   "cell_type": "markdown",
   "id": "7f689899",
   "metadata": {},
   "source": [
    "* The **timestamp** column will be dropped since it will not be helpful in analysis."
   ]
  },
  {
   "cell_type": "code",
   "execution_count": 9,
   "id": "3a3d2d0b",
   "metadata": {},
   "outputs": [],
   "source": [
    "# droping the unrequired column timestamp\n",
    "ratings_df.drop('timestamp', axis=1, inplace=True)"
   ]
  },
  {
   "cell_type": "markdown",
   "id": "dcab78e0",
   "metadata": {},
   "source": [
    "* For easier analysis and visualisation, we will merge the two dataframes **movies_df** and **ratings_df** into one dataframe **movies** dataframe using the common shared column **movieId** as the primary key. "
   ]
  },
  {
   "cell_type": "code",
   "execution_count": 10,
   "id": "99b96e87",
   "metadata": {
    "scrolled": true
   },
   "outputs": [
    {
     "data": {
      "text/html": [
       "<div>\n",
       "<style scoped>\n",
       "    .dataframe tbody tr th:only-of-type {\n",
       "        vertical-align: middle;\n",
       "    }\n",
       "\n",
       "    .dataframe tbody tr th {\n",
       "        vertical-align: top;\n",
       "    }\n",
       "\n",
       "    .dataframe thead th {\n",
       "        text-align: right;\n",
       "    }\n",
       "</style>\n",
       "<table border=\"1\" class=\"dataframe\">\n",
       "  <thead>\n",
       "    <tr style=\"text-align: right;\">\n",
       "      <th></th>\n",
       "      <th>userId</th>\n",
       "      <th>movieId</th>\n",
       "      <th>rating</th>\n",
       "      <th>title</th>\n",
       "      <th>genres</th>\n",
       "    </tr>\n",
       "  </thead>\n",
       "  <tbody>\n",
       "    <tr>\n",
       "      <th>0</th>\n",
       "      <td>1</td>\n",
       "      <td>1</td>\n",
       "      <td>4.0</td>\n",
       "      <td>Toy Story (1995)</td>\n",
       "      <td>Adventure|Animation|Children|Comedy|Fantasy</td>\n",
       "    </tr>\n",
       "    <tr>\n",
       "      <th>1</th>\n",
       "      <td>1</td>\n",
       "      <td>3</td>\n",
       "      <td>4.0</td>\n",
       "      <td>Grumpier Old Men (1995)</td>\n",
       "      <td>Comedy|Romance</td>\n",
       "    </tr>\n",
       "    <tr>\n",
       "      <th>2</th>\n",
       "      <td>1</td>\n",
       "      <td>6</td>\n",
       "      <td>4.0</td>\n",
       "      <td>Heat (1995)</td>\n",
       "      <td>Action|Crime|Thriller</td>\n",
       "    </tr>\n",
       "    <tr>\n",
       "      <th>3</th>\n",
       "      <td>1</td>\n",
       "      <td>47</td>\n",
       "      <td>5.0</td>\n",
       "      <td>Seven (a.k.a. Se7en) (1995)</td>\n",
       "      <td>Mystery|Thriller</td>\n",
       "    </tr>\n",
       "    <tr>\n",
       "      <th>4</th>\n",
       "      <td>1</td>\n",
       "      <td>50</td>\n",
       "      <td>5.0</td>\n",
       "      <td>Usual Suspects, The (1995)</td>\n",
       "      <td>Crime|Mystery|Thriller</td>\n",
       "    </tr>\n",
       "  </tbody>\n",
       "</table>\n",
       "</div>"
      ],
      "text/plain": [
       "   userId  movieId  rating                        title   \n",
       "0       1        1     4.0             Toy Story (1995)  \\\n",
       "1       1        3     4.0      Grumpier Old Men (1995)   \n",
       "2       1        6     4.0                  Heat (1995)   \n",
       "3       1       47     5.0  Seven (a.k.a. Se7en) (1995)   \n",
       "4       1       50     5.0   Usual Suspects, The (1995)   \n",
       "\n",
       "                                        genres  \n",
       "0  Adventure|Animation|Children|Comedy|Fantasy  \n",
       "1                               Comedy|Romance  \n",
       "2                        Action|Crime|Thriller  \n",
       "3                             Mystery|Thriller  \n",
       "4                       Crime|Mystery|Thriller  "
      ]
     },
     "execution_count": 10,
     "metadata": {},
     "output_type": "execute_result"
    }
   ],
   "source": [
    "# combining the two datasets using the movieId primary key\n",
    "# using a left join to avoid implicit nan values\n",
    "movies=pd.merge(left=ratings_df, right=movies_df[['movieId','title','genres']],  how = 'left' , on='movieId')\n",
    "movies.head()"
   ]
  },
  {
   "cell_type": "markdown",
   "id": "7f14040e",
   "metadata": {},
   "source": [
    "* Feature engineering, by calculating a new column **avg_rating** that represents the average rating for each movie across all the users that have rated it"
   ]
  },
  {
   "cell_type": "code",
   "execution_count": 11,
   "id": "6974d873",
   "metadata": {},
   "outputs": [
    {
     "data": {
      "text/html": [
       "<div>\n",
       "<style scoped>\n",
       "    .dataframe tbody tr th:only-of-type {\n",
       "        vertical-align: middle;\n",
       "    }\n",
       "\n",
       "    .dataframe tbody tr th {\n",
       "        vertical-align: top;\n",
       "    }\n",
       "\n",
       "    .dataframe thead th {\n",
       "        text-align: right;\n",
       "    }\n",
       "</style>\n",
       "<table border=\"1\" class=\"dataframe\">\n",
       "  <thead>\n",
       "    <tr style=\"text-align: right;\">\n",
       "      <th></th>\n",
       "      <th>userId</th>\n",
       "      <th>movieId</th>\n",
       "      <th>rating</th>\n",
       "      <th>title</th>\n",
       "      <th>genres</th>\n",
       "      <th>avg_rating</th>\n",
       "    </tr>\n",
       "  </thead>\n",
       "  <tbody>\n",
       "    <tr>\n",
       "      <th>0</th>\n",
       "      <td>1</td>\n",
       "      <td>1</td>\n",
       "      <td>4.0</td>\n",
       "      <td>Toy Story (1995)</td>\n",
       "      <td>Adventure|Animation|Children|Comedy|Fantasy</td>\n",
       "      <td>3.92</td>\n",
       "    </tr>\n",
       "    <tr>\n",
       "      <th>1</th>\n",
       "      <td>1</td>\n",
       "      <td>3</td>\n",
       "      <td>4.0</td>\n",
       "      <td>Grumpier Old Men (1995)</td>\n",
       "      <td>Comedy|Romance</td>\n",
       "      <td>3.26</td>\n",
       "    </tr>\n",
       "    <tr>\n",
       "      <th>2</th>\n",
       "      <td>1</td>\n",
       "      <td>6</td>\n",
       "      <td>4.0</td>\n",
       "      <td>Heat (1995)</td>\n",
       "      <td>Action|Crime|Thriller</td>\n",
       "      <td>3.95</td>\n",
       "    </tr>\n",
       "    <tr>\n",
       "      <th>3</th>\n",
       "      <td>1</td>\n",
       "      <td>47</td>\n",
       "      <td>5.0</td>\n",
       "      <td>Seven (a.k.a. Se7en) (1995)</td>\n",
       "      <td>Mystery|Thriller</td>\n",
       "      <td>3.98</td>\n",
       "    </tr>\n",
       "    <tr>\n",
       "      <th>4</th>\n",
       "      <td>1</td>\n",
       "      <td>50</td>\n",
       "      <td>5.0</td>\n",
       "      <td>Usual Suspects, The (1995)</td>\n",
       "      <td>Crime|Mystery|Thriller</td>\n",
       "      <td>4.24</td>\n",
       "    </tr>\n",
       "  </tbody>\n",
       "</table>\n",
       "</div>"
      ],
      "text/plain": [
       "   userId  movieId  rating                        title   \n",
       "0       1        1     4.0             Toy Story (1995)  \\\n",
       "1       1        3     4.0      Grumpier Old Men (1995)   \n",
       "2       1        6     4.0                  Heat (1995)   \n",
       "3       1       47     5.0  Seven (a.k.a. Se7en) (1995)   \n",
       "4       1       50     5.0   Usual Suspects, The (1995)   \n",
       "\n",
       "                                        genres  avg_rating  \n",
       "0  Adventure|Animation|Children|Comedy|Fantasy        3.92  \n",
       "1                               Comedy|Romance        3.26  \n",
       "2                        Action|Crime|Thriller        3.95  \n",
       "3                             Mystery|Thriller        3.98  \n",
       "4                       Crime|Mystery|Thriller        4.24  "
      ]
     },
     "execution_count": 11,
     "metadata": {},
     "output_type": "execute_result"
    }
   ],
   "source": [
    "# defining a fucntion that gives each movie an average rating \n",
    "#according to  theall ratings it has received from different users\n",
    "\n",
    "def avg_rating(df):\n",
    "    \"\"\" \n",
    "    Takes a dataframe as an argument and calculates average rating for each movie \n",
    "    across all the users that have rated it\n",
    "    \"\"\"\n",
    "# using a for loop to iterate over all the unique movie ids\n",
    "    for m_id in df.movieId.unique():\n",
    "        mean=df.loc[df.movieId==m_id,'rating'].mean()        # we filter the dataframe for each movie Id and find the mean\n",
    "        mean=np.round(mean,2)                                # Round the mean value to 2 decimals\n",
    "        # creating a new column called 'avg_rating'\n",
    "        df.loc[df.movieId== m_id, ('avg_rating')]=mean       # then assign all the movies with that id with the mean value\n",
    "    \n",
    "    # returns the dataframe\n",
    "    return df\n",
    "\n",
    "# running the function on our dataframe\n",
    "movies=avg_rating(movies)\n",
    "movies.head()"
   ]
  },
  {
   "cell_type": "code",
   "execution_count": 12,
   "id": "f7b411a9",
   "metadata": {
    "scrolled": true
   },
   "outputs": [
    {
     "name": "stdout",
     "output_type": "stream",
     "text": [
      "Duplicates:  0\n",
      "Null values:\n",
      "--------------\n",
      " userId        0\n",
      "movieId       0\n",
      "rating        0\n",
      "title         0\n",
      "genres        0\n",
      "avg_rating    0\n",
      "dtype: int64\n"
     ]
    }
   ],
   "source": [
    "# checking for duplicatedsand null values in our ratings dataframe\n",
    "print(\"Duplicates: \",movies.duplicated().sum())\n",
    "print(\"Null values:\\n--------------\\n\",movies.isna().sum())"
   ]
  },
  {
   "cell_type": "markdown",
   "id": "3c2a5010",
   "metadata": {},
   "source": [
    "* since there are no duplicates and missing values, we'll then clean our genres column by replacing the **\"|\"** symbols with commas **\",\"**."
   ]
  },
  {
   "cell_type": "code",
   "execution_count": 13,
   "id": "bae589bd",
   "metadata": {},
   "outputs": [
    {
     "name": "stdout",
     "output_type": "stream",
     "text": [
      "0    Adventure|Animation|Children|Comedy|Fantasy\n",
      "1                                 Comedy|Romance\n",
      "2                          Action|Crime|Thriller\n",
      "3                               Mystery|Thriller\n",
      "4                         Crime|Mystery|Thriller\n",
      "Name: genres, dtype: object\n",
      "\n",
      "0    Adventure,Animation,Children,Comedy,Fantasy\n",
      "1                                 Comedy,Romance\n",
      "2                          Action,Crime,Thriller\n",
      "3                               Mystery,Thriller\n",
      "4                         Crime,Mystery,Thriller\n",
      "Name: genres, dtype: object\n"
     ]
    }
   ],
   "source": [
    "# cleaning the genres column\n",
    "print(movies.genres[:5])\n",
    "\n",
    "#replacing the \"|\" marks with commas ',' in the genre column\n",
    "movies.genres=movies.genres.apply( lambda x: x.replace('|',','))\n",
    "print()\n",
    "print(movies.genres[:5])"
   ]
  },
  {
   "cell_type": "markdown",
   "id": "3a8979f6",
   "metadata": {},
   "source": [
    "### Exploratory Data Analysis\n",
    "In this section, we will explore the dataset exhaustively to gain a better understanding andas a result exploring the various research questions in the process. \n",
    "\n",
    "#### Rating Value Counts"
   ]
  },
  {
   "cell_type": "code",
   "execution_count": 14,
   "id": "20a54715",
   "metadata": {},
   "outputs": [
    {
     "data": {
      "image/png": "[encoded data removed]",
      "text/plain": [
       "<Figure size 700x400 with 1 Axes>"
      ]
     },
     "metadata": {},
     "output_type": "display_data"
    }
   ],
   "source": [
    "# plotting the rating counts\n",
    "fig, ax=plt.subplots(figsize=(7,4))\n",
    "sns.countplot(data=movies , x='rating', ax=ax, color='tab:blue')\n",
    "ax.set_ylabel(\"Count\")\n",
    "ax.set_xlabel(\"Rating\")\n",
    "ax.set_title(\"Rating Counts\");"
   ]
  },
  {
   "cell_type": "markdown",
   "id": "9197619e",
   "metadata": {},
   "source": [
    "> From the graph above; majority of movie ratings in our dataset are 3.0 and above, with 3.0 and 4.0 being the frequently awarded movie ratings.\n",
    "\n",
    "#### Top Most Watched Movies"
   ]
  },
  {
   "cell_type": "code",
   "execution_count": 15,
   "id": "b6010c27",
   "metadata": {},
   "outputs": [
    {
     "data": {
      "image/png": "[encoded data removed]",
      "text/plain": [
       "<Figure size 1000x500 with 1 Axes>"
      ]
     },
     "metadata": {},
     "output_type": "display_data"
    }
   ],
   "source": [
    "# first we group the data according to movie titles\n",
    "# and the arrang in descending order of the counts\n",
    "data=movies.groupby('title')[['userId']].count().sort_values(by='userId',ascending=False)\n",
    "data\n",
    "\n",
    "# plotting the grouped data and plotting the top 10 movies\n",
    "fig, ax=plt.subplots(figsize=(10,5))\n",
    "sns.barplot(data=data[:10] , x='userId',y=data[:10].index , ax=ax, color='tab:blue')\n",
    "ax.set_ylabel(\"Movies\")\n",
    "ax.set_xlabel(\"Count\")\n",
    "ax.set_title(\"Top 10 Most Watched Movies\")\n",
    "ax.bar_label(ax.containers[0],padding=3);"
   ]
  },
  {
   "cell_type": "code",
   "execution_count": 16,
   "id": "b5cb0544",
   "metadata": {},
   "outputs": [
    {
     "data": {
      "text/html": [
       "<div>\n",
       "<style scoped>\n",
       "    .dataframe tbody tr th:only-of-type {\n",
       "        vertical-align: middle;\n",
       "    }\n",
       "\n",
       "    .dataframe tbody tr th {\n",
       "        vertical-align: top;\n",
       "    }\n",
       "\n",
       "    .dataframe thead th {\n",
       "        text-align: right;\n",
       "    }\n",
       "</style>\n",
       "<table border=\"1\" class=\"dataframe\">\n",
       "  <thead>\n",
       "    <tr style=\"text-align: right;\">\n",
       "      <th></th>\n",
       "      <th>userId</th>\n",
       "      <th>movieId</th>\n",
       "      <th>rating</th>\n",
       "      <th>title</th>\n",
       "      <th>genres</th>\n",
       "      <th>avg_rating</th>\n",
       "    </tr>\n",
       "  </thead>\n",
       "  <tbody>\n",
       "    <tr>\n",
       "      <th>16</th>\n",
       "      <td>1</td>\n",
       "      <td>296</td>\n",
       "      <td>3.0</td>\n",
       "      <td>Pulp Fiction (1994)</td>\n",
       "      <td>Comedy,Crime,Drama,Thriller</td>\n",
       "      <td>4.20</td>\n",
       "    </tr>\n",
       "    <tr>\n",
       "      <th>20</th>\n",
       "      <td>1</td>\n",
       "      <td>356</td>\n",
       "      <td>4.0</td>\n",
       "      <td>Forrest Gump (1994)</td>\n",
       "      <td>Comedy,Drama,Romance,War</td>\n",
       "      <td>4.16</td>\n",
       "    </tr>\n",
       "    <tr>\n",
       "      <th>34</th>\n",
       "      <td>1</td>\n",
       "      <td>593</td>\n",
       "      <td>4.0</td>\n",
       "      <td>Silence of the Lambs, The (1991)</td>\n",
       "      <td>Crime,Horror,Thriller</td>\n",
       "      <td>4.16</td>\n",
       "    </tr>\n",
       "    <tr>\n",
       "      <th>166</th>\n",
       "      <td>1</td>\n",
       "      <td>2571</td>\n",
       "      <td>5.0</td>\n",
       "      <td>Matrix, The (1999)</td>\n",
       "      <td>Action,Sci-Fi,Thriller</td>\n",
       "      <td>4.19</td>\n",
       "    </tr>\n",
       "    <tr>\n",
       "      <th>232</th>\n",
       "      <td>2</td>\n",
       "      <td>318</td>\n",
       "      <td>3.0</td>\n",
       "      <td>Shawshank Redemption, The (1994)</td>\n",
       "      <td>Crime,Drama</td>\n",
       "      <td>4.43</td>\n",
       "    </tr>\n",
       "  </tbody>\n",
       "</table>\n",
       "</div>"
      ],
      "text/plain": [
       "     userId  movieId  rating                             title   \n",
       "16        1      296     3.0               Pulp Fiction (1994)  \\\n",
       "20        1      356     4.0               Forrest Gump (1994)   \n",
       "34        1      593     4.0  Silence of the Lambs, The (1991)   \n",
       "166       1     2571     5.0                Matrix, The (1999)   \n",
       "232       2      318     3.0  Shawshank Redemption, The (1994)   \n",
       "\n",
       "                          genres  avg_rating  \n",
       "16   Comedy,Crime,Drama,Thriller        4.20  \n",
       "20      Comedy,Drama,Romance,War        4.16  \n",
       "34         Crime,Horror,Thriller        4.16  \n",
       "166       Action,Sci-Fi,Thriller        4.19  \n",
       "232                  Crime,Drama        4.43  "
      ]
     },
     "execution_count": 16,
     "metadata": {},
     "output_type": "execute_result"
    }
   ],
   "source": [
    "# previewing the genres of the top 5 movies\n",
    "titles= data[:5].index\n",
    "\n",
    "movies.loc[ movies.title.isin(titles)].drop_duplicates('movieId')"
   ]
  },
  {
   "cell_type": "markdown",
   "id": "29c19104",
   "metadata": {},
   "source": [
    "From the graph above depicts the top 10 most watched movies with  **Forrest Gump (1994)**, **Shawshank Redemption, The (1994)** and **Pulp Fiction (1994)** being the top 3 movies. Also  noting that most occuring genres in those movies are; **crime, drama and thriller**.\n",
    "\n",
    "#### Top Most Rated Movies"
   ]
  },
  {
   "cell_type": "code",
   "execution_count": 17,
   "id": "73935b3f",
   "metadata": {},
   "outputs": [
    {
     "data": {
      "image/png": "[encoded data removed]",
      "text/plain": [
       "<Figure size 1000x500 with 1 Axes>"
      ]
     },
     "metadata": {},
     "output_type": "display_data"
    }
   ],
   "source": [
    "# first grouping the dataframe by 'title'\n",
    "# then seleting only the movies that have been rated by atleast 10 user\n",
    "titles=movies.groupby('title')[['userId']].count().sort_values('userId', ascending=False)\n",
    "titles=titles.loc[titles.userId>=10].index                                     # then extracting the movie titles\n",
    "\n",
    "# filtering only the obtained movie titles\n",
    "data= movies[['title','avg_rating']].loc[ movies.title.isin(titles)].drop_duplicates('title')\n",
    "data=data.sort_values(by='avg_rating', ascending=False)[:10]                  # and sorting according to the average rating \n",
    "\n",
    "# the ploting the top 10 movies\n",
    "fig, ax=plt.subplots(figsize=(10,5))\n",
    "sns.barplot(data=data , x='avg_rating',y='title' , ax=ax, color='tab:blue')\n",
    "ax.set_ylabel(\"Movies\", fontsize=12)\n",
    "ax.set_xlabel(\"Average Rating\" ,fontsize=12)\n",
    "ax.set_xlim([4.0 , 4.65])\n",
    "ax.set_title(\"Top 10 Most Rated Movies\")\n",
    "ax.bar_label(ax.containers[0] ,padding=3);"
   ]
  },
  {
   "cell_type": "code",
   "execution_count": 18,
   "id": "2b973fc1",
   "metadata": {
    "scrolled": false
   },
   "outputs": [
    {
     "data": {
      "text/html": [
       "<div>\n",
       "<style scoped>\n",
       "    .dataframe tbody tr th:only-of-type {\n",
       "        vertical-align: middle;\n",
       "    }\n",
       "\n",
       "    .dataframe tbody tr th {\n",
       "        vertical-align: top;\n",
       "    }\n",
       "\n",
       "    .dataframe thead th {\n",
       "        text-align: right;\n",
       "    }\n",
       "</style>\n",
       "<table border=\"1\" class=\"dataframe\">\n",
       "  <thead>\n",
       "    <tr style=\"text-align: right;\">\n",
       "      <th></th>\n",
       "      <th>userId</th>\n",
       "      <th>movieId</th>\n",
       "      <th>rating</th>\n",
       "      <th>title</th>\n",
       "      <th>genres</th>\n",
       "      <th>avg_rating</th>\n",
       "    </tr>\n",
       "  </thead>\n",
       "  <tbody>\n",
       "    <tr>\n",
       "      <th>4179</th>\n",
       "      <td>27</td>\n",
       "      <td>3451</td>\n",
       "      <td>5.0</td>\n",
       "      <td>Guess Who's Coming to Dinner (1967)</td>\n",
       "      <td>Drama</td>\n",
       "      <td>4.55</td>\n",
       "    </tr>\n",
       "    <tr>\n",
       "      <th>5014</th>\n",
       "      <td>32</td>\n",
       "      <td>1104</td>\n",
       "      <td>5.0</td>\n",
       "      <td>Streetcar Named Desire, A (1951)</td>\n",
       "      <td>Drama</td>\n",
       "      <td>4.47</td>\n",
       "    </tr>\n",
       "    <tr>\n",
       "      <th>12034</th>\n",
       "      <td>74</td>\n",
       "      <td>1041</td>\n",
       "      <td>5.0</td>\n",
       "      <td>Secrets &amp; Lies (1996)</td>\n",
       "      <td>Drama</td>\n",
       "      <td>4.59</td>\n",
       "    </tr>\n",
       "    <tr>\n",
       "      <th>12065</th>\n",
       "      <td>74</td>\n",
       "      <td>2360</td>\n",
       "      <td>4.5</td>\n",
       "      <td>Celebration, The (Festen) (1998)</td>\n",
       "      <td>Drama</td>\n",
       "      <td>4.46</td>\n",
       "    </tr>\n",
       "    <tr>\n",
       "      <th>16258</th>\n",
       "      <td>105</td>\n",
       "      <td>1178</td>\n",
       "      <td>4.0</td>\n",
       "      <td>Paths of Glory (1957)</td>\n",
       "      <td>Drama,War</td>\n",
       "      <td>4.54</td>\n",
       "    </tr>\n",
       "  </tbody>\n",
       "</table>\n",
       "</div>"
      ],
      "text/plain": [
       "       userId  movieId  rating                                title   \n",
       "4179       27     3451     5.0  Guess Who's Coming to Dinner (1967)  \\\n",
       "5014       32     1104     5.0     Streetcar Named Desire, A (1951)   \n",
       "12034      74     1041     5.0                Secrets & Lies (1996)   \n",
       "12065      74     2360     4.5     Celebration, The (Festen) (1998)   \n",
       "16258     105     1178     4.0                Paths of Glory (1957)   \n",
       "\n",
       "          genres  avg_rating  \n",
       "4179       Drama        4.55  \n",
       "5014       Drama        4.47  \n",
       "12034      Drama        4.59  \n",
       "12065      Drama        4.46  \n",
       "16258  Drama,War        4.54  "
      ]
     },
     "execution_count": 18,
     "metadata": {},
     "output_type": "execute_result"
    }
   ],
   "source": [
    "# previewing the genres of the top 5 movies\n",
    "titles= data.title[:5]\n",
    "\n",
    "movies.loc[ movies.title.isin(titles)].drop_duplicates('movieId')"
   ]
  },
  {
   "cell_type": "markdown",
   "id": "469e6274",
   "metadata": {},
   "source": [
    "From the graph above \n",
    "**Secrets & Lies (1996)** ,\n",
    "**Guess Who's Coming to Dinner (1967)** ,\n",
    "**Paths of Glory (1957)**\n",
    "are the top 3 highely rated movies, while also noting that they all are of the **Drama** genre. \n",
    "\n",
    "#### Genre Counts."
   ]
  },
  {
   "cell_type": "code",
   "execution_count": 19,
   "id": "71393492",
   "metadata": {
    "scrolled": false
   },
   "outputs": [
    {
     "data": {
      "image/png": "[encoded data removed]",
      "text/plain": [
       "<Figure size 640x480 with 1 Axes>"
      ]
     },
     "metadata": {},
     "output_type": "display_data"
    }
   ],
   "source": [
    "# spliting the genre column into a list of genres\n",
    "genre= [i for genre in  movies_df.genres for i in genre.split(',')]\n",
    "genre=np.unique(genre)  # then taking the unique entries only\n",
    "\n",
    "# creating a dictionary of teh genres and their count\n",
    "dict_={ g:1 for g in genre}\n",
    "for k,v in dict_.items():                     # looping over the the dictionary values\n",
    "    for genre in movies_df.genres:            # looping over the genre column\n",
    "        if k in genre.split('|'):             # checking if the genre is contained in the column values\n",
    "            dict_[k]+=1                       # then adds to th genre count\n",
    "        else: continue\n",
    "        \n",
    "dict_= [(k,v)for k,v in dict_.items()]                   #converting the dictionary into a list\n",
    "dict_=sorted(dict_, key= lambda x: x[1],reverse=True)    # ordering the list of genres in descending order\n",
    "dict_= {k:v for k,v in dict_[:5]}                        # converting back into an ordered dictionary\n",
    "pd.Series(data=dict_).plot.bar(color='tab:blue')         # then plotting the values genre counts\n",
    "\n",
    "plt.ylabel(\"Count\")\n",
    "plt.xlabel(\"Genre\")\n",
    "plt.title(\"Genre Counts\");"
   ]
  },
  {
   "cell_type": "markdown",
   "id": "7b70edbd",
   "metadata": {},
   "source": [
    "From the graph; **Darama** , **Comdey**, **Thriller**, **Action** and **Romance** , are the most occurig genres in our dataset\n",
    "\n",
    "\n",
    "#### Top Rated Genres"
   ]
  },
  {
   "cell_type": "code",
   "execution_count": 20,
   "id": "7c460dca",
   "metadata": {},
   "outputs": [
    {
     "name": "stderr",
     "output_type": "stream",
     "text": [
      "C:\\Users\\User\\AppData\\Local\\Temp\\ipykernel_2900\\1269724193.py:8: UserWarning: This pattern is interpreted as a regular expression, and has match groups. To actually get the groups, use str.extract.\n",
      "  mean=movies.loc[ movies.genres.str.contains(k), ('rating')].mean() # filtering the rating column and finding mean value\n"
     ]
    },
    {
     "data": {
      "image/png": "[encoded data removed]",
      "text/plain": [
       "<Figure size 700x300 with 1 Axes>"
      ]
     },
     "metadata": {},
     "output_type": "display_data"
    }
   ],
   "source": [
    "genre= [i for genre in  movies.genres for i in genre.split(',')]\n",
    "genre=np.unique(genre)  # then taking the unique entries only\n",
    "\n",
    "# creating a dictionary of the genres using the list of unique genres\n",
    "dict_={ g:0 for g in genre}\n",
    "\n",
    "for k in dict_.keys():                                                 # looping over the the dictionary values\n",
    "    mean=movies.loc[ movies.genres.str.contains(k), ('rating')].mean() # filtering the rating column and finding mean value\n",
    "    dict_[k]=mean                                                  # assgning the mean to the genre key\n",
    "\n",
    "dict_= [(k,v)for k,v in dict_.items()]                   #converting the dictionary into a list\n",
    "dict_=sorted(dict_, key= lambda x: x[1],reverse=True)    # ordering the list of genres in descending order\n",
    "dict_= {k:v for k,v in dict_[:5]}                        # converting back into an ordered dictionary\n",
    "\n",
    "fig, ax=plt.subplots( figsize=(5,3))\n",
    "pd.Series(data=dict_).plot.bar(figsize=(7,3))                         # then plotting the values\n",
    "\n",
    "ax.set_ylabel(\"Rating\")\n",
    "ax.set_xlabel(\"Genres\")\n",
    "ax.set_ylim([3.5,4])\n",
    "ax.set_title(\"Top Rated Genres\")\n",
    "ax.bar_label(ax.containers[0],padding=3);"
   ]
  },
  {
   "cell_type": "markdown",
   "id": "546d249e",
   "metadata": {},
   "source": [
    "From the graph; **Film-Noir** , **War**, **Documentary**, **Crime** and **Drama** , are the most rated genres in our dataset. \n",
    "The movies contained in this genre categories are the most rated.\n",
    "\n",
    "\n",
    "#### Top Active Users."
   ]
  },
  {
   "cell_type": "code",
   "execution_count": 21,
   "id": "7ed3d20a",
   "metadata": {},
   "outputs": [
    {
     "data": {
      "image/png": "[encoded data removed]",
      "text/plain": [
       "<Figure size 1000x500 with 1 Axes>"
      ]
     },
     "metadata": {},
     "output_type": "display_data"
    }
   ],
   "source": [
    "# first grouping the dataframe by 'userId'\n",
    "users=movies.groupby('userId')[['movieId']].count().sort_values('movieId', ascending=False)\n",
    "# then seleting only the top 10 users \n",
    "users=users[:10]                                    \n",
    "\n",
    "\n",
    "# the ploting the top 10 users\n",
    "fig, ax=plt.subplots(figsize=(10,5))\n",
    "sns.barplot(data=users ,y='movieId',x=[str(x) for x in users.index] , ax=ax, color='tab:blue')\n",
    "ax.set_ylabel(\"Movies Rated\", fontsize=12)\n",
    "ax.set_xlabel(\"UserIDs\" ,fontsize=12)\n",
    "ax.set_title(\"Top 10 Most Active Users\")\n",
    "ax.bar_label(ax.containers[0] ,padding=3);"
   ]
  },
  {
   "cell_type": "markdown",
   "id": "520d7b17",
   "metadata": {},
   "source": [
    "Fromthe graph above, the users with Id's **414** , **599** and **474** have rated and watched the most movies, each with above 2,000 movies rated. It would increase custormer satisfaction if these users were either rewarded or offered subsidized charges for their subscriptions."
   ]
  },
  {
   "cell_type": "markdown",
   "id": "523e9063",
   "metadata": {},
   "source": [
    "## Modelling\n",
    "In this section, we will create a recommendation system using the datasets to solve our main problem.\n",
    "There are different types of recommendation models, in this project we will focus on three types of recommendation systems\n",
    "\n",
    "* 1. Content-Based Recommender systems\n",
    "* 2. Collaborative Filtering Systems\n",
    "* 3. Hybrid Recommender Systems\n",
    "\n",
    "Now, in each of these categories, we will compare the different models and see which ones perform best. For validation and comparison, we will use the RMSE (root mean squared error) metric, which is how far is the prediction from the true value\n"
   ]
  },
  {
   "cell_type": "markdown",
   "id": "36e749b8",
   "metadata": {},
   "source": [
    "### Content-Based Recommender Systems\n",
    "These are recommender systems that use users' items, features, or previous interests and likes to recommend other items similar to those they liked or interacted with, i.e. the algorithms will simply pick items with similar content to recommend you.\n",
    "\n",
    "Since in the movies database, there is no description column we will use the **genres** and **title** columns to create a content-based recommender system.\n",
    "\n",
    "We use the cosine similarity to compare similarities between different movies with their genres, then pick the top n similar movies to recommend. \n",
    "> First create a similarity vector that has similarity scores of each movie to the others, this will be used to recommend movies based on name input in the system. To accomplish this we will the **CountVector()** method that will vectorize our genres column"
   ]
  },
  {
   "cell_type": "code",
   "execution_count": 22,
   "id": "6904cadc",
   "metadata": {},
   "outputs": [
    {
     "data": {
      "text/plain": [
       "(9742, 9742)"
      ]
     },
     "execution_count": 22,
     "metadata": {},
     "output_type": "execute_result"
    }
   ],
   "source": [
    "# first we will instatiate the CountVector()\n",
    "cv=CountVectorizer()\n",
    "\n",
    "#fit and transform it on our genres column\n",
    "vector=cv.fit_transform(movies_df['genres'].values).toarray()\n",
    "\n",
    "# the using the vectorized vector we calculate the similarity scores\n",
    "similarity=cosine_similarity(vector)\n",
    "similarity.shape"
   ]
  },
  {
   "cell_type": "markdown",
   "id": "a2dfac3f",
   "metadata": {},
   "source": [
    "> Second, w'll create a function that will be used to convert genres into vectors indorder to calculate similarity score of an input genre list with the other rows and return the top n highest scores (most similar genres)."
   ]
  },
  {
   "cell_type": "code",
   "execution_count": 23,
   "id": "2e4b488a",
   "metadata": {},
   "outputs": [
    {
     "name": "stdout",
     "output_type": "stream",
     "text": [
      "Unique genres list: \n"
     ]
    },
    {
     "data": {
      "text/plain": [
       "array(['(no genres listed)', 'Action', 'Adventure', 'Animation',\n",
       "       'Children', 'Comedy', 'Crime', 'Documentary', 'Drama', 'Fantasy',\n",
       "       'Film-Noir', 'Horror', 'IMAX', 'Musical', 'Mystery', 'Romance',\n",
       "       'Sci-Fi', 'Thriller', 'War', 'Western'], dtype='<U18')"
      ]
     },
     "execution_count": 23,
     "metadata": {},
     "output_type": "execute_result"
    }
   ],
   "source": [
    "# first we get a dictionary of all unique genres\n",
    "# looping of the genres column and spliting the genres into individual values\n",
    "genre= [i for genre in  movies.genres for i in genre.split(',')]\n",
    "\n",
    "# taking the uniques genres only\n",
    "genre=np.unique(genre)\n",
    "\n",
    "print(\"Unique genres list: \")\n",
    "genre"
   ]
  },
  {
   "cell_type": "code",
   "execution_count": 24,
   "id": "9d596e18",
   "metadata": {},
   "outputs": [],
   "source": [
    "# then we write a function vectorise() that transforms the genres column to vector form.\n",
    "\n",
    "def vectorise( list_):\n",
    "    \"\"\"\n",
    "    Takes a list of genres and based on the unique genre list returns a vector with same length as unique genres\n",
    "    and with (0,1) values representing the input list\n",
    "    \"\"\"\n",
    "    return [ 1 if x in list_ else 0 for x in genre   ]"
   ]
  },
  {
   "cell_type": "markdown",
   "id": "01556e2d",
   "metadata": {},
   "source": [
    "> We will create the content based recommender function that recommends movies based on name or genre inputs ."
   ]
  },
  {
   "cell_type": "code",
   "execution_count": 25,
   "id": "db850bf4",
   "metadata": {},
   "outputs": [],
   "source": [
    "def content_based( name:str= None , genres: str =None, num:int=5):\n",
    "    \"\"\"\n",
    "    The function takes in the following inputs \n",
    "    name -> The input name of the movie,  will be used to recommend movies similar to it. \n",
    "        It has a default of None, which will then use the genres paramter\n",
    "        \n",
    "    genre -> genres that will be used to recomment movies with similar genres\n",
    "        It has a default of None which will then result to recommendation of\n",
    "        the 'Top most watched movies' and 'Top most rated movies'\n",
    "        \n",
    "    num -> Is the number of recommendations to produce\n",
    "        Has a default of 5.\n",
    "    \"\"\"\n",
    "\n",
    "# if the name parameter has a value the this if statement is executed\n",
    "    if name:\n",
    "        index_=movies.loc[movies.title== name].index[0]                  # find the index of the input movie\n",
    "        sim=list(enumerate(similarity[index_]))                          # extract similarity vector of that movie index\n",
    "        sim=sorted(sim, key=lambda x: x[1], reverse=True)[1:num]         # arrange the vector values in ascending order\n",
    "        indices= [i[0] for i in sim]                                     # Extract the indices of the top high scores\n",
    "        print(f\"Top {num} Movies Like [{name}]\")\n",
    "                                                                          #use those indices to print the movie\n",
    "        return movies.loc[indices,('title','rating')].reset_index(drop=True)\n",
    "\n",
    "# if the name is None then switch to genre parametr\n",
    "    else:\n",
    "        # if the genres has passed input values then this if statement runs            \n",
    "        if genres: \n",
    "            input_=[ x.capitalize() for x in genres.split(' ')]            #creates a list of the input genres\n",
    "    \n",
    "            vector= vectorise(input_)                                      # uses the vectorised function to create vectors\n",
    "            vector=np.array(vector).reshape(1,-1)                          # for the input genres and reshapes them\n",
    "            \n",
    "            # drops the duplicates in our dataframe to keep only the unique movieId\n",
    "            df=movies.drop_duplicates('movieId').reset_index(drop=True)    \n",
    "            \n",
    "            cos_scores=[]\n",
    "            for i,vec in enumerate(df.genres):                             # looping over the genre column\n",
    "                vec=np.array(vectorise(vec)).reshape(1,-1)                 # the vectorising the row entry\n",
    "                cos_scores.append((i,cosine_similarity(vector,vec)))       # then calculating scores between the row \n",
    "                                                                           # and the input genres  \n",
    "            \n",
    "            # picks only the top n highest scores\n",
    "            cos_scores = sorted(cos_scores, key=lambda x: x[1], reverse=True)[:num]\n",
    "\n",
    "            # extracts the indices of those top n score\n",
    "            indices = [i[0] for i in cos_scores]\n",
    "            print(f\"Top {num} Best [{genres}] Movies\")\n",
    "            \n",
    "            # then returns the movie titles,genres and ratings of those indices arranged by their average rating\n",
    "            rec= df.loc[indices, ('title','avg_rating')].sort_values(by='avg_rating', ascending=False)\n",
    "            return rec.reset_index(drop=True)\n",
    "         \n",
    "        # if both the name and genre are None the top most  watched and rated movies are recommended\n",
    "        else:\n",
    "            # using groupby ,pick movies that have been watched by atleast 10 user\n",
    "            titles=movies.groupby('title')[['userId']].count().sort_values('userId', ascending=False)\n",
    "            titles=titles.loc[titles.userId>=10].index\n",
    "\n",
    "            # then filter the dataframe to contain only those most watched movies\n",
    "            rec= movies[['title','avg_rating']].loc[ movies.title.isin(titles)].drop_duplicates('title')\n",
    "            # then arrange in decsending order according to the average rating column\n",
    "            # then selects the top n movies\n",
    "            rec_=rec.sort_values(by='avg_rating', ascending=False)[:num] \n",
    "            \n",
    "            print(f\"\\nTop {num} Most Rated Movies \\n ------------------------------\")\n",
    "            print(rec_.reset_index(drop=True))      #recommends those top most rated movies\n",
    "            print()\n",
    "            # using the names of the most watched movies \n",
    "            #filter the daaframes on the n top names \n",
    "            rec=movies[['title','avg_rating']].loc[ movies.title.isin(titles[:num])].drop_duplicates('title')            \n",
    "            print(f'Top {num} Most Watched Movies \\n ---------------------------- ')\n",
    "            \n",
    "            #then recommends those top most watches movies\n",
    "            return rec.reset_index(drop=True)   "
   ]
  },
  {
   "cell_type": "code",
   "execution_count": 26,
   "id": "6b63c27c",
   "metadata": {},
   "outputs": [
    {
     "name": "stdout",
     "output_type": "stream",
     "text": [
      "\n",
      "Top 5 Most Rated Movies \n",
      " ------------------------------\n",
      "                                 title  avg_rating\n",
      "0                Secrets & Lies (1996)        4.59\n",
      "1  Guess Who's Coming to Dinner (1967)        4.55\n",
      "2                Paths of Glory (1957)        4.54\n",
      "3     Streetcar Named Desire, A (1951)        4.47\n",
      "4     Celebration, The (Festen) (1998)        4.46\n",
      "\n",
      "Top 5 Most Watched Movies \n",
      " ---------------------------- \n"
     ]
    },
    {
     "data": {
      "text/html": [
       "<div>\n",
       "<style scoped>\n",
       "    .dataframe tbody tr th:only-of-type {\n",
       "        vertical-align: middle;\n",
       "    }\n",
       "\n",
       "    .dataframe tbody tr th {\n",
       "        vertical-align: top;\n",
       "    }\n",
       "\n",
       "    .dataframe thead th {\n",
       "        text-align: right;\n",
       "    }\n",
       "</style>\n",
       "<table border=\"1\" class=\"dataframe\">\n",
       "  <thead>\n",
       "    <tr style=\"text-align: right;\">\n",
       "      <th></th>\n",
       "      <th>title</th>\n",
       "      <th>avg_rating</th>\n",
       "    </tr>\n",
       "  </thead>\n",
       "  <tbody>\n",
       "    <tr>\n",
       "      <th>0</th>\n",
       "      <td>Pulp Fiction (1994)</td>\n",
       "      <td>4.20</td>\n",
       "    </tr>\n",
       "    <tr>\n",
       "      <th>1</th>\n",
       "      <td>Forrest Gump (1994)</td>\n",
       "      <td>4.16</td>\n",
       "    </tr>\n",
       "    <tr>\n",
       "      <th>2</th>\n",
       "      <td>Silence of the Lambs, The (1991)</td>\n",
       "      <td>4.16</td>\n",
       "    </tr>\n",
       "    <tr>\n",
       "      <th>3</th>\n",
       "      <td>Matrix, The (1999)</td>\n",
       "      <td>4.19</td>\n",
       "    </tr>\n",
       "    <tr>\n",
       "      <th>4</th>\n",
       "      <td>Shawshank Redemption, The (1994)</td>\n",
       "      <td>4.43</td>\n",
       "    </tr>\n",
       "  </tbody>\n",
       "</table>\n",
       "</div>"
      ],
      "text/plain": [
       "                              title  avg_rating\n",
       "0               Pulp Fiction (1994)        4.20\n",
       "1               Forrest Gump (1994)        4.16\n",
       "2  Silence of the Lambs, The (1991)        4.16\n",
       "3                Matrix, The (1999)        4.19\n",
       "4  Shawshank Redemption, The (1994)        4.43"
      ]
     },
     "execution_count": 26,
     "metadata": {},
     "output_type": "execute_result"
    }
   ],
   "source": [
    "# testing the function on the default parameters\n",
    "content_based()"
   ]
  },
  {
   "cell_type": "code",
   "execution_count": 27,
   "id": "f6a23200",
   "metadata": {},
   "outputs": [
    {
     "name": "stdout",
     "output_type": "stream",
     "text": [
      "Top 10 Movies Like [Pulp Fiction (1994)]\n"
     ]
    },
    {
     "data": {
      "text/html": [
       "<div>\n",
       "<style scoped>\n",
       "    .dataframe tbody tr th:only-of-type {\n",
       "        vertical-align: middle;\n",
       "    }\n",
       "\n",
       "    .dataframe tbody tr th {\n",
       "        vertical-align: top;\n",
       "    }\n",
       "\n",
       "    .dataframe thead th {\n",
       "        text-align: right;\n",
       "    }\n",
       "</style>\n",
       "<table border=\"1\" class=\"dataframe\">\n",
       "  <thead>\n",
       "    <tr style=\"text-align: right;\">\n",
       "      <th></th>\n",
       "      <th>title</th>\n",
       "      <th>rating</th>\n",
       "    </tr>\n",
       "  </thead>\n",
       "  <tbody>\n",
       "    <tr>\n",
       "      <th>0</th>\n",
       "      <td>Dazed and Confused (1993)</td>\n",
       "      <td>4.0</td>\n",
       "    </tr>\n",
       "    <tr>\n",
       "      <th>1</th>\n",
       "      <td>Mrs. Doubtfire (1993)</td>\n",
       "      <td>3.0</td>\n",
       "    </tr>\n",
       "    <tr>\n",
       "      <th>2</th>\n",
       "      <td>Independence Day (a.k.a. ID4) (1996)</td>\n",
       "      <td>3.0</td>\n",
       "    </tr>\n",
       "    <tr>\n",
       "      <th>3</th>\n",
       "      <td>Citizen Kane (1941)</td>\n",
       "      <td>5.0</td>\n",
       "    </tr>\n",
       "    <tr>\n",
       "      <th>4</th>\n",
       "      <td>Abyss, The (1989)</td>\n",
       "      <td>4.0</td>\n",
       "    </tr>\n",
       "    <tr>\n",
       "      <th>5</th>\n",
       "      <td>Alien (1979)</td>\n",
       "      <td>4.0</td>\n",
       "    </tr>\n",
       "    <tr>\n",
       "      <th>6</th>\n",
       "      <td>Psycho (1960)</td>\n",
       "      <td>2.0</td>\n",
       "    </tr>\n",
       "    <tr>\n",
       "      <th>7</th>\n",
       "      <td>Sneakers (1992)</td>\n",
       "      <td>3.0</td>\n",
       "    </tr>\n",
       "    <tr>\n",
       "      <th>8</th>\n",
       "      <td>Rocky (1976)</td>\n",
       "      <td>5.0</td>\n",
       "    </tr>\n",
       "  </tbody>\n",
       "</table>\n",
       "</div>"
      ],
      "text/plain": [
       "                                  title  rating\n",
       "0             Dazed and Confused (1993)     4.0\n",
       "1                 Mrs. Doubtfire (1993)     3.0\n",
       "2  Independence Day (a.k.a. ID4) (1996)     3.0\n",
       "3                   Citizen Kane (1941)     5.0\n",
       "4                     Abyss, The (1989)     4.0\n",
       "5                          Alien (1979)     4.0\n",
       "6                         Psycho (1960)     2.0\n",
       "7                       Sneakers (1992)     3.0\n",
       "8                          Rocky (1976)     5.0"
      ]
     },
     "execution_count": 27,
     "metadata": {},
     "output_type": "execute_result"
    }
   ],
   "source": [
    "# assigning 'Pulp Fiction (1994)' movie to the name parameter \n",
    "# to get 10 recommendations\n",
    "content_based(name='Pulp Fiction (1994)', num=10)"
   ]
  },
  {
   "cell_type": "code",
   "execution_count": 28,
   "id": "379bea42",
   "metadata": {},
   "outputs": [
    {
     "name": "stdout",
     "output_type": "stream",
     "text": [
      "Top 10 Best [war action] Movies\n"
     ]
    },
    {
     "data": {
      "text/html": [
       "<div>\n",
       "<style scoped>\n",
       "    .dataframe tbody tr th:only-of-type {\n",
       "        vertical-align: middle;\n",
       "    }\n",
       "\n",
       "    .dataframe tbody tr th {\n",
       "        vertical-align: top;\n",
       "    }\n",
       "\n",
       "    .dataframe thead th {\n",
       "        text-align: right;\n",
       "    }\n",
       "</style>\n",
       "<table border=\"1\" class=\"dataframe\">\n",
       "  <thead>\n",
       "    <tr style=\"text-align: right;\">\n",
       "      <th></th>\n",
       "      <th>title</th>\n",
       "      <th>avg_rating</th>\n",
       "    </tr>\n",
       "  </thead>\n",
       "  <tbody>\n",
       "    <tr>\n",
       "      <th>0</th>\n",
       "      <td>Duellists, The (1977)</td>\n",
       "      <td>4.17</td>\n",
       "    </tr>\n",
       "    <tr>\n",
       "      <th>1</th>\n",
       "      <td>Bridge at Remagen, The (1969)</td>\n",
       "      <td>4.00</td>\n",
       "    </tr>\n",
       "    <tr>\n",
       "      <th>2</th>\n",
       "      <td>American Sniper (2014)</td>\n",
       "      <td>3.80</td>\n",
       "    </tr>\n",
       "    <tr>\n",
       "      <th>3</th>\n",
       "      <td>Heartbreak Ridge (1986)</td>\n",
       "      <td>3.75</td>\n",
       "    </tr>\n",
       "    <tr>\n",
       "      <th>4</th>\n",
       "      <td>Iron Eagle (1986)</td>\n",
       "      <td>2.29</td>\n",
       "    </tr>\n",
       "    <tr>\n",
       "      <th>5</th>\n",
       "      <td>Red Dawn (2012)</td>\n",
       "      <td>2.25</td>\n",
       "    </tr>\n",
       "    <tr>\n",
       "      <th>6</th>\n",
       "      <td>Missing in Action (1984)</td>\n",
       "      <td>2.08</td>\n",
       "    </tr>\n",
       "    <tr>\n",
       "      <th>7</th>\n",
       "      <td>Iron Eagle II (1988)</td>\n",
       "      <td>1.67</td>\n",
       "    </tr>\n",
       "    <tr>\n",
       "      <th>8</th>\n",
       "      <td>Braddock: Missing in Action III (1988)</td>\n",
       "      <td>1.25</td>\n",
       "    </tr>\n",
       "    <tr>\n",
       "      <th>9</th>\n",
       "      <td>Iron Eagle IV (1995)</td>\n",
       "      <td>1.00</td>\n",
       "    </tr>\n",
       "  </tbody>\n",
       "</table>\n",
       "</div>"
      ],
      "text/plain": [
       "                                    title  avg_rating\n",
       "0                   Duellists, The (1977)        4.17\n",
       "1           Bridge at Remagen, The (1969)        4.00\n",
       "2                  American Sniper (2014)        3.80\n",
       "3                 Heartbreak Ridge (1986)        3.75\n",
       "4                       Iron Eagle (1986)        2.29\n",
       "5                         Red Dawn (2012)        2.25\n",
       "6                Missing in Action (1984)        2.08\n",
       "7                    Iron Eagle II (1988)        1.67\n",
       "8  Braddock: Missing in Action III (1988)        1.25\n",
       "9                    Iron Eagle IV (1995)        1.00"
      ]
     },
     "execution_count": 28,
     "metadata": {},
     "output_type": "execute_result"
    }
   ],
   "source": [
    "# assigning 'war,action' movie to the genre parameter \n",
    "# to get 10 recommendations\n",
    "content_based(genres= 'war action', num=10)"
   ]
  },
  {
   "cell_type": "markdown",
   "id": "f99dd066",
   "metadata": {},
   "source": [
    "The content-based system works perfectly. Then we develop a collaborative filtering system"
   ]
  },
  {
   "cell_type": "markdown",
   "id": "da445012",
   "metadata": {},
   "source": [
    "### Collaborative Filtering\n",
    "Collaborative filtering is a recommendation system technique, that recommends items to a user on the basis of items that are liked/watched by similar users. It filters out a group of people with tastes similar to a particular user then finds items they like and creates a ranked list of suggestions.\n",
    "\n",
    "Collaborative Filtering tries to predict the rating score of the movies the user hasn't watched based on the user's rating on watched movies picks the most predicted rating and recommends that movie to the user. There are two types of collaborative filtering models;\n",
    "1. Neighborhood-Based Models.\n",
    "2. Model-Based Models\n",
    "\n",
    "#### Neighborhood-Based Models.\n",
    "This is a form of collaborative filtering that uses the idea that similar users have similar interests and those users tend to like similar items. With neighborhood-based collaborative filtering methods, we are attempting to quantify just how similar users and items are to one another and get the top N recommendations based on that similarity metric.\n",
    "\n",
    "Now, we will compare the different neighborhood-based models and see which ones perform best based on the RMSE metric.\n",
    "Since the number of users is less than the number of items, we are going to use a user-based similarity system.\n",
    "\n",
    "First, we have to convert the data into **surprise** data format for easy deployment of recommendation systems algorithms."
   ]
  },
  {
   "cell_type": "code",
   "execution_count": 29,
   "id": "69c7de0e",
   "metadata": {},
   "outputs": [
    {
     "name": "stdout",
     "output_type": "stream",
     "text": [
      "Number of users:  610 \n",
      "\n",
      "Number of items:  9724\n"
     ]
    }
   ],
   "source": [
    "# using Reader() from surprise module to convert dataframe into surprise dataformat\n",
    "# instantiating a readerobject\n",
    "reader=Reader()\n",
    "# using the reader to read the trainset\n",
    "dataset= Dataset.load_from_df(ratings_df, reader)\n",
    "\n",
    "data = dataset.build_full_trainset()\n",
    "print('Number of users: ', data.n_users, '\\n')\n",
    "print('Number of items: ', data.n_items)"
   ]
  },
  {
   "cell_type": "code",
   "execution_count": 30,
   "id": "4eff93f9",
   "metadata": {},
   "outputs": [
    {
     "name": "stdout",
     "output_type": "stream",
     "text": [
      "('test_rmse', array([0.97541668, 0.9731678 , 0.97971987, 0.97185494, 0.97529241]))\n",
      "('test_mae', array([0.75281966, 0.75161127, 0.75468812, 0.7492161 , 0.75483368]))\n",
      "('fit_time', (1.1187052726745605, 1.1343157291412354, 1.0481610298156738, 1.080899715423584, 1.055438756942749))\n",
      "('test_time', (2.3222200870513916, 2.463278293609619, 2.398801565170288, 2.4693968296051025, 1.7373087406158447))\n",
      "-------------------------\n",
      "Mean RMSE:  0.9750903387641126\n"
     ]
    }
   ],
   "source": [
    "# create the first neighborhood model based on the 30 most similar users\n",
    "# using pearson similarity metric\n",
    "knn=KNNBasic(k=30,sim_options={'name':'pearson', 'user_based':True})\n",
    "\n",
    "# using the cross_validate() to fit the model on 5 folds\n",
    "results=cross_validate(knn, dataset , cv=5, n_jobs=-1)\n",
    "\n",
    "#printng the valuation test score\n",
    "for values in results.items():\n",
    "    print(values)\n",
    "print(\"-------------------------\")\n",
    "print(\"Mean RMSE: \",results['test_rmse'].mean())      #calculating mean RMSE od the first model"
   ]
  },
  {
   "cell_type": "markdown",
   "id": "226c121d",
   "metadata": {},
   "source": [
    "The first KNN model acheived an rmse of 0.975, meaning its 0.975 units off every prediction, we will the iterate over other KNN models to see which performs best, with lowest rmse score."
   ]
  },
  {
   "cell_type": "code",
   "execution_count": 31,
   "id": "db2811f4",
   "metadata": {
    "scrolled": true
   },
   "outputs": [
    {
     "name": "stdout",
     "output_type": "stream",
     "text": [
      "('test_rmse', array([0.97957081, 0.96272628, 0.97991386, 0.9748552 , 0.96283463]))\n",
      "('test_mae', array([0.75318792, 0.74400394, 0.75356423, 0.74904738, 0.74174978]))\n",
      "('fit_time', (0.9401602745056152, 0.913466215133667, 0.8922066688537598, 0.8300271034240723, 0.7549614906311035))\n",
      "('test_time', (2.1827428340911865, 2.1405246257781982, 2.2562828063964844, 2.1871845722198486, 1.8899421691894531))\n",
      "-------------------------\n",
      "Mean RMSE:  0.9719801568637176\n"
     ]
    }
   ],
   "source": [
    "# create the second neighborhood model based on the 30 most similar users\n",
    "# using cosine similarity metric\n",
    "knn=KNNBasic(k=30,sim_options={'name':\"cosine\", 'user_based':True})\n",
    "\n",
    "# using the cross_validate() to fit the model on 5 folds\n",
    "results=cross_validate(knn, dataset , cv=5, n_jobs=-1)\n",
    "\n",
    "#printng the valuation test scores\n",
    "for values in results.items():\n",
    "    print(values)\n",
    "print(\"-------------------------\")\n",
    "print(\"Mean RMSE: \",results['test_rmse'].mean())    #calculating mean RMSE od the first model"
   ]
  },
  {
   "cell_type": "markdown",
   "id": "97074735",
   "metadata": {},
   "source": [
    "> From the above two models, we see an improvement in the rmse score, therefore, since **Pearson Similarity** has the lowest RMSE hence will be the used similarity parameter on the reamining models."
   ]
  },
  {
   "cell_type": "code",
   "execution_count": 32,
   "id": "29fb1289",
   "metadata": {},
   "outputs": [
    {
     "name": "stdout",
     "output_type": "stream",
     "text": [
      "('test_rmse', array([0.88840973, 0.86707928, 0.88189289, 0.87232241, 0.87434066]))\n",
      "('test_mae', array([0.67786029, 0.663284  , 0.67076786, 0.66513559, 0.67009727]))\n",
      "('fit_time', (1.0736730098724365, 1.0640673637390137, 1.1844239234924316, 1.1812176704406738, 1.0210528373718262))\n",
      "('test_time', (3.370389223098755, 3.6309046745300293, 3.559077501296997, 3.4630038738250732, 2.6180131435394287))\n",
      "-------------------------\n",
      "Mean RMSE:  0.8768089947986585\n"
     ]
    }
   ],
   "source": [
    "# create the anothe neighborhood model based on the 30 most similar users\n",
    "knn =KNNBaseline(k=30,sim_options={'name':'pearson', 'user_based':True})\n",
    "\n",
    "# cross validating the model using 5 folds\n",
    "results=cross_validate(knn, dataset, cv=5, n_jobs=-1)\n",
    "\n",
    "# printing the validation test scores\n",
    "for values in results.items():\n",
    "    print(values)\n",
    "print(\"-------------------------\")\n",
    "print(\"Mean RMSE: \",results['test_rmse'].mean())\n"
   ]
  },
  {
   "cell_type": "markdown",
   "id": "e101c9cf",
   "metadata": {},
   "source": [
    "* Further notable improvement on the test rmse score."
   ]
  },
  {
   "cell_type": "code",
   "execution_count": 33,
   "id": "0c47d32b",
   "metadata": {},
   "outputs": [
    {
     "name": "stdout",
     "output_type": "stream",
     "text": [
      "('test_rmse', array([0.90770041, 0.90490449, 0.87806829, 0.90094226, 0.8921475 ]))\n",
      "('test_mae', array([0.68864801, 0.68840365, 0.66714802, 0.68672827, 0.6826685 ]))\n",
      "('fit_time', (0.9121899604797363, 0.9124341011047363, 0.9151079654693604, 0.8867712020874023, 1.0036251544952393))\n",
      "('test_time', (3.13211989402771, 3.271521806716919, 3.233365535736084, 3.3062679767608643, 2.1760966777801514))\n",
      "-------------------------\n",
      "Mean RMSE:  0.896752590652221\n"
     ]
    }
   ],
   "source": [
    "# create the anothe neighborhood model based on the 30 most similar users\n",
    "knn=KNNWithMeans(k=30,sim_options={'name':'pearson', 'user_based':True})\n",
    "\n",
    "# cross validating the model using 5 folds\n",
    "results=cross_validate(knn, dataset, cv=5, n_jobs=-1)\n",
    "\n",
    "# printing the validation test scores\n",
    "for values in results.items():\n",
    "    print(values)\n",
    "print(\"-------------------------\")\n",
    "print(\"Mean RMSE: \",results['test_rmse'].mean())"
   ]
  },
  {
   "cell_type": "markdown",
   "id": "390a57de",
   "metadata": {},
   "source": [
    "From the above models, best neighborhood based model has an RMSE of 0.876 , which means that on the rating scale of 1 to 5 our predictions are off by 0.8764 from the true rating score.\n",
    "\n",
    "We will compare this RMSE score with the model based models"
   ]
  },
  {
   "cell_type": "markdown",
   "id": "41de0c01",
   "metadata": {},
   "source": [
    "#### Model Based Models"
   ]
  },
  {
   "cell_type": "code",
   "execution_count": 34,
   "id": "6f6994c6",
   "metadata": {},
   "outputs": [
    {
     "name": "stdout",
     "output_type": "stream",
     "text": [
      "('test_rmse', array([0.87196411, 0.8785025 , 0.88167768, 0.87288877, 0.86472978]))\n",
      "('test_mae', array([0.67341973, 0.67265599, 0.67747986, 0.67061389, 0.66397742]))\n",
      "('fit_time', (2.4813284873962402, 2.3909718990325928, 2.3623106479644775, 2.1648640632629395, 1.345689296722412))\n",
      "('test_time', (0.4910261631011963, 0.4544355869293213, 0.4006178379058838, 0.3993539810180664, 0.24643540382385254))\n",
      "-------------------------\n",
      "Mean RMSE:  0.873952566815525\n"
     ]
    }
   ],
   "source": [
    "svd=SVD()\n",
    "results=cross_validate(svd, dataset, cv=5, n_jobs=-1)\n",
    "\n",
    "for values in results.items():\n",
    "    print(values)\n",
    "print(\"-------------------------\")\n",
    "print(\"Mean RMSE: \",results['test_rmse'].mean())"
   ]
  },
  {
   "cell_type": "markdown",
   "id": "56198503",
   "metadata": {},
   "source": [
    "The first baseline model-based model with na RMSE of 0.874 has performed better than our best neighborhood based model which had a RMSE of 0.877.\n",
    "Using the GridSearchCv we will tune the SVD model inorder to improve the training RMSE scores."
   ]
  },
  {
   "cell_type": "code",
   "execution_count": 35,
   "id": "e6a83215",
   "metadata": {},
   "outputs": [
    {
     "name": "stdout",
     "output_type": "stream",
     "text": [
      "{'rmse': 0.8530142633193332, 'mae': 0.6526078301728836}\n",
      "{'rmse': {'n_factors': 300, 'n_epochs': 50, 'lr_all': 0.01, 'reg_all': 0.05}, 'mae': {'n_factors': 300, 'n_epochs': 50, 'lr_all': 0.01, 'reg_all': 0.05}}\n"
     ]
    }
   ],
   "source": [
    "# creating the parameter grid\n",
    "params={'n_factors': [100,200,300],    #number of latent factors\n",
    "        'n_epochs': [20,30,50],        #number of epoches\n",
    "        'lr_all': [0.01,0.005],        #learning rate\n",
    "        'reg_all': [0.01,0.05]}        #regulaeization parameter\n",
    "\n",
    "\n",
    "# instatiating the GridSearchCv() using the defined parameters\n",
    "grid=GridSearchCV( SVD , param_grid=params,  cv=5, n_jobs=-1 )\n",
    "\n",
    "#fiting the grid on the data\n",
    "grid.fit(dataset)\n",
    "\n",
    "# printing the obtained best parameters\n",
    "print(grid.best_score)\n",
    "print(grid.best_params)"
   ]
  },
  {
   "cell_type": "code",
   "execution_count": 36,
   "id": "4a966892",
   "metadata": {},
   "outputs": [
    {
     "name": "stdout",
     "output_type": "stream",
     "text": [
      "('test_rmse', array([0.85550137, 0.85534878, 0.85063968, 0.86398194, 0.84526119]))\n",
      "('test_mae', array([0.65438787, 0.65792144, 0.65347071, 0.6596767 , 0.64702414]))\n",
      "('fit_time', (11.375709533691406, 11.464138507843018, 11.497217178344727, 11.323900699615479, 9.958245038986206))\n",
      "('test_time', (0.4187014102935791, 0.4204881191253662, 0.3821561336517334, 0.3882782459259033, 0.3666987419128418))\n",
      "-------------------------\n",
      "Mean RMSE:  0.8541465900803697\n"
     ]
    }
   ],
   "source": [
    "# using the obtained best parameters to create an SVD() model\n",
    "svd=SVD( n_factors=300 , n_epochs=50 , lr_all=0.01 , reg_all=0.05 )\n",
    "\n",
    "# cross valifating the model\n",
    "results=cross_validate(svd, dataset, cv=5, n_jobs=-1)\n",
    "\n",
    "# prining the validation test score\n",
    "for values in results.items():\n",
    "    print(values)\n",
    "print(\"-------------------------\")\n",
    "print(\"Mean RMSE: \",results['test_rmse'].mean())"
   ]
  },
  {
   "cell_type": "markdown",
   "id": "8ec174e7",
   "metadata": {},
   "source": [
    "Based on this last SVD() model and the best neighborhood model (rmse=0.88), we conclude that the tuned_svd model performed better than the other collaborative filtering models with an RMSE of 0.85. This RMSE score indicates that the model is off by an average of 0.85 on each prediction on a scale of (1-5) output values.\n",
    "\n",
    "Therefore we will use this svd model to make predictions and thereafter recommendations"
   ]
  },
  {
   "cell_type": "code",
   "execution_count": 37,
   "id": "e655d31b",
   "metadata": {},
   "outputs": [
    {
     "data": {
      "text/plain": [
       "<surprise.prediction_algorithms.matrix_factorization.SVD at 0x2a1ef10d780>"
      ]
     },
     "execution_count": 37,
     "metadata": {},
     "output_type": "execute_result"
    }
   ],
   "source": [
    "# instatiating an SVD model while using the obtained paameters\n",
    "svd=SVD( n_factors=300 , n_epochs=50 , lr_all=0.01 , reg_all=0.05 )\n",
    "\n",
    "# fiting the model on the surprise dataformat\n",
    "svd.fit(data)"
   ]
  },
  {
   "cell_type": "code",
   "execution_count": 38,
   "id": "5c954935",
   "metadata": {},
   "outputs": [
    {
     "data": {
      "text/plain": [
       "Prediction(uid='10', iid='5', r_ui=None, est=3.501556983616962, details={'was_impossible': False})"
      ]
     },
     "execution_count": 38,
     "metadata": {},
     "output_type": "execute_result"
    }
   ],
   "source": [
    "# using the model them we try and make a prediction of user 10, on item 5\n",
    "svd.predict('10','5')\n",
    "\n",
    "# the predicted rating is 3.5"
   ]
  },
  {
   "cell_type": "markdown",
   "id": "2076459e",
   "metadata": {},
   "source": [
    "> First before creating a collaborative filtering function, we will fitrs create a funtion that suggest movies to users to rate them that are filtered based on user defined genre. "
   ]
  },
  {
   "cell_type": "code",
   "execution_count": 39,
   "id": "c6556b8f",
   "metadata": {},
   "outputs": [],
   "source": [
    "# firts we will define a function that rates movies\n",
    "\n",
    "def rater( df ,genre:str= None, num: int=5, ):\n",
    "    \"\"\"\n",
    "    The functions takes the following inputs:\n",
    "    df: DataFrame - a dataframe containing the movie ids, name of movie, and genres\n",
    "    num: int - number of ratings\n",
    "    genre: string - a specific genre from which to draw movies\n",
    "    \n",
    "    Then randomly draws a movie title from the dataframe for the user to rate\n",
    "    \"\"\"\n",
    "    # assigning our new user a user id\n",
    "    user_id=df.userId.max()+1                                               \n",
    "    movies_rated=pd.DataFrame()   # creating an empty dataframe to append the new users rated movies\n",
    "    \n",
    "    while num>0:  \n",
    "        if genre:                                                 # while genre parameter is not None\n",
    "            genre=genre.capitalize()                              # cpitaize the input genre for format conformity\n",
    "            movie=df.loc[ df.genres.str.contains(genre)].sample(1) #sampling one movie from containing the input genre\n",
    "            \n",
    "        else:                                                      # if no genre input is passed \n",
    "            movie=df.sample(1)                                     # then a random movie is sampleform our dataframe\n",
    "        \n",
    "        print(movie[['title','rating']])                           # printing thesampled movie title\n",
    "        print()    \n",
    "        rating=input(\"Enter rating of this movie, if you haven't watched Enter: \") #asking for user nput\n",
    "        \n",
    "        # a function that ensure correct rating o scale 1-5 is entered\n",
    "        def checker(rating):\n",
    "            if (len(rating)!= 0):\n",
    "                while (int(rating)>5) :\n",
    "                    print(\"Enter valid rating, scale of 1-5 or Enter\")  \n",
    "                    rating= input()\n",
    "                return rating\n",
    "            else: return rating\n",
    "        # calling the function to confirm the entered rating \n",
    "        rating = checker(rating)\n",
    "        \n",
    "        if len(rating) == 0:                                        # if no rating is entered \n",
    "            num-=1                                                  # the jumps to select another movie\n",
    "            continue\n",
    "        else :                                                      # if a rating is entered \n",
    "            movie.loc[:,('userId')]= user_id                        # then the selected movie is assigned the user id\n",
    "            movie.loc[:,('rating')]=rating\n",
    "            movies_rated=pd.concat([movies_rated, movie], axis=0)   # the movie is added to our new user rated dataframe\n",
    "            num-=1                                                  # then anothe movie is suggested till num==0\n",
    "    return movies_rated.reset_index(drop=True)                      # the rated movied are returned inform of a dataframe"
   ]
  },
  {
   "cell_type": "code",
   "execution_count": 40,
   "id": "cadff08c",
   "metadata": {
    "scrolled": false
   },
   "outputs": [
    {
     "name": "stdout",
     "output_type": "stream",
     "text": [
      "                   title  rating\n",
      "91837  Thing, The (1982)     5.0\n",
      "\n",
      "Enter rating of this movie, if you haven't watched Enter: 3\n",
      "                         title  rating\n",
      "11966  Django Unchained (2012)     5.0\n",
      "\n",
      "Enter rating of this movie, if you haven't watched Enter: 4\n",
      "                  title  rating\n",
      "79613  Daredevil (2003)     2.0\n",
      "\n",
      "Enter rating of this movie, if you haven't watched Enter: 3\n"
     ]
    },
    {
     "data": {
      "text/html": [
       "<div>\n",
       "<style scoped>\n",
       "    .dataframe tbody tr th:only-of-type {\n",
       "        vertical-align: middle;\n",
       "    }\n",
       "\n",
       "    .dataframe tbody tr th {\n",
       "        vertical-align: top;\n",
       "    }\n",
       "\n",
       "    .dataframe thead th {\n",
       "        text-align: right;\n",
       "    }\n",
       "</style>\n",
       "<table border=\"1\" class=\"dataframe\">\n",
       "  <thead>\n",
       "    <tr style=\"text-align: right;\">\n",
       "      <th></th>\n",
       "      <th>userId</th>\n",
       "      <th>movieId</th>\n",
       "      <th>rating</th>\n",
       "      <th>title</th>\n",
       "      <th>genres</th>\n",
       "      <th>avg_rating</th>\n",
       "    </tr>\n",
       "  </thead>\n",
       "  <tbody>\n",
       "    <tr>\n",
       "      <th>0</th>\n",
       "      <td>611</td>\n",
       "      <td>2288</td>\n",
       "      <td>3</td>\n",
       "      <td>Thing, The (1982)</td>\n",
       "      <td>Action,Horror,Sci-Fi,Thriller</td>\n",
       "      <td>3.93</td>\n",
       "    </tr>\n",
       "    <tr>\n",
       "      <th>1</th>\n",
       "      <td>611</td>\n",
       "      <td>99114</td>\n",
       "      <td>4</td>\n",
       "      <td>Django Unchained (2012)</td>\n",
       "      <td>Action,Drama,Western</td>\n",
       "      <td>3.94</td>\n",
       "    </tr>\n",
       "    <tr>\n",
       "      <th>2</th>\n",
       "      <td>611</td>\n",
       "      <td>6157</td>\n",
       "      <td>3</td>\n",
       "      <td>Daredevil (2003)</td>\n",
       "      <td>Action,Crime</td>\n",
       "      <td>2.50</td>\n",
       "    </tr>\n",
       "  </tbody>\n",
       "</table>\n",
       "</div>"
      ],
      "text/plain": [
       "   userId  movieId rating                    title   \n",
       "0     611     2288      3        Thing, The (1982)  \\\n",
       "1     611    99114      4  Django Unchained (2012)   \n",
       "2     611     6157      3         Daredevil (2003)   \n",
       "\n",
       "                          genres  avg_rating  \n",
       "0  Action,Horror,Sci-Fi,Thriller        3.93  \n",
       "1           Action,Drama,Western        3.94  \n",
       "2                   Action,Crime        2.50  "
      ]
     },
     "execution_count": 40,
     "metadata": {},
     "output_type": "execute_result"
    }
   ],
   "source": [
    "rater(movies,'Action', 3)"
   ]
  },
  {
   "cell_type": "markdown",
   "id": "b714c4d9",
   "metadata": {},
   "source": [
    "> With the defined rated() function, we proceed to create a collaborative filtering function  while using our SVD model"
   ]
  },
  {
   "cell_type": "code",
   "execution_count": 41,
   "id": "99291dc2",
   "metadata": {},
   "outputs": [],
   "source": [
    "def cf_recommender(df,num:int=5, genre:str=None):\n",
    "    \"\"\"\n",
    "    The function takes the following inputs;\n",
    "    \n",
    "    df: DataFrame - a dataframe containing the movie ids, name of movie, and genres\n",
    "    num:int - number of ratings to recommend\n",
    "    genre - a specific genre input from user\n",
    "    \n",
    "    The function the takes user ratings and appends then to the dataframe then fits this new dataframe to the SVD model\n",
    "    The predicts this users rating on all the movie in the dataframe then selects the top predictions and \n",
    "    recomends those movies\n",
    "    \"\"\"\n",
    "    # calling the rater function for user to enter movie ratings\n",
    "    user_ratings=rater(df=df,num=num, genre=genre)\n",
    "    \n",
    "    # then add the user ratings to our df\n",
    "    df=pd.concat([df,user_ratings],axis=0)\n",
    "\n",
    "    # convert the nwe dataset into surprise format\n",
    "    dataset = Dataset.load_from_df(df[['userId','movieId','rating']],reader)\n",
    "    \n",
    "    # then fit the surprise data to the SVD\n",
    "    svd = SVD(n_factors=300 , n_epochs=50 , lr_all=0.01 , reg_all=0.05)\n",
    "    svd.fit(dataset.build_full_trainset())\n",
    "    \n",
    "    # extract the user rating in the ratings dataframe\n",
    "    user_id=user_ratings['userId'].values[0]\n",
    "    \n",
    "    #if a genre input is passed the filter our database according to the entered genre\n",
    "    if genre:\n",
    "        df=df.loc[df.genres.str.contains(genre.capitalize())]\n",
    "        \n",
    "    #create an empty list to append the model predictions\n",
    "    user_predictions=[]\n",
    "    \n",
    "    # loopin over all the unique movie ids in the dataframe and appending the predictions to user prediction list\n",
    "    for  iid in df.movieId.unique():\n",
    "        user_predictions.append( (iid , svd.predict(user_id, iid)[3]))\n",
    "    \n",
    "    # sorting the predictions in descending order of the predictions values\n",
    "    top_pred = sorted(user_predictions , key =lambda x: x[1], reverse=True)\n",
    "    \n",
    "    # selecting the top 'num'(number of predictions) prediction indicies\n",
    "    indices=[i[0] for i in top_pred[:num]]  \n",
    "    \n",
    "    #using the extracted indices them extract the movie titles\n",
    "    rec = df[['movieId','title','rating']].loc[ df['movieId'].isin(indices)].drop_duplicates('movieId')\n",
    "    return rec[['title','rating']].reset_index(drop=True)  #then retun the movie titles and ratings"
   ]
  },
  {
   "cell_type": "code",
   "execution_count": 42,
   "id": "e83f4fdf",
   "metadata": {
    "scrolled": false
   },
   "outputs": [
    {
     "name": "stdout",
     "output_type": "stream",
     "text": [
      "                    title  rating\n",
      "6854  Finding Nemo (2003)     5.0\n",
      "\n",
      "Enter rating of this movie, if you haven't watched Enter: 4\n",
      "                                        title  rating\n",
      "35685  Nightmare Before Christmas, The (1993)     4.0\n",
      "\n",
      "Enter rating of this movie, if you haven't watched Enter: 3\n",
      "             title  rating\n",
      "49138  Antz (1998)     3.0\n",
      "\n",
      "Enter rating of this movie, if you haven't watched Enter: 4\n",
      "                title  rating\n",
      "26078  Aladdin (1992)     4.0\n",
      "\n",
      "Enter rating of this movie, if you haven't watched Enter: 2\n"
     ]
    },
    {
     "data": {
      "text/html": [
       "<div>\n",
       "<style scoped>\n",
       "    .dataframe tbody tr th:only-of-type {\n",
       "        vertical-align: middle;\n",
       "    }\n",
       "\n",
       "    .dataframe tbody tr th {\n",
       "        vertical-align: top;\n",
       "    }\n",
       "\n",
       "    .dataframe thead th {\n",
       "        text-align: right;\n",
       "    }\n",
       "</style>\n",
       "<table border=\"1\" class=\"dataframe\">\n",
       "  <thead>\n",
       "    <tr style=\"text-align: right;\">\n",
       "      <th></th>\n",
       "      <th>title</th>\n",
       "      <th>rating</th>\n",
       "    </tr>\n",
       "  </thead>\n",
       "  <tbody>\n",
       "    <tr>\n",
       "      <th>0</th>\n",
       "      <td>Tangled (2010)</td>\n",
       "      <td>3.5</td>\n",
       "    </tr>\n",
       "    <tr>\n",
       "      <th>1</th>\n",
       "      <td>Fantastic Mr. Fox (2009)</td>\n",
       "      <td>3.5</td>\n",
       "    </tr>\n",
       "    <tr>\n",
       "      <th>2</th>\n",
       "      <td>Asterix and the Vikings (Astérix et les Viking...</td>\n",
       "      <td>5.0</td>\n",
       "    </tr>\n",
       "    <tr>\n",
       "      <th>3</th>\n",
       "      <td>Anne of Green Gables: The Sequel (a.k.a. Anne ...</td>\n",
       "      <td>5.0</td>\n",
       "    </tr>\n",
       "  </tbody>\n",
       "</table>\n",
       "</div>"
      ],
      "text/plain": [
       "                                               title rating\n",
       "0                                     Tangled (2010)    3.5\n",
       "1                           Fantastic Mr. Fox (2009)    3.5\n",
       "2  Asterix and the Vikings (Astérix et les Viking...    5.0\n",
       "3  Anne of Green Gables: The Sequel (a.k.a. Anne ...    5.0"
      ]
     },
     "execution_count": 42,
     "metadata": {},
     "output_type": "execute_result"
    }
   ],
   "source": [
    "cf_recommender(movies,genre='children', num=4)"
   ]
  },
  {
   "cell_type": "markdown",
   "id": "fd65733c",
   "metadata": {},
   "source": [
    "### Hybrid Recommender Systems\n",
    "In this section, we are going to incorporate both our content-based system and collaborative filtering system inorder to solve the cold start problem.\n",
    "> **Cold start problem** => It occurs when a recommendation system encounters a new user who has no data/movie references in the recommender's database making it difficult to make recommendations to that user.\n",
    "\n",
    "To solve this we will combine our collaborative filtering model together with the content-based model. The only difference in this model is that, when the rater function is called and the user doesn't rate any movies because he/she hasn't watched them the content-based model is called to make the recommendations."
   ]
  },
  {
   "cell_type": "code",
   "execution_count": 43,
   "id": "c75c7f0a",
   "metadata": {},
   "outputs": [],
   "source": [
    "# creating a hybrid recommendetion function\n",
    "# same as the collaborative filtering only have incorperated the content-based model\n",
    "def hybrid(df,num=5, genre=None):\n",
    "    # calling the rater() function\n",
    "    user_ratings=rater(df=df,num=num, genre=genre)\n",
    "        \n",
    "    #when th user ratings come back being blank, ie no ratings given\n",
    "    # then the content-based method is called, which then makes the recommendations\n",
    "    if len(user_ratings)==0:\n",
    "        return content_based()\n",
    "        \n",
    "    df=pd.concat([df,user_ratings],axis=0)\n",
    "        \n",
    "    dataset = Dataset.load_from_df(df[['userId','movieId','rating']],reader)\n",
    "    svd = SVD(n_factors=300 , n_epochs=50 , lr_all=0.01 , reg_all=0.05)\n",
    "    svd.fit(dataset.build_full_trainset())\n",
    "        \n",
    "    user_id=user_ratings['userId'].values[0]\n",
    "    if genre:\n",
    "        df=df.loc[df.genres.str.contains(genre.capitalize())]\n",
    "            \n",
    "    user_predictions=[]\n",
    "    for  iid in df.movieId.unique():\n",
    "        user_predictions.append( (iid , svd.predict(user_id, iid)[3]))\n",
    "        \n",
    "    top_pred = sorted(user_predictions , key =lambda x: x[1], reverse=True) \n",
    "    indices=[i[0] for i in top_pred[:num]]  \n",
    "        \n",
    "    rec = df[['movieId','title','rating']].loc[ df['movieId'].isin(indices)].drop_duplicates('movieId')\n",
    "    return rec[['title','rating']].reset_index(drop=True) "
   ]
  },
  {
   "cell_type": "code",
   "execution_count": 46,
   "id": "60def2f6",
   "metadata": {},
   "outputs": [
    {
     "name": "stdout",
     "output_type": "stream",
     "text": [
      "                               title  rating\n",
      "33115  Brady Bunch Movie, The (1995)     3.0\n",
      "\n",
      "Enter rating of this movie, if you haven't watched Enter: \n",
      "                            title  rating\n",
      "90367  Romancing the Stone (1984)     4.0\n",
      "\n",
      "Enter rating of this movie, if you haven't watched Enter: \n",
      "                  title  rating\n",
      "82531  Firm, The (1993)     3.0\n",
      "\n",
      "Enter rating of this movie, if you haven't watched Enter: \n",
      "                    title  rating\n",
      "100585  Life of Pi (2012)     4.0\n",
      "\n",
      "Enter rating of this movie, if you haven't watched Enter: \n",
      "                     title  rating\n",
      "32514  Finding Nemo (2003)     4.0\n",
      "\n",
      "Enter rating of this movie, if you haven't watched Enter: \n",
      "\n",
      "Top 5 Most Rated Movies \n",
      " ------------------------------\n",
      "                                 title  avg_rating\n",
      "0                Secrets & Lies (1996)        4.59\n",
      "1  Guess Who's Coming to Dinner (1967)        4.55\n",
      "2                Paths of Glory (1957)        4.54\n",
      "3     Streetcar Named Desire, A (1951)        4.47\n",
      "4     Celebration, The (Festen) (1998)        4.46\n",
      "\n",
      "Top 5 Most Watched Movies \n",
      " ---------------------------- \n"
     ]
    },
    {
     "data": {
      "text/html": [
       "<div>\n",
       "<style scoped>\n",
       "    .dataframe tbody tr th:only-of-type {\n",
       "        vertical-align: middle;\n",
       "    }\n",
       "\n",
       "    .dataframe tbody tr th {\n",
       "        vertical-align: top;\n",
       "    }\n",
       "\n",
       "    .dataframe thead th {\n",
       "        text-align: right;\n",
       "    }\n",
       "</style>\n",
       "<table border=\"1\" class=\"dataframe\">\n",
       "  <thead>\n",
       "    <tr style=\"text-align: right;\">\n",
       "      <th></th>\n",
       "      <th>title</th>\n",
       "      <th>avg_rating</th>\n",
       "    </tr>\n",
       "  </thead>\n",
       "  <tbody>\n",
       "    <tr>\n",
       "      <th>0</th>\n",
       "      <td>Pulp Fiction (1994)</td>\n",
       "      <td>4.20</td>\n",
       "    </tr>\n",
       "    <tr>\n",
       "      <th>1</th>\n",
       "      <td>Forrest Gump (1994)</td>\n",
       "      <td>4.16</td>\n",
       "    </tr>\n",
       "    <tr>\n",
       "      <th>2</th>\n",
       "      <td>Silence of the Lambs, The (1991)</td>\n",
       "      <td>4.16</td>\n",
       "    </tr>\n",
       "    <tr>\n",
       "      <th>3</th>\n",
       "      <td>Matrix, The (1999)</td>\n",
       "      <td>4.19</td>\n",
       "    </tr>\n",
       "    <tr>\n",
       "      <th>4</th>\n",
       "      <td>Shawshank Redemption, The (1994)</td>\n",
       "      <td>4.43</td>\n",
       "    </tr>\n",
       "  </tbody>\n",
       "</table>\n",
       "</div>"
      ],
      "text/plain": [
       "                              title  avg_rating\n",
       "0               Pulp Fiction (1994)        4.20\n",
       "1               Forrest Gump (1994)        4.16\n",
       "2  Silence of the Lambs, The (1991)        4.16\n",
       "3                Matrix, The (1999)        4.19\n",
       "4  Shawshank Redemption, The (1994)        4.43"
      ]
     },
     "execution_count": 46,
     "metadata": {},
     "output_type": "execute_result"
    }
   ],
   "source": [
    "# calling the hybrid function and passing no ratings\n",
    "hybrid(movies)"
   ]
  },
  {
   "cell_type": "markdown",
   "id": "2da04304",
   "metadata": {},
   "source": [
    "* As observed above , with no ratings passed , the system has recomended the most watched movies and the most rated movied which was part of the content-based model.\n",
    "\n",
    "Consolidating our system all in one class"
   ]
  },
  {
   "cell_type": "code",
   "execution_count": 47,
   "id": "1c2b6911",
   "metadata": {},
   "outputs": [],
   "source": [
    "class RecSystem:\n",
    "    def __init__(self, movies):\n",
    "        self.movies=movies\n",
    "        \n",
    "    def content_based( self,name:str= None , genres: str =None, num:int=5):\n",
    "        self.name=name\n",
    "        self.num=num\n",
    "        self.genres=genres\n",
    "        \n",
    "        if name:\n",
    "            index_=movies.loc[movies.title== name].index[0]                 \n",
    "            sim=list(enumerate(similarity[index_]))                          \n",
    "            sim=sorted(sim, key=lambda x: x[1], reverse=True)[1:num]        \n",
    "            indices= [i[0] for i in sim]                                    \n",
    "            print(f\"Top {num} Movies Like [{name}]\")\n",
    "                                                                             \n",
    "            return movies.loc[indices,('title','rating')].reset_index(drop=True)\n",
    "\n",
    "        else:          \n",
    "            if genres: \n",
    "                input_=[ x.capitalize() for x in genres.split(' ')]            \n",
    "\n",
    "                vector= vectorise(input_)                                      \n",
    "                vector=np.array(vector).reshape(1,-1)\n",
    "                df=movies.drop_duplicates('movieId').reset_index(drop=True)    \n",
    "                cos_scores=[]\n",
    "                for i,vec in enumerate(df.genres):                             \n",
    "                    vec=np.array(vectorise(vec)).reshape(1,-1)                 \n",
    "                    cos_scores.append((i,cosine_similarity(vector,vec)))  \n",
    "                cos_scores = sorted(cos_scores, key=lambda x: x[1], reverse=True)[:num]\n",
    "                indices = [i[0] for i in cos_scores]\n",
    "                print(f\"Top {num} Best [{genres}] Movies\")\n",
    "                rec= df.loc[indices, ('title','avg_rating')].sort_values(by='avg_rating', ascending=False)\n",
    "                return rec.reset_index(drop=True)\n",
    "\n",
    "            else:\n",
    "                titles=movies.groupby('title')[['userId']].count().sort_values('userId', ascending=False)\n",
    "                titles=titles.loc[titles.userId>=10].index\n",
    "\n",
    "                rec= movies[['title','avg_rating']].loc[ movies.title.isin(titles)].drop_duplicates('title')\n",
    "            \n",
    "                rec_=rec.sort_values(by='avg_rating', ascending=False)[:num] \n",
    "\n",
    "                print(f\"\\nTop {num} Most Rated Movies \\n ------------------------------\")\n",
    "                print(rec_.reset_index(drop=True))      #recommends those top most rated movies\n",
    "                print()\n",
    "                rec=movies[['title','avg_rating']].loc[ movies.title.isin(titles[:num])].drop_duplicates('title')            \n",
    "                print(f'Top {num} Most Watched Movies \\n ---------------------------- ')\n",
    "\n",
    "                return rec.reset_index(drop=True)   \n",
    "\n",
    "    def hybrid(self,df=movies,num=5, genre=None):\n",
    "        self.df=df\n",
    "        self.num=num\n",
    "        self.genre=genre\n",
    "        \n",
    "        user_ratings=rater(df=df,num=num, genre=genre)\n",
    "        if len(user_ratings)==0:\n",
    "            return content_based()\n",
    "\n",
    "        df=pd.concat([df,user_ratings],axis=0)\n",
    "\n",
    "        dataset = Dataset.load_from_df(df[['userId','movieId','rating']],reader)\n",
    "        svd = SVD(n_factors=300 , n_epochs=50 , lr_all=0.01 , reg_all=0.05)\n",
    "        svd.fit(dataset.build_full_trainset())\n",
    "\n",
    "        user_id=user_ratings['userId'].values[0]\n",
    "        if genre:\n",
    "            df=df.loc[df.genres.str.contains(genre.capitalize())]\n",
    "\n",
    "        user_predictions=[]\n",
    "        for  iid in df.movieId.unique():\n",
    "            user_predictions.append( (iid , svd.predict(user_id, iid)[3]))\n",
    "\n",
    "        top_pred = sorted(user_predictions , key =lambda x: x[1], reverse=True) \n",
    "        indices=[i[0] for i in top_pred[:num]]  \n",
    "\n",
    "        rec = df[['movieId','title','rating']].loc[ df['movieId'].isin(indices)].drop_duplicates('movieId')\n",
    "        return rec[['title','rating']].reset_index(drop=True) \n",
    "    \n",
    "    "
   ]
  },
  {
   "cell_type": "code",
   "execution_count": 48,
   "id": "503fe844",
   "metadata": {},
   "outputs": [
    {
     "name": "stdout",
     "output_type": "stream",
     "text": [
      "\n",
      "Top 5 Most Rated Movies \n",
      " ------------------------------\n",
      "                                 title  avg_rating\n",
      "0                Secrets & Lies (1996)        4.59\n",
      "1  Guess Who's Coming to Dinner (1967)        4.55\n",
      "2                Paths of Glory (1957)        4.54\n",
      "3     Streetcar Named Desire, A (1951)        4.47\n",
      "4     Celebration, The (Festen) (1998)        4.46\n",
      "\n",
      "Top 5 Most Watched Movies \n",
      " ---------------------------- \n"
     ]
    },
    {
     "data": {
      "text/html": [
       "<div>\n",
       "<style scoped>\n",
       "    .dataframe tbody tr th:only-of-type {\n",
       "        vertical-align: middle;\n",
       "    }\n",
       "\n",
       "    .dataframe tbody tr th {\n",
       "        vertical-align: top;\n",
       "    }\n",
       "\n",
       "    .dataframe thead th {\n",
       "        text-align: right;\n",
       "    }\n",
       "</style>\n",
       "<table border=\"1\" class=\"dataframe\">\n",
       "  <thead>\n",
       "    <tr style=\"text-align: right;\">\n",
       "      <th></th>\n",
       "      <th>title</th>\n",
       "      <th>avg_rating</th>\n",
       "    </tr>\n",
       "  </thead>\n",
       "  <tbody>\n",
       "    <tr>\n",
       "      <th>0</th>\n",
       "      <td>Pulp Fiction (1994)</td>\n",
       "      <td>4.20</td>\n",
       "    </tr>\n",
       "    <tr>\n",
       "      <th>1</th>\n",
       "      <td>Forrest Gump (1994)</td>\n",
       "      <td>4.16</td>\n",
       "    </tr>\n",
       "    <tr>\n",
       "      <th>2</th>\n",
       "      <td>Silence of the Lambs, The (1991)</td>\n",
       "      <td>4.16</td>\n",
       "    </tr>\n",
       "    <tr>\n",
       "      <th>3</th>\n",
       "      <td>Matrix, The (1999)</td>\n",
       "      <td>4.19</td>\n",
       "    </tr>\n",
       "    <tr>\n",
       "      <th>4</th>\n",
       "      <td>Shawshank Redemption, The (1994)</td>\n",
       "      <td>4.43</td>\n",
       "    </tr>\n",
       "  </tbody>\n",
       "</table>\n",
       "</div>"
      ],
      "text/plain": [
       "                              title  avg_rating\n",
       "0               Pulp Fiction (1994)        4.20\n",
       "1               Forrest Gump (1994)        4.16\n",
       "2  Silence of the Lambs, The (1991)        4.16\n",
       "3                Matrix, The (1999)        4.19\n",
       "4  Shawshank Redemption, The (1994)        4.43"
      ]
     },
     "execution_count": 48,
     "metadata": {},
     "output_type": "execute_result"
    }
   ],
   "source": [
    "# instantiate the recommendation class\n",
    "rec= RecSystem(movies)\n",
    "rec.content_based()"
   ]
  },
  {
   "cell_type": "code",
   "execution_count": 49,
   "id": "0b80af8e",
   "metadata": {},
   "outputs": [
    {
     "name": "stdout",
     "output_type": "stream",
     "text": [
      "                      title  rating\n",
      "52177  The Machinist (2004)     4.0\n",
      "\n",
      "Enter rating of this movie, if you haven't watched Enter: 3\n",
      "                  title  rating\n",
      "83402  Moneyball (2011)     4.5\n",
      "\n",
      "Enter rating of this movie, if you haven't watched Enter: 2\n",
      "                title  rating\n",
      "94950  RoboCop (2014)     2.5\n",
      "\n",
      "Enter rating of this movie, if you haven't watched Enter: 3\n",
      "                   title  rating\n",
      "59896  Party, The (1968)     3.0\n",
      "\n",
      "Enter rating of this movie, if you haven't watched Enter: 3\n",
      "                           title  rating\n",
      "53650  Fifth Element, The (1997)     4.0\n",
      "\n",
      "Enter rating of this movie, if you haven't watched Enter: 4\n"
     ]
    },
    {
     "data": {
      "text/html": [
       "<div>\n",
       "<style scoped>\n",
       "    .dataframe tbody tr th:only-of-type {\n",
       "        vertical-align: middle;\n",
       "    }\n",
       "\n",
       "    .dataframe tbody tr th {\n",
       "        vertical-align: top;\n",
       "    }\n",
       "\n",
       "    .dataframe thead th {\n",
       "        text-align: right;\n",
       "    }\n",
       "</style>\n",
       "<table border=\"1\" class=\"dataframe\">\n",
       "  <thead>\n",
       "    <tr style=\"text-align: right;\">\n",
       "      <th></th>\n",
       "      <th>title</th>\n",
       "      <th>rating</th>\n",
       "    </tr>\n",
       "  </thead>\n",
       "  <tbody>\n",
       "    <tr>\n",
       "      <th>0</th>\n",
       "      <td>High Noon (1952)</td>\n",
       "      <td>5.0</td>\n",
       "    </tr>\n",
       "    <tr>\n",
       "      <th>1</th>\n",
       "      <td>Life Is Beautiful (La Vita è bella) (1997)</td>\n",
       "      <td>1.0</td>\n",
       "    </tr>\n",
       "    <tr>\n",
       "      <th>2</th>\n",
       "      <td>Three Billboards Outside Ebbing, Missouri (2017)</td>\n",
       "      <td>4.5</td>\n",
       "    </tr>\n",
       "    <tr>\n",
       "      <th>3</th>\n",
       "      <td>Dragon Ball Z: The History of Trunks (Doragon ...</td>\n",
       "      <td>2.0</td>\n",
       "    </tr>\n",
       "    <tr>\n",
       "      <th>4</th>\n",
       "      <td>Jetée, La (1962)</td>\n",
       "      <td>5.0</td>\n",
       "    </tr>\n",
       "  </tbody>\n",
       "</table>\n",
       "</div>"
      ],
      "text/plain": [
       "                                               title rating\n",
       "0                                   High Noon (1952)    5.0\n",
       "1         Life Is Beautiful (La Vita è bella) (1997)    1.0\n",
       "2   Three Billboards Outside Ebbing, Missouri (2017)    4.5\n",
       "3  Dragon Ball Z: The History of Trunks (Doragon ...    2.0\n",
       "4                                   Jetée, La (1962)    5.0"
      ]
     },
     "execution_count": 49,
     "metadata": {},
     "output_type": "execute_result"
    }
   ],
   "source": [
    "rec.hybrid()"
   ]
  },
  {
   "cell_type": "markdown",
   "id": "e0a9ccca",
   "metadata": {},
   "source": [
    "## Conclusions"
   ]
  },
  {
   "cell_type": "markdown",
   "id": "0ec38c39",
   "metadata": {},
   "source": [
    "1. From EDA; **Film-Noir** , **War**, **Documentary**, **Crime** and **Drama** , are the most rated genres in our dataset. \n",
    "The movies contained in this genre categories are the most rated.\n",
    "\n",
    "***\n",
    "2. Also \n",
    "**Secrets & Lies (1996)** , **Guess Who's Coming to Dinner (1967)** , **Paths of Glory (1957)** ,  **Forrest Gump (1994)** , **Shawshank Redemption, The (1994)** and **Pulp Fiction (1994)** are the most ranked and watched movies. Therefore they would be of greate influence if they are dislayed on the cover page/ landing page/ index page of the StreamHd platform.\n",
    "***\n",
    "3. The users with Id's **414** , **599** and **474** have rated and watched the most movies, each with above 2,000 movies rated. It would increase custormer satisfaction if these users were either rewarded or offered subsidized charges for their subscriptions.\n",
    "***\n",
    "4. The best user rating predictive model had an RMSE of 0.85, which means that the model is off by 0.85 points on each rating prediction on a scale of (1-5) rating values.\n",
    "***\n",
    "5. We have created a hybrid recommender system that incorporates both content-based and collaborative filtering models in making recommendations hence solving the cold start problem. The model is off by 0.85 in every prediction therefore more more advanced recommendation algorithms cold be used in lowering the prediction errors.\n"
   ]
  },
  {
   "cell_type": "markdown",
   "id": "b5f7c1dc",
   "metadata": {},
   "source": [
    "## Recommendations"
   ]
  },
  {
   "cell_type": "markdown",
   "id": "a636d2bb",
   "metadata": {},
   "source": [
    "1. Display the highly ranked and watched movies on the platform's coverpage/ landing page due to their huge popularity and liking; the movies are; **Secrets & Lies (1996)** , **Guess Who's Coming to Dinner (1967)** , **Paths of Glory (1957)** ,  **Forrest Gump (1994)** , **Shawshank Redemption, The (1994)** and **Pulp Fiction (1994)** . This can serve as a way to entice new users to watch them.\n",
    "***\n",
    "2. In order to boost customer retention and satisfaction, consider implementing reward systems for user loyalty eg discounted subscriptions to the most active/frequent users eg users with the IDs  **414**, **599**, and **474**.\n",
    "***\n",
    "3. To make use of the recommendation system, for providing personalized movie recommendations based on their viewing history and preferences, as it encourage user engagement and interaction with the platform resources while increasing their purchasing thresholds.\n"
   ]
  }
 ],
 "metadata": {
  "kernelspec": {
   "display_name": "Python (learn-env)",
   "language": "python",
   "name": "learn-env"
  },
  "language_info": {
   "codemirror_mode": {
    "name": "ipython",
    "version": 3
   },
   "file_extension": ".py",
   "mimetype": "text/x-python",
   "name": "python",
   "nbconvert_exporter": "python",
   "pygments_lexer": "ipython3",
   "version": "3.10.11"
  },
  "toc": {
   "base_numbering": 1,
   "nav_menu": {},
   "number_sections": true,
   "sideBar": true,
   "skip_h1_title": true,
   "title_cell": "Table of Contents",
   "title_sidebar": "Contents",
   "toc_cell": false,
   "toc_position": {
    "height": "calc(100% - 180px)",
    "left": "10px",
    "top": "150px",
    "width": "256px"
   },
   "toc_section_display": true,
   "toc_window_display": false
  }
 },
 "nbformat": 4,
 "nbformat_minor": 5
}
